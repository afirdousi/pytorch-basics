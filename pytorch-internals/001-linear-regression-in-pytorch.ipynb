{
 "cells": [
  {
   "cell_type": "markdown",
   "metadata": {
    "colab_type": "text",
    "id": "view-in-github"
   },
   "source": [
    "<a href=\"https://colab.research.google.com/github/afirdousi/pytorch-basics/blob/main/001_pytorch_fundamentals.ipynb\" target=\"_parent\"><img src=\"https://colab.research.google.com/assets/colab-badge.svg\" alt=\"Open In Colab\"/></a>"
   ]
  },
  {
   "cell_type": "markdown",
   "metadata": {
    "id": "RRkoYrAMHqyi"
   },
   "source": [
    "\n",
    "\n",
    "1.Check NVIDIA GPU Details\n",
    "2.Import fundamental packages\n",
    "3.Check pytorch version\n",
    "4.Creating differnt types of tensors\n",
    "\n",
    "\n"
   ]
  },
  {
   "cell_type": "code",
   "execution_count": null,
   "metadata": {
    "colab": {
     "base_uri": "https://localhost:8080/"
    },
    "id": "48Uz5GepCJWP",
    "outputId": "d220a902-bf84-4339-91d3-3849e13344b3"
   },
   "outputs": [
    {
     "name": "stdout",
     "output_type": "stream",
     "text": [
      "Thu Aug 17 05:38:24 2023       \n",
      "+-----------------------------------------------------------------------------+\n",
      "| NVIDIA-SMI 525.105.17   Driver Version: 525.105.17   CUDA Version: 12.0     |\n",
      "|-------------------------------+----------------------+----------------------+\n",
      "| GPU  Name        Persistence-M| Bus-Id        Disp.A | Volatile Uncorr. ECC |\n",
      "| Fan  Temp  Perf  Pwr:Usage/Cap|         Memory-Usage | GPU-Util  Compute M. |\n",
      "|                               |                      |               MIG M. |\n",
      "|===============================+======================+======================|\n",
      "|   0  Tesla T4            Off  | 00000000:00:04.0 Off |                    0 |\n",
      "| N/A   51C    P8     9W /  70W |      0MiB / 15360MiB |      0%      Default |\n",
      "|                               |                      |                  N/A |\n",
      "+-------------------------------+----------------------+----------------------+\n",
      "                                                                               \n",
      "+-----------------------------------------------------------------------------+\n",
      "| Processes:                                                                  |\n",
      "|  GPU   GI   CI        PID   Type   Process name                  GPU Memory |\n",
      "|        ID   ID                                                   Usage      |\n",
      "|=============================================================================|\n",
      "|  No running processes found                                                 |\n",
      "+-----------------------------------------------------------------------------+\n"
     ]
    }
   ],
   "source": [
    "#check which GPU you have (SMI = System Management Interface)\n",
    "!nvidia-smi"
   ]
  },
  {
   "cell_type": "code",
   "execution_count": 87,
   "metadata": {
    "colab": {
     "base_uri": "https://localhost:8080/"
    },
    "id": "-L8WYvb_GX2d",
    "outputId": "2953b006-f22c-49b6-a7e3-2407a628c640"
   },
   "outputs": [
    {
     "name": "stdout",
     "output_type": "stream",
     "text": [
      "2.3.1\n"
     ]
    }
   ],
   "source": [
    "import torch\n",
    "import pandas as pd\n",
    "import numpy as np\n",
    "import matplotlib.pyplot as plt\n",
    "print(torch.__version__)"
   ]
  },
  {
   "cell_type": "code",
   "execution_count": null,
   "metadata": {},
   "outputs": [],
   "source": []
  },
  {
   "cell_type": "code",
   "execution_count": 172,
   "metadata": {},
   "outputs": [],
   "source": [
    "# Creating dummy input data\n",
    "x_data = np.array([1,2,3,4,5])\n",
    "\n",
    "# Creating dummy output data (labels)\n",
    "y_data = x_data * 2"
   ]
  },
  {
   "cell_type": "code",
   "execution_count": 89,
   "metadata": {},
   "outputs": [
    {
     "name": "stdout",
     "output_type": "stream",
     "text": [
      "[1 2 3 4 5]\n",
      "[ 2  4  6  8 10]\n"
     ]
    }
   ],
   "source": [
    "print(x_data)\n",
    "print(y_data)"
   ]
  },
  {
   "cell_type": "code",
   "execution_count": 90,
   "metadata": {},
   "outputs": [
    {
     "data": {
      "text/plain": [
       "<matplotlib.collections.PathCollection at 0x31795ae60>"
      ]
     },
     "execution_count": 90,
     "metadata": {},
     "output_type": "execute_result"
    },
    {
     "data": {
      "image/png": "[encoded data removed]",
      "text/plain": [
       "<Figure size 640x480 with 1 Axes>"
      ]
     },
     "metadata": {},
     "output_type": "display_data"
    }
   ],
   "source": [
    "plt.scatter(x_data,y_data)"
   ]
  },
  {
   "cell_type": "code",
   "execution_count": 91,
   "metadata": {},
   "outputs": [],
   "source": [
    "# forward pass\n",
    "def forward(x, weight, bias = 0):\n",
    "    y_hat = x * weight + bias\n",
    "    return y_hat"
   ]
  },
  {
   "cell_type": "code",
   "execution_count": 92,
   "metadata": {},
   "outputs": [],
   "source": [
    "# loss function\n",
    "def loss(y_hat, y):\n",
    "    return (y_hat - y) ** 2 # squared error (not the mean squared error)"
   ]
  },
  {
   "cell_type": "code",
   "execution_count": 93,
   "metadata": {},
   "outputs": [],
   "source": [
    "all_weights = []\n",
    "all_loss = []\n",
    "\n",
    "### initialize weights with random numbers \n",
    "### just loop from 0 to 4 stepping by 0.1\n",
    "for weight in np.arange(0,4,0.1): \n",
    "    l_sum = 0\n",
    "\n",
    "    for i in range(len(x_data)):\n",
    "        y_hat = forward(x_data[i], weight)\n",
    "        l = loss(y_hat, y_data[i])\n",
    "\n",
    "        l_sum += l\n",
    "\n",
    "    all_weights.append(weight)\n",
    "    all_loss.append(l_sum/ len(y_data))"
   ]
  },
  {
   "cell_type": "code",
   "execution_count": 94,
   "metadata": {},
   "outputs": [
    {
     "data": {
      "image/png": "[encoded data removed]",
      "text/plain": [
       "<Figure size 640x480 with 1 Axes>"
      ]
     },
     "metadata": {},
     "output_type": "display_data"
    }
   ],
   "source": [
    "plt.stem(all_weights, all_loss) # x-axis =  , y-axis = loss\n",
    "plt.xlabel('Weights')\n",
    "plt.ylabel('Loss')\n",
    "plt.show()\n",
    "\n",
    "# as weight approaches to 2, the loss is getting smaller and smaller. the min loss is when weight=2"
   ]
  },
  {
   "cell_type": "markdown",
   "metadata": {},
   "source": [
    "# Linear Regression Using PyTorch constructs (tensors, gradients etc.)"
   ]
  },
  {
   "cell_type": "code",
   "execution_count": 117,
   "metadata": {},
   "outputs": [],
   "source": [
    "### Let's do the above in PyTorch using Linear Regression Model\n",
    "\n",
    "x_torch = torch.tensor(x_data).reshape(-1,1)\n",
    "y_torch = torch.tensor(y_data).reshape(-1,1)"
   ]
  },
  {
   "cell_type": "code",
   "execution_count": 96,
   "metadata": {},
   "outputs": [
    {
     "data": {
      "text/plain": [
       "tensor([[1],\n",
       "        [2],\n",
       "        [3],\n",
       "        [4],\n",
       "        [5]])"
      ]
     },
     "execution_count": 96,
     "metadata": {},
     "output_type": "execute_result"
    }
   ],
   "source": [
    "x_torch"
   ]
  },
  {
   "cell_type": "code",
   "execution_count": 97,
   "metadata": {},
   "outputs": [
    {
     "data": {
      "text/plain": [
       "tensor([[ 2],\n",
       "        [ 4],\n",
       "        [ 6],\n",
       "        [ 8],\n",
       "        [10]])"
      ]
     },
     "execution_count": 97,
     "metadata": {},
     "output_type": "execute_result"
    }
   ],
   "source": [
    "y_torch"
   ]
  },
  {
   "cell_type": "code",
   "execution_count": 98,
   "metadata": {},
   "outputs": [],
   "source": [
    "weight = torch.randn(1, requires_grad=True) # requires_grad helps us automatically create gradients for us\n",
    "bias = torch.randn(1, requires_grad=True)"
   ]
  },
  {
   "cell_type": "code",
   "execution_count": 99,
   "metadata": {},
   "outputs": [
    {
     "data": {
      "text/plain": [
       "tensor([0.8352], requires_grad=True)"
      ]
     },
     "execution_count": 99,
     "metadata": {},
     "output_type": "execute_result"
    }
   ],
   "source": [
    "weight"
   ]
  },
  {
   "cell_type": "code",
   "execution_count": 100,
   "metadata": {},
   "outputs": [
    {
     "data": {
      "text/plain": [
       "tensor([-0.4706], requires_grad=True)"
      ]
     },
     "execution_count": 100,
     "metadata": {},
     "output_type": "execute_result"
    }
   ],
   "source": [
    "bias"
   ]
  },
  {
   "cell_type": "code",
   "execution_count": 101,
   "metadata": {},
   "outputs": [],
   "source": [
    "learning_rate = 0.01"
   ]
  },
  {
   "cell_type": "code",
   "execution_count": 102,
   "metadata": {},
   "outputs": [],
   "source": [
    "# Training Model\n",
    "\n",
    "for i in range(1000): # Training Loop: train model 1000 times\n",
    "\n",
    "    # Predict\n",
    "    y_hat = x_torch * weight + bias \n",
    "\n",
    "    # Calculate Loss\n",
    "    loss = torch.sum(torch.pow(y_torch - y_hat,2)/ len(y_torch)) # Mean Squared Error (MSE)\n",
    "\n",
    "    # Do backpropagation\n",
    "    loss.backward() # automatically calculates gradients for us\n",
    "\n",
    "    # Now lets do something with the gradients\n",
    "    with torch.no_grad(): # stop calculating gradient\n",
    "        # update weights and biases\n",
    "        weight -= learning_rate * weight.grad\n",
    "        bias -= learning_rate * bias.grad\n",
    "\n",
    "        # stop accumulation of gradients\n",
    "        weight.grad.zero_()\n",
    "        bias.grad.zero_()"
   ]
  },
  {
   "cell_type": "code",
   "execution_count": 103,
   "metadata": {},
   "outputs": [],
   "source": [
    "# Make prediction with the model\n",
    "y_pred = x_torch * weight + bias"
   ]
  },
  {
   "cell_type": "code",
   "execution_count": 104,
   "metadata": {},
   "outputs": [
    {
     "name": "stdout",
     "output_type": "stream",
     "text": [
      "tensor([[ 1.9966],\n",
      "        [ 3.9979],\n",
      "        [ 5.9992],\n",
      "        [ 8.0005],\n",
      "        [10.0018]], grad_fn=<AddBackward0>)\n",
      "[ 2  4  6  8 10]\n"
     ]
    }
   ],
   "source": [
    "# Lets check if our models predictions is correct by checking y_pred and y_data\n",
    "print(y_pred)\n",
    "print(y_data)"
   ]
  },
  {
   "cell_type": "code",
   "execution_count": 105,
   "metadata": {},
   "outputs": [
    {
     "data": {
      "text/plain": [
       "[<matplotlib.lines.Line2D at 0x317a04790>]"
      ]
     },
     "execution_count": 105,
     "metadata": {},
     "output_type": "execute_result"
    },
    {
     "data": {
      "image/png": "[encoded data removed]",
      "text/plain": [
       "<Figure size 640x480 with 1 Axes>"
      ]
     },
     "metadata": {},
     "output_type": "display_data"
    }
   ],
   "source": [
    "plt.plot(x_torch, y_torch, 'go') # green dots = original points\n",
    "plt.plot(x_torch, y_pred.detach().numpy(),'--') # blue line = our model predictions \n",
    "# had to detach() and convert into numpy array for matplotlib"
   ]
  },
  {
   "cell_type": "code",
   "execution_count": 106,
   "metadata": {},
   "outputs": [],
   "source": [
    "# Now we want to understand the performance of our loss function and how weights are changing over the training period\n",
    "\n",
    "# Updated Training Model Code\n",
    "\n",
    "all_weights = []\n",
    "all_loss = []\n",
    "\n",
    "for i in range(1000):\n",
    "    y_hat = x_torch * weight + bias \n",
    "    loss = torch.sum(torch.pow(y_torch - y_hat,2)/ len(y_torch))\n",
    "    loss.backward()\n",
    "    \n",
    "    with torch.no_grad():\n",
    "        weight -= learning_rate * weight.grad\n",
    "        bias -= learning_rate * bias.grad\n",
    "        weight.grad.zero_()\n",
    "        bias.grad.zero_()\n",
    "\n",
    "    # Append the detached loss value to prevent the gradient issue\n",
    "    all_weights.append(weight.item())  # Convert weight to a scalar\n",
    "    all_loss.append(loss.detach().numpy())  # Detach loss from the graph and convert to numpy"
   ]
  },
  {
   "cell_type": "code",
   "execution_count": 111,
   "metadata": {},
   "outputs": [
    {
     "data": {
      "image/png": "[encoded data removed]",
      "text/plain": [
       "<Figure size 640x480 with 1 Axes>"
      ]
     },
     "metadata": {},
     "output_type": "display_data"
    }
   ],
   "source": [
    "# Visualize loss over training time\n",
    "plt.plot(np.arange(0, 1000, 1), all_loss[:1000])\n",
    "plt.xlabel('Iteration')\n",
    "plt.ylabel('Loss')\n",
    "plt.show()"
   ]
  },
  {
   "cell_type": "code",
   "execution_count": 112,
   "metadata": {},
   "outputs": [
    {
     "data": {
      "image/png": "[encoded data removed]",
      "text/plain": [
       "<Figure size 640x480 with 1 Axes>"
      ]
     },
     "metadata": {},
     "output_type": "display_data"
    }
   ],
   "source": [
    "# Visualize weights over training time\n",
    "plt.plot(np.arange(0, 1000, 1), all_weights[:1000])\n",
    "plt.xlabel('Iteration')\n",
    "plt.ylabel('Weights')\n",
    "plt.show()"
   ]
  },
  {
   "cell_type": "code",
   "execution_count": 114,
   "metadata": {},
   "outputs": [
    {
     "data": {
      "text/plain": [
       "(tensor([2.0000], requires_grad=True), tensor([-0.0002], requires_grad=True))"
      ]
     },
     "execution_count": 114,
     "metadata": {},
     "output_type": "execute_result"
    }
   ],
   "source": [
    "weight, bias"
   ]
  },
  {
   "cell_type": "code",
   "execution_count": 116,
   "metadata": {},
   "outputs": [
    {
     "data": {
      "text/plain": [
       "tensor([ 7.0000, 20.0003], grad_fn=<AddBackward0>)"
      ]
     },
     "execution_count": 116,
     "metadata": {},
     "output_type": "execute_result"
    }
   ],
   "source": [
    "# Observe that weight = 2 and bias~= 0\n",
    "\n",
    "# Meaning the relationship between independant variable x and dependant variable y is *2 i.e any y will is double the x\n",
    "# Which is exactly the case in our dummy data \n",
    "\n",
    "# Let's test our model with new data\n",
    "x_test = torch.tensor([3.5,10])\n",
    "y_test = x_test * weight + bias\n",
    "\n",
    "y_test"
   ]
  },
  {
   "cell_type": "markdown",
   "metadata": {},
   "source": [
    "# Linear Regression Model in PyTorch (Full Implementation)"
   ]
  },
  {
   "cell_type": "code",
   "execution_count": 152,
   "metadata": {},
   "outputs": [],
   "source": [
    "class LinearModel(torch.nn.Module):\n",
    "    def __init__(self):\n",
    "        super(LinearModel, self).__init__()\n",
    "        \n",
    "        # Since its a linear model, it will have 1 layer\n",
    "        self.linear = torch.nn.Linear(in_features = 1, out_features = 1) # (input size, output size)\n",
    "\n",
    "    def forward(self, x):\n",
    "        return self.linear(x)"
   ]
  },
  {
   "cell_type": "code",
   "execution_count": 153,
   "metadata": {},
   "outputs": [],
   "source": [
    "model = LinearModel()"
   ]
  },
  {
   "cell_type": "code",
   "execution_count": 154,
   "metadata": {},
   "outputs": [
    {
     "data": {
      "text/plain": [
       "array([5.59200867, 2.24672486, 6.74475304, 9.82157391, 7.96766299,\n",
       "       1.46974725, 9.76722828, 7.53682198, 9.03357215, 6.93742536,\n",
       "       4.58683639, 4.52460972, 2.01491779, 7.04744437, 2.05747928,\n",
       "       6.29451991, 2.05756007, 5.76663944, 6.28022145, 6.13287791,\n",
       "       5.67184277, 7.8572814 , 2.25786804, 5.98972264, 5.4191014 ,\n",
       "       7.56574145, 0.27667988, 9.55543033, 5.47058347, 2.07176777,\n",
       "       8.28750831, 6.53562393, 2.15683245, 6.67341554, 8.56276408,\n",
       "       7.01805137, 9.89743692, 0.41414931, 6.56650414, 1.79232822,\n",
       "       5.47343038, 8.73415014, 3.2539591 , 7.221044  , 9.0664415 ,\n",
       "       1.58358731, 7.66338755, 5.83708058, 4.70802803, 4.54294419,\n",
       "       2.96060541, 4.95221522, 4.14916824, 1.17567261, 6.35554666,\n",
       "       4.76795633, 8.44731135, 1.83576321, 2.61006777, 0.81698147,\n",
       "       7.36574098, 2.77185096, 0.25302416, 4.6607945 , 1.62119988,\n",
       "       0.75506027, 3.8752722 , 5.49505301, 9.94721104, 2.93537186,\n",
       "       3.04301676, 6.54873229, 8.67227292, 1.07987717, 1.47834691,\n",
       "       4.75350952, 0.08176458, 1.14036016, 1.52862944, 8.289821  ,\n",
       "       5.38298464, 6.64602918, 6.97226778, 7.20850142, 5.32808718,\n",
       "       7.04208969, 4.38644915, 7.67714272, 9.90166578, 7.9088133 ,\n",
       "       3.73590147, 2.24405928, 1.16713173, 3.62577881, 1.61788066,\n",
       "       4.67565904, 5.3071945 , 0.25278939, 5.54471512, 7.01967755,\n",
       "       6.72548402, 7.40305908, 1.28726873, 1.35051209, 8.05965484,\n",
       "       8.97296425, 6.69479089, 6.72103758, 7.64723285, 7.21008299,\n",
       "       1.29500795, 2.91362857, 3.80401134, 6.27614005, 4.28640252,\n",
       "       4.09402477, 2.79829444, 4.92271556, 4.05300051, 7.0418269 ,\n",
       "       3.79816389, 3.69803018, 9.18829857, 8.0695586 , 6.24405965,\n",
       "       2.21871133, 9.06592389, 2.55793215, 8.66865725, 4.53218765,\n",
       "       1.34059108, 6.9085821 , 4.38375016, 1.44500845, 2.33645214,\n",
       "       3.66493733, 4.72683474, 7.95311081, 2.61158844, 8.58750358,\n",
       "       0.39036529, 9.17906883, 3.92501267, 3.49041638, 9.37547595,\n",
       "       9.1981355 , 1.45411773, 7.197492  , 6.39919298, 7.45258465,\n",
       "       9.57727545, 5.91790683, 2.8318633 , 8.80579372, 6.05333983,\n",
       "       0.81590416, 6.20155429, 7.69033742, 9.49852764, 5.19299373,\n",
       "       6.16595924, 5.30365915, 3.27894025, 7.24401869, 1.49934326,\n",
       "       5.49013045, 7.7975532 , 8.79711355, 2.86852521, 8.45211218,\n",
       "       5.66782244, 9.48253268, 2.23342174, 6.66885266, 6.10940164,\n",
       "       3.4306358 , 5.34993232, 7.94800751, 6.24647369, 7.21644978,\n",
       "       0.31615255, 4.99093395, 3.02815923, 9.65939337, 2.52684791,\n",
       "       9.96210536, 5.55866689, 7.35658736, 6.91102405, 0.19966794,\n",
       "       3.99846568, 2.9512637 , 0.89733041, 6.08027306, 2.61071898,\n",
       "       1.57444678, 5.73968436, 5.63482095, 4.73303985, 2.85991477,\n",
       "       6.01664211, 4.06093586, 3.03849131, 1.10347789, 7.61034972,\n",
       "       7.4357299 , 6.96418854, 1.14441188, 0.30956102, 0.05979789,\n",
       "       8.49842407, 7.76548057, 0.70566495, 7.04489552, 7.02327885,\n",
       "       2.4984579 , 9.86752503, 8.39634319, 8.25501065, 4.53495508,\n",
       "       2.10014125, 3.6969152 , 9.02026582, 2.75237522, 3.0003883 ,\n",
       "       2.50530725, 0.52299843, 0.12274771, 5.44409274, 8.92813642,\n",
       "       3.75731041, 4.23280004, 4.68621174, 9.79260097, 1.08589407,\n",
       "       7.71144553, 5.75133627, 7.23006745, 8.99913571, 2.07429023,\n",
       "       4.90953439, 6.34888397, 6.76616002, 0.21115511, 4.49584536,\n",
       "       9.16924557, 8.87557071, 2.99531849, 6.0735781 , 0.23548277,\n",
       "       5.35243309, 3.55281851, 9.5547756 , 1.97513517, 4.36611844,\n",
       "       7.69110375, 6.36853305, 7.54807893, 2.69743122, 6.71077779,\n",
       "       1.36585063, 7.4567543 , 1.89316885, 5.97009958, 2.55524413,\n",
       "       0.20178456, 8.97795954, 5.10003061, 5.86406534, 2.32283872,\n",
       "       8.09802765, 0.86398813, 3.6044453 , 0.52163463, 9.12232091,\n",
       "       3.42062033, 8.26344256, 4.70274346, 5.51512163, 4.83827427,\n",
       "       7.34054152, 4.12855215, 5.90121706, 7.28387257, 1.13413494,\n",
       "       9.63520549, 6.37738962, 9.4784269 , 4.5458521 , 2.04086075,\n",
       "       1.01396406, 7.76191606, 9.72666446, 1.25137668, 6.84590011,\n",
       "       8.85824643, 8.2836705 , 6.46466395, 3.7581859 , 5.0288574 ,\n",
       "       0.6218084 , 1.07982005, 0.61172866, 4.61017713, 9.15310745,\n",
       "       0.84570498, 5.5001353 , 0.35733591, 3.41478299, 9.0275111 ,\n",
       "       2.57878873, 1.25446855, 0.01956174, 0.773299  , 7.12754855,\n",
       "       8.73064333, 4.5683971 , 0.97260364, 2.68320258, 3.62295243,\n",
       "       0.91353208, 5.87296031, 0.43194154, 0.45563326, 4.79572253,\n",
       "       4.4365158 , 4.36877193, 0.6925252 , 3.08455138, 4.77860074,\n",
       "       6.95813719, 0.98237484, 3.82105925, 6.45513132, 8.8401059 ,\n",
       "       2.50994312, 0.26867502, 6.0190233 , 9.26591407, 5.35364634,\n",
       "       0.94156004, 5.63149918, 0.27318668, 5.35281734, 7.16416525,\n",
       "       1.2007689 , 4.33300931, 1.87356939, 1.40269805, 2.69741533,\n",
       "       6.7235751 , 9.0557869 , 9.38934045, 7.79246284, 8.40803157,\n",
       "       7.47095887, 2.65737226, 9.63496873, 3.95066796, 2.67991292,\n",
       "       3.176401  , 4.67991555, 6.6755797 , 2.38678088, 1.36111439,\n",
       "       6.9279043 , 1.39820113, 4.32573338, 8.46675749, 3.4112985 ,\n",
       "       3.82186708, 6.02206699, 0.81778067, 9.83386501, 5.52455712,\n",
       "       2.94638337, 6.32662539, 3.7639876 , 4.22560817, 9.98864449,\n",
       "       2.67041389, 7.08951182, 5.59244823, 7.37446167, 1.51830396,\n",
       "       0.41831771, 8.77358198, 2.04465014, 3.90614893, 3.98536454,\n",
       "       3.52197161, 0.86896565, 9.90480443, 5.7099912 , 9.36504654,\n",
       "       9.78162904, 3.54736266, 9.28355187, 2.20572219, 9.43394374,\n",
       "       2.58496754, 4.49994776, 7.20850571, 8.33280813, 0.42347075,\n",
       "       4.03545344, 5.39399048, 4.70826435, 6.99452487, 6.29291989,\n",
       "       5.78007894, 2.42260344, 9.82866306, 7.76724984, 2.59328377,\n",
       "       0.10813093, 1.0983685 , 9.68052374, 4.84664631, 2.16977354,\n",
       "       6.93876188, 1.68766895, 4.49008522, 9.02802756, 0.6627313 ,\n",
       "       6.60288355, 2.39382837, 9.46567661, 6.27309866, 9.67661955,\n",
       "       8.81586056, 4.38302293, 8.20430038, 8.75412376, 6.6672722 ,\n",
       "       6.71112857, 2.2745529 , 5.44247714, 4.73436028, 2.22086198,\n",
       "       9.55923104, 8.50675412, 7.14797587, 3.23756815, 4.64025307,\n",
       "       3.36661277, 7.56310874, 8.65447512, 3.94623368, 2.98482217,\n",
       "       8.73684732, 6.89404418, 1.05481309, 7.82332147, 4.03571032,\n",
       "       5.41978118, 4.16337606, 8.68056261, 5.75025881, 7.80938138,\n",
       "       4.91372109, 3.9087971 , 3.81577679, 6.12838786, 4.52917956,\n",
       "       4.4222523 , 8.15150652, 2.81571237, 4.80178393, 9.76285021,\n",
       "       4.34887529, 2.80538571, 6.65669396, 5.09515574, 4.63389271,\n",
       "       1.8535438 , 3.13858488, 6.80584834, 5.53986373, 0.41202836,\n",
       "       4.15425544, 1.88214258, 3.7323669 , 5.23116836, 1.12768458,\n",
       "       2.53364921, 4.87597024, 7.94839458, 9.74656558, 4.56011966,\n",
       "       4.32026953, 3.51570692, 4.19429292, 1.08466438, 6.26283343,\n",
       "       1.38434977, 4.95354264, 9.52894828, 1.0999804 , 8.93756742])"
      ]
     },
     "execution_count": 154,
     "metadata": {},
     "output_type": "execute_result"
    }
   ],
   "source": [
    "# Lets test our model with more complex set of numbers\n",
    "\n",
    "x = np.random.rand(500)\n",
    "x = x * 10\n",
    "x"
   ]
  },
  {
   "cell_type": "code",
   "execution_count": 155,
   "metadata": {},
   "outputs": [],
   "source": [
    "# Modeling a Equation\n",
    "\n",
    "y = x * 3  - 4\n",
    "y += np.random.randn(500)"
   ]
  },
  {
   "cell_type": "code",
   "execution_count": 156,
   "metadata": {},
   "outputs": [
    {
     "data": {
      "text/plain": [
       "array([13.69213387,  2.60245124, 15.46850237, 25.24859384, 21.37098638,\n",
       "        0.78682232, 25.73477065, 17.62165871, 22.38818239, 16.51706789,\n",
       "        9.59755498,  9.88442167,  2.39576808, 16.92457588,  2.38770919,\n",
       "       14.65271868,  2.08486462, 13.12145859, 15.63523615, 14.18028277,\n",
       "       14.45771105, 19.83174661,  1.92144888, 14.24331417, 13.63840435,\n",
       "       19.15611869, -2.12279648, 22.63028448, 11.60148088,  3.7540339 ,\n",
       "       21.380693  , 16.08913228,  3.53269209, 15.96426051, 20.97241788,\n",
       "       19.36938843, 25.06767573, -3.01885982, 14.68084989,  3.7715601 ,\n",
       "       12.78694754, 21.30196531,  4.77426642, 17.16023571, 25.33718474,\n",
       "        1.9599612 , 18.36958341, 14.04299194,  9.91434083, 11.03195359,\n",
       "        5.31269753, 11.2807813 ,  7.41449524,  1.10724084, 15.42602078,\n",
       "       10.37169923, 19.60280995,  3.03380425,  3.9671436 , -1.58039176,\n",
       "       17.44291431,  4.11540811, -3.70126535,  9.96365419,  0.90928196,\n",
       "       -1.65355322,  7.65030345, 11.92936   , 25.59257537,  6.28865368,\n",
       "        6.27283345, 16.29706675, 21.22942166, -1.80370053,  0.62965711,\n",
       "        9.52152537, -4.16583922, -0.52317598, -0.77081636, 20.450982  ,\n",
       "       12.82264138, 17.41914539, 16.6622804 , 18.83501511, 12.62990138,\n",
       "       17.26358068, 10.04704234, 18.13561962, 25.35542399, 18.98720904,\n",
       "        7.83920976,  1.78735354,  0.66604485,  5.56611255,  1.44597904,\n",
       "       10.95942649, 12.59547619, -2.61391451, 11.96799975, 15.73468037,\n",
       "       16.10776133, 16.16323591, -0.91258261,  1.48631316, 21.03052954,\n",
       "       23.6581287 , 16.02141497, 14.22660952, 18.80125631, 18.42201901,\n",
       "       -0.70147478,  4.92063076,  7.77381122, 14.26594136,  7.71103901,\n",
       "        6.67063677,  3.44156265, 10.30163091,  6.14708175, 18.13125424,\n",
       "        9.03856065,  7.29993216, 22.41565322, 19.51623799, 14.68169898,\n",
       "        1.7901738 , 24.47293065,  3.29429609, 20.87342289, 10.72442091,\n",
       "        0.49214267, 15.30531086, 10.22844429, -0.07960845,  1.49136353,\n",
       "        7.24245793, 11.44568557, 20.06046758,  2.59437973, 21.42889841,\n",
       "       -4.0064426 , 22.4201681 ,  7.52812497,  6.41924421, 23.97523006,\n",
       "       24.7217135 ,  2.00483657, 17.86567121, 14.99569983, 17.10507017,\n",
       "       24.39725454, 13.33181059,  4.75166494, 21.40967762, 12.69960128,\n",
       "       -1.40180993, 14.95852125, 17.00597084, 25.32724424, 11.27117347,\n",
       "       12.79865969, 13.26184102,  4.08527497, 19.1300624 ,  1.81395944,\n",
       "       12.87537021, 19.88578448, 21.31704168,  4.84921427, 21.57266806,\n",
       "       13.11889332, 23.69036273,  3.12097414, 15.14410894, 14.82560968,\n",
       "        6.87468406, 10.97651117, 19.39053734, 13.69704884, 17.11811575,\n",
       "       -3.08946489, 11.03171241,  4.27326251, 23.6377082 ,  5.46918006,\n",
       "       24.19060591, 12.8339012 , 19.25977854, 15.32292868, -1.30465508,\n",
       "        6.8014231 ,  5.77090503, -2.42723924, 13.77014411,  4.0921566 ,\n",
       "        1.58967442, 12.45105992, 12.51870945, 11.5606893 ,  4.89600617,\n",
       "       12.44724744,  8.30274272,  5.4726    , -2.57997726, 19.50335322,\n",
       "       17.8376375 , 18.47110469, -1.6264007 , -2.48159553, -3.75326864,\n",
       "       20.12067872, 20.40681123, -1.8351999 , 16.28688264, 18.09648391,\n",
       "        1.64166563, 26.99587821, 22.6576689 , 20.67703627,  9.88140881,\n",
       "        1.87327768,  6.3965155 , 22.45597794,  4.45177427,  5.42869102,\n",
       "        3.34289685, -3.28754784, -4.02627278, 10.75228129, 22.97162902,\n",
       "        6.27577006,  9.70567663, 10.37637755, 26.40118582, -0.67993292,\n",
       "       19.8759272 , 12.95727727, 16.27769976, 22.91552727,  2.28607008,\n",
       "        9.49508191, 13.53768099, 17.90917526, -3.40777763, 10.12206924,\n",
       "       22.38156677, 23.91696   ,  4.90202641, 14.58788422, -0.57791481,\n",
       "       12.71180551,  6.0822566 , 23.19777714,  1.76994517,  8.12791098,\n",
       "       18.21357212, 13.65607884, 19.84085956,  5.4996599 , 15.19130131,\n",
       "        0.93652787, 19.52569258,  2.15683713, 14.36196974,  5.49357696,\n",
       "       -3.43844812, 22.97742847, 11.85346585, 14.01049913,  2.39912285,\n",
       "       22.21369958, -1.25909359,  7.41511421, -2.18348109, 22.99596334,\n",
       "        4.40806393, 20.89986113, 11.30156051, 11.0734092 , 10.08914687,\n",
       "       18.69110644,  7.73776434, 14.20071401, 19.32319855, -0.81071044,\n",
       "       25.75052266, 14.35495342, 25.67058713, 10.22604766,  2.6213597 ,\n",
       "       -3.69643345, 19.67432379, 23.55662331, -0.50990588, 16.52393562,\n",
       "       23.245812  , 21.30779173, 16.25710298,  6.72776082, 11.74068347,\n",
       "       -1.3187339 , -1.27189271, -2.2232752 ,  9.32068024, 24.09584947,\n",
       "       -2.33782409, 13.87386734, -2.20172107,  5.01661603, 23.14903838,\n",
       "        4.41898067, -1.95392202, -3.87780718, -1.73894392, 17.2007269 ,\n",
       "       21.87703014,  8.95893177, -0.4771052 ,  3.98832293,  6.44451307,\n",
       "       -1.63500426, 13.22938349, -3.23165901, -0.93663323, 10.10602299,\n",
       "        7.98352231,  9.0814538 , -1.34671736,  5.52640087, 11.54669629,\n",
       "       15.95930996, -0.27636316,  6.735869  , 14.87160398, 22.59054382,\n",
       "        2.88768045, -2.75469308, 15.43563055, 23.25441644, 13.90895068,\n",
       "       -1.73617824, 13.15535641, -1.77873523, 12.47706424, 15.60609707,\n",
       "        0.07130747,  9.27081775,  1.43884429,  0.23422438,  3.39085698,\n",
       "       17.369967  , 25.1893271 , 22.73404156, 19.55057555, 20.16830549,\n",
       "       18.87892874,  3.25532833, 23.70625573,  8.84254358,  4.9683162 ,\n",
       "        5.87162779, 10.63168612, 16.71917831,  3.66535474,  0.15409941,\n",
       "       15.65512367, -0.20095782,  8.68919095, 23.10876696,  6.23873118,\n",
       "        7.35376971, 14.43893258,  0.30977061, 25.28190793, 12.12292005,\n",
       "        5.90527255, 15.95197042,  6.66185891,  9.4801405 , 25.92083893,\n",
       "        4.50969347, 18.52281811, 13.67595089, 18.42902617,  0.35175361,\n",
       "       -3.50007847, 23.80975997,  2.61987228,  9.09009489,  8.05102396,\n",
       "        5.01511075, -4.32044901, 25.43622332, 12.72779185, 25.30183364,\n",
       "       26.50751768,  5.42654603, 24.08471566,  2.46324756, 25.2973523 ,\n",
       "        3.24095647, 10.0957333 , 18.13597986, 20.89174908, -1.76609123,\n",
       "        8.33858025, 13.25824381, 11.56626977, 16.31835914, 16.00665985,\n",
       "       13.58986006,  1.96052372, 24.60054116, 18.87075965,  3.40590439,\n",
       "       -3.17345401, -1.33133175, 25.12890797, 11.45503903,  2.29426376,\n",
       "       16.99574432,  0.83051233, 11.27369811, 23.18864733, -0.59890191,\n",
       "       15.55534269,  2.77382898, 25.00368783, 15.09633269, 25.02955845,\n",
       "       21.97224837,  9.49254295, 20.8741714 , 22.98450787, 17.00737713,\n",
       "       16.54097014,  2.95914975, 11.10654016,  9.51922195,  3.42798789,\n",
       "       25.22816104, 22.81528474, 17.12238394,  4.82391847, 11.24347514,\n",
       "        8.18256973, 18.98021625, 22.88524085,  7.79960646,  4.26867279,\n",
       "       21.65120993, 17.85761507, -0.33141387, 18.11507038,  7.64661761,\n",
       "       12.26142699,  8.17883162, 22.60124606, 12.3934669 , 17.96839864,\n",
       "        9.66873705,  7.34825519,  7.72331155, 17.11404338, 10.28856499,\n",
       "       10.58943562, 19.35118309,  3.46925646,  9.69332809, 24.88009451,\n",
       "        7.75966421,  4.30229482, 16.33731204, 11.31681453,  9.40082356,\n",
       "        1.89656191,  6.18938229, 15.19892463, 11.52925388, -3.45240865,\n",
       "        8.43094295,  0.25629738,  7.34284455, 11.82966893,  1.38518195,\n",
       "        3.54129555,  9.21514747, 17.35554539, 26.19257488,  9.82425841,\n",
       "        8.85947597,  6.00913275,  8.59921663, -0.92057978, 14.20174763,\n",
       "        1.86323834, 11.08015303, 24.72454848, -0.62106781, 22.01388903])"
      ]
     },
     "execution_count": 156,
     "metadata": {},
     "output_type": "execute_result"
    }
   ],
   "source": [
    "y"
   ]
  },
  {
   "cell_type": "code",
   "execution_count": 164,
   "metadata": {},
   "outputs": [],
   "source": [
    "# Remember PyTorch only accepts tensors, our input and output right now are numpy arrays\n",
    "\n",
    "# Convert numpy arrays to PyTorch tensors (float32) because weights and biases are double tensors (check without .float())\n",
    "x_torch = torch.tensor(x).reshape(-1, 1).float()  # Convert to float32\n",
    "y_torch = torch.tensor(y).reshape(-1, 1).float()  # Convert to float32"
   ]
  },
  {
   "cell_type": "code",
   "execution_count": 165,
   "metadata": {},
   "outputs": [],
   "source": [
    "criterion = torch.nn.MSELoss()\n",
    "optimizer = torch.optim.SGD(model.parameters(), lr=.01)"
   ]
  },
  {
   "cell_type": "code",
   "execution_count": 166,
   "metadata": {},
   "outputs": [
    {
     "name": "stdout",
     "output_type": "stream",
     "text": [
      "Epoch 0, Loss: 0.9363919496536255\n",
      "Epoch 50, Loss: 0.9161648154258728\n",
      "Epoch 100, Loss: 0.9035096168518066\n",
      "Epoch 150, Loss: 0.8955917954444885\n",
      "Epoch 200, Loss: 0.8906378149986267\n",
      "Epoch 250, Loss: 0.8875383734703064\n",
      "Epoch 300, Loss: 0.8855991363525391\n",
      "Epoch 350, Loss: 0.8843858242034912\n",
      "Epoch 400, Loss: 0.8836266994476318\n",
      "Epoch 450, Loss: 0.8831518292427063\n"
     ]
    }
   ],
   "source": [
    "# Model training \n",
    "all_losses = []\n",
    "for epoch in range(500):\n",
    "    y_hat = model(x_torch)\n",
    "    loss = criterion(y_hat,y_torch)\n",
    "    loss.backward()\n",
    "    all_losses.append(loss.item())\n",
    "\n",
    "    optimizer.step()\n",
    "    optimizer.zero_grad()\n",
    "\n",
    "    # Print loss every 50 epochs for monitoring\n",
    "    if epoch % 50 == 0:\n",
    "        print(f'Epoch {epoch}, Loss: {loss.item()}')"
   ]
  },
  {
   "cell_type": "code",
   "execution_count": 167,
   "metadata": {},
   "outputs": [],
   "source": [
    "# Prediction on Test Set\n",
    "y_pred = model.forward(x_torch)"
   ]
  },
  {
   "cell_type": "code",
   "execution_count": 168,
   "metadata": {},
   "outputs": [
    {
     "data": {
      "text/plain": [
       "[<matplotlib.lines.Line2D at 0x3199c4ee0>]"
      ]
     },
     "execution_count": 168,
     "metadata": {},
     "output_type": "execute_result"
    },
    {
     "data": {
      "image/png": "[encoded data removed]",
      "text/plain": [
       "<Figure size 640x480 with 1 Axes>"
      ]
     },
     "metadata": {},
     "output_type": "display_data"
    }
   ],
   "source": [
    "plt.plot(x_torch, y_torch, 'go')\n",
    "plt.plot(x_torch, y_pred.detach().numpy(), '--', color = 'orange')"
   ]
  },
  {
   "cell_type": "code",
   "execution_count": 169,
   "metadata": {},
   "outputs": [
    {
     "name": "stdout",
     "output_type": "stream",
     "text": [
      "linear.weight Parameter containing:\n",
      "tensor([[2.9749]], requires_grad=True)\n",
      "linear.bias Parameter containing:\n",
      "tensor([-3.8400], requires_grad=True)\n"
     ]
    }
   ],
   "source": [
    "# Let's now check the weights and biases of this model\n",
    "\n",
    "for name, param in model.named_parameters():\n",
    "    print(name, param)"
   ]
  },
  {
   "cell_type": "code",
   "execution_count": 171,
   "metadata": {},
   "outputs": [
    {
     "data": {
      "text/plain": [
       "[]"
      ]
     },
     "execution_count": 171,
     "metadata": {},
     "output_type": "execute_result"
    },
    {
     "data": {
      "image/png": "[encoded data removed]",
      "text/plain": [
       "<Figure size 640x480 with 1 Axes>"
      ]
     },
     "metadata": {},
     "output_type": "display_data"
    }
   ],
   "source": [
    "# Let's check model performance by plotting Loss\n",
    "plt.plot(np.arange(0,500,1), all_losses[:500])\n",
    "plt.xlabel(\"Epocs\")\n",
    "plt.ylabel(\"Loss\")\n",
    "plt.plot()"
   ]
  }
 ],
 "metadata": {
  "accelerator": "GPU",
  "colab": {
   "authorship_tag": "ABX9TyOfRCgkqOP45RVrmHP/U8Mm",
   "gpuType": "T4",
   "include_colab_link": true,
   "provenance": []
  },
  "kernelspec": {
   "display_name": "Python 3 (ipykernel)",
   "language": "python",
   "name": "python3"
  },
  "language_info": {
   "codemirror_mode": {
    "name": "ipython",
    "version": 3
   },
   "file_extension": ".py",
   "mimetype": "text/x-python",
   "name": "python",
   "nbconvert_exporter": "python",
   "pygments_lexer": "ipython3",
   "version": "3.10.12"
  }
 },
 "nbformat": 4,
 "nbformat_minor": 4
}
