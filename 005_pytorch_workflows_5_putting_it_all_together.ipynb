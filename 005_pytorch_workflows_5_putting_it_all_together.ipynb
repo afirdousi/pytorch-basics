{
  "nbformat": 4,
  "nbformat_minor": 0,
  "metadata": {
    "colab": {
      "provenance": [],
      "gpuType": "T4",
      "authorship_tag": "ABX9TyNOerc/JzMbQYWc1qJGxkBS",
      "include_colab_link": true
    },
    "kernelspec": {
      "name": "python3",
      "display_name": "Python 3"
    },
    "language_info": {
      "name": "python"
    },
    "accelerator": "GPU"
  },
  "cells": [
    {
      "cell_type": "markdown",
      "metadata": {
        "id": "view-in-github",
        "colab_type": "text"
      },
      "source": [
        "<a href=\"https://colab.research.google.com/github/afirdousi/pytorch-basics/blob/main/005_pytorch_workflows_5_putting_it_all_together.ipynb\" target=\"_parent\"><img src=\"https://colab.research.google.com/assets/colab-badge.svg\" alt=\"Open In Colab\"/></a>"
      ]
    },
    {
      "cell_type": "code",
      "execution_count": 44,
      "metadata": {
        "colab": {
          "base_uri": "https://localhost:8080/"
        },
        "id": "MmSEMXJZPiBa",
        "outputId": "2d8b021c-4162-467a-f14d-0bade7c8019b"
      },
      "outputs": [
        {
          "output_type": "stream",
          "name": "stdout",
          "text": [
            "Using PyTorch version = 2.0.1+cu118\n",
            "Using device = cuda\n"
          ]
        }
      ],
      "source": [
        "import torch\n",
        "from torch import nn\n",
        "import matplotlib.pyplot as plt\n",
        "import pandas as pd\n",
        "import numpy as np\n",
        "device = \"cuda\" if torch.cuda.is_available() else \"cpu\"\n",
        "\n",
        "print(f\"Using PyTorch version = { torch.__version__ }\")\n",
        "print(f\"Using device = { device }\")  # We will be doing device agnostic code in this tutorial"
      ]
    },
    {
      "cell_type": "code",
      "source": [
        "#check which GPU you have (SMI = System Management Interface)\n",
        "!nvidia-smi"
      ],
      "metadata": {
        "colab": {
          "base_uri": "https://localhost:8080/"
        },
        "id": "2pfv203fPnkr",
        "outputId": "22b1e477-274d-4a4d-e65d-5ce675accec2"
      },
      "execution_count": 45,
      "outputs": [
        {
          "output_type": "stream",
          "name": "stdout",
          "text": [
            "Fri Sep  1 06:30:12 2023       \n",
            "+-----------------------------------------------------------------------------+\n",
            "| NVIDIA-SMI 525.105.17   Driver Version: 525.105.17   CUDA Version: 12.0     |\n",
            "|-------------------------------+----------------------+----------------------+\n",
            "| GPU  Name        Persistence-M| Bus-Id        Disp.A | Volatile Uncorr. ECC |\n",
            "| Fan  Temp  Perf  Pwr:Usage/Cap|         Memory-Usage | GPU-Util  Compute M. |\n",
            "|                               |                      |               MIG M. |\n",
            "|===============================+======================+======================|\n",
            "|   0  Tesla T4            Off  | 00000000:00:04.0 Off |                    0 |\n",
            "| N/A   77C    P0    33W /  70W |    821MiB / 15360MiB |      0%      Default |\n",
            "|                               |                      |                  N/A |\n",
            "+-------------------------------+----------------------+----------------------+\n",
            "                                                                               \n",
            "+-----------------------------------------------------------------------------+\n",
            "| Processes:                                                                  |\n",
            "|  GPU   GI   CI        PID   Type   Process name                  GPU Memory |\n",
            "|        ID   ID                                                   Usage      |\n",
            "|=============================================================================|\n",
            "+-----------------------------------------------------------------------------+\n"
          ]
        }
      ]
    },
    {
      "cell_type": "code",
      "source": [
        "# Get Data or Create Dummy Data using Linear Regression y = weight * X + bias\n",
        "\n",
        "weight = 0.5\n",
        "bias = 0.2\n",
        "\n",
        "# Build a model to try to estimate the above values of weight and bias\n",
        "\n",
        "start = 0\n",
        "end = 1\n",
        "step = 0.02\n",
        "\n",
        "# Create X (features) and y (labels)\n",
        "X = torch.arange( start, end, step ).unsqueeze(dim=1)\n",
        "#X\n",
        "y = weight * X + bias\n",
        "\n",
        "X[:10] , y[:10]"
      ],
      "metadata": {
        "colab": {
          "base_uri": "https://localhost:8080/"
        },
        "id": "apyK1d1QtBqo",
        "outputId": "a42d8f8b-966b-4315-f600-fb9884c59862"
      },
      "execution_count": 46,
      "outputs": [
        {
          "output_type": "execute_result",
          "data": {
            "text/plain": [
              "(tensor([[0.0000],\n",
              "         [0.0200],\n",
              "         [0.0400],\n",
              "         [0.0600],\n",
              "         [0.0800],\n",
              "         [0.1000],\n",
              "         [0.1200],\n",
              "         [0.1400],\n",
              "         [0.1600],\n",
              "         [0.1800]]),\n",
              " tensor([[0.2000],\n",
              "         [0.2100],\n",
              "         [0.2200],\n",
              "         [0.2300],\n",
              "         [0.2400],\n",
              "         [0.2500],\n",
              "         [0.2600],\n",
              "         [0.2700],\n",
              "         [0.2800],\n",
              "         [0.2900]]))"
            ]
          },
          "metadata": {},
          "execution_count": 46
        }
      ]
    },
    {
      "cell_type": "code",
      "source": [
        "# Split data\n",
        "train_split = int(0.8 * len(X))\n",
        "\n",
        "X_train, y_train = X[:train_split], y[:train_split]\n",
        "X_test, y_test = X[train_split:], y[train_split:]\n",
        "\n",
        "len(X_train), len(y_train), len(X_test), len(y_test)"
      ],
      "metadata": {
        "colab": {
          "base_uri": "https://localhost:8080/"
        },
        "id": "f1JWQ33st1GS",
        "outputId": "174b363c-d010-49fa-9f0d-14b72e615757"
      },
      "execution_count": 47,
      "outputs": [
        {
          "output_type": "execute_result",
          "data": {
            "text/plain": [
              "(40, 40, 10, 10)"
            ]
          },
          "metadata": {},
          "execution_count": 47
        }
      ]
    },
    {
      "cell_type": "code",
      "source": [
        "def plot_predictions(train_data=X_train,\n",
        "                     train_labels=y_train,\n",
        "                     test_data=X_test,\n",
        "                     test_labels=y_test,\n",
        "                     predictions=None):\n",
        "  \"\"\"\n",
        "  Plots training data, test data and compares predictions.\n",
        "  \"\"\"\n",
        "  plt.figure(figsize=(10, 7))\n",
        "\n",
        "  # Plot training data in blue\n",
        "  plt.scatter(train_data, train_labels, c=\"b\", s=4, label=\"Training data\")\n",
        "\n",
        "  # Plot test data in green\n",
        "  plt.scatter(test_data, test_labels, c=\"g\", s=4, label=\"Testing data\")\n",
        "\n",
        "  if predictions is not None:\n",
        "    # Plot the predictions in red (predictions were made on the test data)\n",
        "    plt.scatter(test_data, predictions, c=\"r\", s=4, label=\"Predictions\")\n",
        "\n",
        "  # Show the legend\n",
        "  plt.legend(prop={\"size\": 14});\n"
      ],
      "metadata": {
        "id": "GQcb3Gxlu58j"
      },
      "execution_count": 48,
      "outputs": []
    },
    {
      "cell_type": "code",
      "source": [
        "plot_predictions(X_train, y_train, X_test, y_test)"
      ],
      "metadata": {
        "colab": {
          "base_uri": "https://localhost:8080/",
          "height": 599
        },
        "id": "tNY7m5MQvGjv",
        "outputId": "6f40a1c3-809f-4e66-d163-32bc779a9ec4"
      },
      "execution_count": 37,
      "outputs": [
        {
          "output_type": "display_data",
          "data": {
            "text/plain": [
              "<Figure size 1000x700 with 1 Axes>"
            ],
            "image/png": "[encoded data removed]"
          },
          "metadata": {}
        }
      ]
    },
    {
      "cell_type": "code",
      "source": [
        "# Build a PyTorch Linear Model\n",
        "\n",
        "# Create a linear model by subclassing nn.Module\n",
        "\n",
        "class LinearRegressionModel(nn.Module):\n",
        "  def __init__(self):\n",
        "    super().__init__()\n",
        "\n",
        "    # Previously we created parameters ourselves using nn.Parameter\n",
        "    # Now we will use a built in torch linear layer to create those parameters automatically\n",
        "\n",
        "    # linear models parameters / probing linear / linear transform\n",
        "    self.linear_layer = nn.Linear(in_features=1,\n",
        "                                  out_features=1)\n",
        "    # =1 means one input to this layer and one output to this layer\n",
        "    # Check https://pytorch.org/docs/stable/generated/torch.nn.Linear.html\n",
        "\n",
        "  def forward(self, x: torch.Tensor) -> torch.Tensor:\n",
        "    return self.linear_layer(x)"
      ],
      "metadata": {
        "id": "KDcz3Sl7vNjS"
      },
      "execution_count": 38,
      "outputs": []
    },
    {
      "cell_type": "code",
      "source": [
        "torch.manual_seed(42)\n",
        "model_one = LinearRegressionModel()\n",
        "model_one, model_one.state_dict()"
      ],
      "metadata": {
        "colab": {
          "base_uri": "https://localhost:8080/"
        },
        "id": "toKVirZZwaxc",
        "outputId": "97f7fbff-128b-4258-b658-a5bb3769b6ed"
      },
      "execution_count": 39,
      "outputs": [
        {
          "output_type": "execute_result",
          "data": {
            "text/plain": [
              "(LinearRegressionModel(\n",
              "   (linear_layer): Linear(in_features=1, out_features=1, bias=True)\n",
              " ),\n",
              " OrderedDict([('linear_layer.weight', tensor([[0.7645]])),\n",
              "              ('linear_layer.bias', tensor([0.8300]))]))"
            ]
          },
          "metadata": {},
          "execution_count": 39
        }
      ]
    },
    {
      "cell_type": "code",
      "source": [
        "# Pytorch automatically created the 2 parameters weights and bias parameters for us\n",
        "# Checkout all the different types of layers available in PyTorch here:\n",
        "# https://pytorch.org/docs/stable/nn.html\n"
      ],
      "metadata": {
        "id": "a11rz8bMxGMq"
      },
      "execution_count": 40,
      "outputs": []
    },
    {
      "cell_type": "code",
      "source": [
        "next(model_one.parameters()).device"
      ],
      "metadata": {
        "colab": {
          "base_uri": "https://localhost:8080/"
        },
        "id": "vMOe_68SmOGs",
        "outputId": "7ce65441-64f7-4c12-8b83-c2267432169b"
      },
      "execution_count": 41,
      "outputs": [
        {
          "output_type": "execute_result",
          "data": {
            "text/plain": [
              "device(type='cpu')"
            ]
          },
          "metadata": {},
          "execution_count": 41
        }
      ]
    },
    {
      "cell_type": "code",
      "source": [
        "model_one.to(device)\n",
        "next(model_one.parameters()).device"
      ],
      "metadata": {
        "colab": {
          "base_uri": "https://localhost:8080/"
        },
        "id": "e4LJ2uZYmRHo",
        "outputId": "5fe5ba7f-613e-4bb7-da4c-2e3e7a37d1ac"
      },
      "execution_count": 42,
      "outputs": [
        {
          "output_type": "execute_result",
          "data": {
            "text/plain": [
              "device(type='cuda', index=0)"
            ]
          },
          "metadata": {},
          "execution_count": 42
        }
      ]
    },
    {
      "cell_type": "code",
      "source": [
        "# Training\n",
        "\n",
        "# For training, we need 4 things:\n",
        "\n",
        "# Loss function\n",
        "# Optimizer\n",
        "# Training Loop\n",
        "  # - forward loop\n",
        "  # - calculate loss\n",
        "  # - call optimizer\n",
        "  # - backward loop / backpropagation\n",
        "  # - optimizer step\n",
        "# Testing Loop\n",
        "\n",
        "# Setup loss function\n",
        "loss_func = nn.L1Loss()\n",
        "\n",
        "# Setup our optimizer\n",
        "optimizer = torch.optim.SGD( params= model_one.parameters(),\n",
        "                            lr = 0.01)"
      ],
      "metadata": {
        "id": "d2GzyhunmZuh"
      },
      "execution_count": 43,
      "outputs": []
    },
    {
      "cell_type": "code",
      "source": [
        "# First run the below code without line 10 to 13\n",
        "# You will get RuntimeError: Expected all tensors to be on the same device, but found at least two devices, cuda:0 and cpu! (when checking argument for argument mat1 in method wrapper_CUDA_addmm)\n",
        "# Now to write device agnostic code, we will do .to(device) across all\n",
        "\n",
        "\n",
        "torch.manual_seed(42)\n",
        "epochs = 200\n",
        "\n",
        "# Device agnostidc code for data (Put data on target device)\n",
        "X_train = X_train.to(device)\n",
        "y_train = y_train.to(device)\n",
        "X_test = X_test.to(device)\n",
        "y_test = y_test.to(device)\n",
        "\n",
        "for epoch in range(epochs):\n",
        "  model_one.train()\n",
        "\n",
        "  # 1. Forward pass:\n",
        "  y_predictions = model_one(X_train)\n",
        "\n",
        "  # 2. Calculate loss\n",
        "  loss = loss_func(y_predictions, y_train)\n",
        "\n",
        "  # 3. Optimizer zero grad\n",
        "  optimizer.zero_grad()\n",
        "\n",
        "  # 4. Perform backpropagation\n",
        "  loss.backward()\n",
        "\n",
        "  # 5. Optimizer step\n",
        "  optimizer.step()\n",
        "\n",
        "  # Testing\n",
        "  model_one.eval()\n",
        "  with torch.inference_mode():\n",
        "    test_predictions = model_one(X_test)\n",
        "    test_loss = loss_func( test_predictions, y_test)\n",
        "\n",
        "  if epoch % 10 == 0:\n",
        "    print(f\"Epoch: {epoch} | Train Loss: {loss} | Test Loss: {test_loss}\")\n",
        "\n",
        "\n"
      ],
      "metadata": {
        "colab": {
          "base_uri": "https://localhost:8080/"
        },
        "id": "9JT_2A6dXcTO",
        "outputId": "94c64e45-32e2-4f5d-a09d-9db83ba26ddc"
      },
      "execution_count": 50,
      "outputs": [
        {
          "output_type": "stream",
          "name": "stdout",
          "text": [
            "Epoch: 0 | Train Loss: 0.7216569185256958 | Test Loss: 0.838505208492279\n",
            "Epoch: 10 | Train Loss: 0.6064471006393433 | Test Loss: 0.7037953734397888\n",
            "Epoch: 20 | Train Loss: 0.49123722314834595 | Test Loss: 0.5690855979919434\n",
            "Epoch: 30 | Train Loss: 0.37602734565734863 | Test Loss: 0.4343757629394531\n",
            "Epoch: 40 | Train Loss: 0.2608174979686737 | Test Loss: 0.2996659278869629\n",
            "Epoch: 50 | Train Loss: 0.145607590675354 | Test Loss: 0.16495609283447266\n",
            "Epoch: 60 | Train Loss: 0.030397672206163406 | Test Loss: 0.030246198177337646\n",
            "Epoch: 70 | Train Loss: 0.0072410800494253635 | Test Loss: 0.001119637512601912\n",
            "Epoch: 80 | Train Loss: 0.0072410800494253635 | Test Loss: 0.001119637512601912\n",
            "Epoch: 90 | Train Loss: 0.0072410800494253635 | Test Loss: 0.001119637512601912\n",
            "Epoch: 100 | Train Loss: 0.0072410800494253635 | Test Loss: 0.001119637512601912\n",
            "Epoch: 110 | Train Loss: 0.0072410800494253635 | Test Loss: 0.001119637512601912\n",
            "Epoch: 120 | Train Loss: 0.0072410800494253635 | Test Loss: 0.001119637512601912\n",
            "Epoch: 130 | Train Loss: 0.0072410800494253635 | Test Loss: 0.001119637512601912\n",
            "Epoch: 140 | Train Loss: 0.0072410800494253635 | Test Loss: 0.001119637512601912\n",
            "Epoch: 150 | Train Loss: 0.0072410800494253635 | Test Loss: 0.001119637512601912\n",
            "Epoch: 160 | Train Loss: 0.0072410800494253635 | Test Loss: 0.001119637512601912\n",
            "Epoch: 170 | Train Loss: 0.0072410800494253635 | Test Loss: 0.001119637512601912\n",
            "Epoch: 180 | Train Loss: 0.0072410800494253635 | Test Loss: 0.001119637512601912\n",
            "Epoch: 190 | Train Loss: 0.0072410800494253635 | Test Loss: 0.001119637512601912\n"
          ]
        }
      ]
    },
    {
      "cell_type": "code",
      "source": [
        "# How can we evaluate our model\n",
        "\n",
        "# original weights and bias\n",
        "print ( weight, bias )\n",
        "# One way to check state_dic\n",
        "model_one.state_dict()"
      ],
      "metadata": {
        "colab": {
          "base_uri": "https://localhost:8080/"
        },
        "id": "1OhqlfhuZNTe",
        "outputId": "5d745ec7-6a58-4616-b34d-0c2742b8ad5d"
      },
      "execution_count": 55,
      "outputs": [
        {
          "output_type": "stream",
          "name": "stdout",
          "text": [
            "0.5 0.2\n"
          ]
        },
        {
          "output_type": "execute_result",
          "data": {
            "text/plain": [
              "OrderedDict([('linear_layer.weight', tensor([[0.5147]], device='cuda:0')),\n",
              "             ('linear_layer.bias', tensor([0.2015], device='cuda:0'))])"
            ]
          },
          "metadata": {},
          "execution_count": 55
        }
      ]
    },
    {
      "cell_type": "code",
      "source": [
        "# You can clearly see weights and bias in the model are not almost exactly equivalent to 0.5 and 0.2"
      ],
      "metadata": {
        "id": "W8JhVZMdcNcS"
      },
      "execution_count": 56,
      "outputs": []
    },
    {
      "cell_type": "code",
      "source": [],
      "metadata": {
        "id": "jX9pIzREcuw1"
      },
      "execution_count": null,
      "outputs": []
    }
  ]
}