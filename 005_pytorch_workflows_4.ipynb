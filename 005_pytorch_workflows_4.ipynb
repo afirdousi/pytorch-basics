{
  "nbformat": 4,
  "nbformat_minor": 0,
  "metadata": {
    "colab": {
      "provenance": [],
      "authorship_tag": "ABX9TyOsN+Np3aBnGyXHxwcqDCDR",
      "include_colab_link": true
    },
    "kernelspec": {
      "name": "python3",
      "display_name": "Python 3"
    },
    "language_info": {
      "name": "python"
    }
  },
  "cells": [
    {
      "cell_type": "markdown",
      "metadata": {
        "id": "view-in-github",
        "colab_type": "text"
      },
      "source": [
        "<a href=\"https://colab.research.google.com/github/afirdousi/pytorch-basics/blob/main/005_pytorch_workflows_4.ipynb\" target=\"_parent\"><img src=\"https://colab.research.google.com/assets/colab-badge.svg\" alt=\"Open In Colab\"/></a>"
      ]
    },
    {
      "cell_type": "code",
      "source": [
        "# This is a copy of the workflow-2, search for \"workflow-3 starts here\""
      ],
      "metadata": {
        "id": "bFXfvQv70weB"
      },
      "execution_count": 4,
      "outputs": []
    },
    {
      "cell_type": "code",
      "source": [
        "import torch\n",
        "from torch import nn # (https://pytorch.org/docs/stable/nn.html)\n",
        "import matplotlib.pyplot as plt\n",
        "\n",
        "import pandas as pd\n",
        "import numpy as np\n",
        "\n",
        "print(\"Intro to Pytorch Workflow\")\n",
        "print(torch.__version__)"
      ],
      "metadata": {
        "colab": {
          "base_uri": "https://localhost:8080/"
        },
        "id": "FtN9WHUFJDAl",
        "outputId": "335d63f9-3def-4939-ea4f-00c6e6a650ac"
      },
      "execution_count": 5,
      "outputs": [
        {
          "output_type": "stream",
          "name": "stdout",
          "text": [
            "Intro to Pytorch Workflow\n",
            "2.0.1+cu118\n"
          ]
        }
      ]
    },
    {
      "cell_type": "code",
      "execution_count": 6,
      "metadata": {
        "id": "7_Qj6JEzI9qS"
      },
      "outputs": [],
      "source": [
        "# Build a Model\n",
        "# Our First Model\n",
        "\n",
        "# PyTorch has four (give or take) essential modules you can use to create almost\n",
        "# any kind of neural network you can imagine.\n",
        "\n",
        "# They are torch.nn, torch.optim, torch.utils.data.Dataset and\n",
        "# torch.utils.data.DataLoader. For now, we'll focus on the first two and get to\n",
        "# the other two later (though you may be able to guess what they do).\n",
        "\n",
        "# How Gradient Descent works? Watch: https://www.youtube.com/watch?v=IHZwWFHWa-w\n",
        "# What is Backpropagation? Watch: https://www.youtube.com/watch?v=Ilg3gGewQ5U\n",
        "\n",
        "class LinearRegressionModel(nn.Module): # nn.Module is NN lego block\n",
        "  def __init__(self):\n",
        "    super().__init__()\n",
        "\n",
        "    # FYI, we don't necessarily have to start with random/unknown params\n",
        "    self.weights = nn.Parameter(torch.randn(1, # start with random weight\n",
        "                                            dtype=torch.float),\n",
        "                                # update weights with gradient descent\n",
        "                                # pytorch will track gradient of this specific\n",
        "                                # parameter for use with torch.autograd\n",
        "                                            requires_grad=True)\n",
        "\n",
        "    # nn.Parameter when used as part of a module, becomes\n",
        "    # part of Module.Parameters iterator\n",
        "\n",
        "    self.bias = nn.Parameter(torch.randn(1, # start with random bias\n",
        "                                         dtype=torch.float),\n",
        "                             # update weights with gradient descent\n",
        "                             requires_grad=True)\n",
        "\n",
        "  # forward defines the model computation\n",
        "  # any class that inherits from nn.Module needs to implement the forward method\n",
        "  def forward(self, x: torch.Tensor):\n",
        "    return self.weights * x + self.bias # y = mX + b (linear regression)"
      ]
    },
    {
      "cell_type": "code",
      "source": [
        "# What happens if create an instance of our model class?\n",
        "\n",
        "# Check contents of PyTorch model\n",
        "\n",
        "# For sake of learning, Create a random seed\n",
        "torch.manual_seed(42) # to make sure the internal random numbers generated for 'weights' and 'bias' are the same everytime (only for learning purpose)\n",
        "\n",
        "# create a model\n",
        "model_one = LinearRegressionModel()\n",
        "\n",
        "# check out parameters\n",
        "model_one"
      ],
      "metadata": {
        "colab": {
          "base_uri": "https://localhost:8080/"
        },
        "id": "qmhEax3uXX5t",
        "outputId": "2b263b2a-81b9-43b8-ddf6-054ddf293fdf"
      },
      "execution_count": 7,
      "outputs": [
        {
          "output_type": "execute_result",
          "data": {
            "text/plain": [
              "LinearRegressionModel()"
            ]
          },
          "metadata": {},
          "execution_count": 7
        }
      ]
    },
    {
      "cell_type": "code",
      "source": [
        "list(model_one.parameters())"
      ],
      "metadata": {
        "colab": {
          "base_uri": "https://localhost:8080/"
        },
        "id": "D5sxBVWVaQ7c",
        "outputId": "6365d634-7bf5-46ff-922c-615c2877f896"
      },
      "execution_count": 8,
      "outputs": [
        {
          "output_type": "execute_result",
          "data": {
            "text/plain": [
              "[Parameter containing:\n",
              " tensor([0.3367], requires_grad=True),\n",
              " Parameter containing:\n",
              " tensor([0.1288], requires_grad=True)]"
            ]
          },
          "metadata": {},
          "execution_count": 8
        }
      ]
    },
    {
      "cell_type": "code",
      "source": [
        "# List named parameters\n",
        "model_one.state_dict()"
      ],
      "metadata": {
        "colab": {
          "base_uri": "https://localhost:8080/"
        },
        "id": "KuDERow3bLgV",
        "outputId": "8139a1c5-fd37-49a4-c8b4-af777929fef7"
      },
      "execution_count": 9,
      "outputs": [
        {
          "output_type": "execute_result",
          "data": {
            "text/plain": [
              "OrderedDict([('weights', tensor([0.3367])), ('bias', tensor([0.1288]))])"
            ]
          },
          "metadata": {},
          "execution_count": 9
        }
      ]
    },
    {
      "cell_type": "code",
      "source": [
        "# In Reality, the model starts off with some random values like this\n",
        "# and use gradient descent to get to the target value\n",
        "\n",
        "# Lets assume a target value for our parameters\n",
        "weight = 0.7\n",
        "bias = 0.3\n",
        "\n",
        "\n",
        "\n",
        "# Let's recreate some dummy data that we created in last lesson as well\n",
        "# To check how well does our model performs predicting\n",
        "\n",
        "# Create data\n",
        "start = 0\n",
        "end = 1\n",
        "step = 0.02\n",
        "X = torch.arange(start, end, step).unsqueeze(dim=1)\n",
        "y = weight * X + bias\n",
        "# Create train/test split\n",
        "train_split = int(0.8 * len(X)) # 80% of data used for training set, 20% for testing\n",
        "X_train, y_train = X[:train_split], y[:train_split]\n",
        "X_test, y_test = X[train_split:], y[train_split:]\n",
        "\n",
        "# Lets also redefine plot prediction function\n",
        "def plot_predictions(train_data=X_train,\n",
        "                     train_labels=y_train,\n",
        "                     test_data=X_test,\n",
        "                     test_labels=y_test,\n",
        "                     predictions=None):\n",
        "  \"\"\"\n",
        "  Plots training data, test data and compares predictions.\n",
        "  \"\"\"\n",
        "  plt.figure(figsize=(10, 7))\n",
        "\n",
        "  # Plot training data in blue\n",
        "  plt.scatter(train_data, train_labels, c=\"b\", s=4, label=\"Training data\")\n",
        "\n",
        "  # Plot test data in green\n",
        "  plt.scatter(test_data, test_labels, c=\"g\", s=4, label=\"Testing data\")\n",
        "\n",
        "  if predictions is not None:\n",
        "    # Plot the predictions in red (predictions were made on the test data)\n",
        "    plt.scatter(test_data, predictions, c=\"r\", s=4, label=\"Predictions\")\n",
        "\n",
        "  # Show the legend\n",
        "  plt.legend(prop={\"size\": 14});\n",
        "\n"
      ],
      "metadata": {
        "id": "L6GSQYzybRuV"
      },
      "execution_count": 10,
      "outputs": []
    },
    {
      "cell_type": "code",
      "source": [
        "# the work of the model should be to go from random value to the above 2 values use gradient decent and back propagation"
      ],
      "metadata": {
        "id": "eHbdnK-9cRVk"
      },
      "execution_count": 11,
      "outputs": []
    },
    {
      "cell_type": "code",
      "source": [
        "# Making predictions using torch.inference_mode()\n",
        "\n",
        "# Disable all gradient related information. Runs faster since we are not training the model, we are just doing inference\n",
        "# To test, check the output of y_predictions = model_one(X_test) without inference mode\n",
        "with torch.inference_mode():\n",
        "  y_predictions = model_one(X_test)\n",
        "\n",
        "\n",
        "# Learn more about inference mode here: https://twitter.com/PyTorch/status/1437838231505096708?lang=en"
      ],
      "metadata": {
        "id": "bY7DlLAgcaFz"
      },
      "execution_count": 12,
      "outputs": []
    },
    {
      "cell_type": "code",
      "source": [
        "# Lets check predictions\n",
        "\n",
        "print(f\"Number of testing samples = { len(X_test) }\")\n",
        "print(f\"Number of predictions = { len(y_predictions) }\")"
      ],
      "metadata": {
        "colab": {
          "base_uri": "https://localhost:8080/"
        },
        "id": "0GdwMWqjwIUK",
        "outputId": "0f0322de-07f7-4f61-af71-b51e892a0abf"
      },
      "execution_count": 13,
      "outputs": [
        {
          "output_type": "stream",
          "name": "stdout",
          "text": [
            "Number of testing samples = 10\n",
            "Number of predictions = 10\n"
          ]
        }
      ]
    },
    {
      "cell_type": "code",
      "source": [
        "print(f\"Predictions= { y_predictions }\")"
      ],
      "metadata": {
        "colab": {
          "base_uri": "https://localhost:8080/"
        },
        "id": "a7azRss4xpti",
        "outputId": "a3b151cb-e4a1-4a87-dcc7-c250c7db3fc4"
      },
      "execution_count": 14,
      "outputs": [
        {
          "output_type": "stream",
          "name": "stdout",
          "text": [
            "Predictions= tensor([[0.3982],\n",
            "        [0.4049],\n",
            "        [0.4116],\n",
            "        [0.4184],\n",
            "        [0.4251],\n",
            "        [0.4318],\n",
            "        [0.4386],\n",
            "        [0.4453],\n",
            "        [0.4520],\n",
            "        [0.4588]])\n"
          ]
        }
      ]
    },
    {
      "cell_type": "code",
      "source": [
        "plot_predictions(X_train,\n",
        "                 y_train,\n",
        "                 X_test,\n",
        "                 y_test,\n",
        "                 y_predictions)"
      ],
      "metadata": {
        "colab": {
          "base_uri": "https://localhost:8080/",
          "height": 599
        },
        "id": "PzZw5qloy26r",
        "outputId": "fd5014c5-071e-4d9b-a91f-56555a462795"
      },
      "execution_count": 15,
      "outputs": [
        {
          "output_type": "display_data",
          "data": {
            "text/plain": [
              "<Figure size 1000x700 with 1 Axes>"
            ],
            "image/png": "[encoded data removed]"
          },
          "metadata": {}
        }
      ]
    },
    {
      "cell_type": "code",
      "source": [
        "# The whole idea of training is to start from random and get as closer to the actual result\n",
        "# by continuousing calculating how poor model predictions are by using a Loss Function\n",
        "\n",
        "# More on Loss Functions here https://pytorch.org/docs/stable/nn.html#loss-functions\n",
        "# Loss Function also called Cost function or criterion\n",
        "\n",
        "# Loss function tries to improve the prediction by using something called Optimizer\n",
        "\n",
        "# Optimizer: Takes into account the loss of a model and adjusts the model's paramters (e.g. weights and bias in our case)\n",
        "# to improve the loss function. More here: https://pytorch.org/docs/stable/optim.html\n",
        "\n",
        "# Which params we have in our model? Check:\n",
        "model_one.state_dict()"
      ],
      "metadata": {
        "colab": {
          "base_uri": "https://localhost:8080/"
        },
        "id": "nzLCN53Ozhg4",
        "outputId": "381b38ad-baf5-4a21-c2b9-114af244cd39"
      },
      "execution_count": 16,
      "outputs": [
        {
          "output_type": "execute_result",
          "data": {
            "text/plain": [
              "OrderedDict([('weights', tensor([0.3367])), ('bias', tensor([0.1288]))])"
            ]
          },
          "metadata": {},
          "execution_count": 16
        }
      ]
    },
    {
      "cell_type": "code",
      "source": [
        "# Next, we need now need 1/ Training Loop 2/ Testing Loop"
      ],
      "metadata": {
        "id": "Twrem40DopcQ"
      },
      "execution_count": 17,
      "outputs": []
    },
    {
      "cell_type": "code",
      "source": [
        "# Setting Up A Loss Function & Optimizer\n",
        "\n",
        "# In Pytorch:\n",
        "# L1 Loss = Mean Absolute Error\n",
        "# L2 Loss = Mean Square Error\n",
        "# and there are many others, see more here: https://pytorch.org/docs/stable/nn.html#loss-functions\n",
        "\n",
        "# If we write L1 loss ourselves, we could write:\n",
        "# MAE_loss = torch.mean(torch.abs(y_predictions - y_test))\n",
        "\n",
        "# In PyTorch, we can use builtin one MAE_loss = torch.nn.L1Loss\n",
        "\n",
        "# Setup a loss function\n",
        "loss_func = nn.L1Loss() # Loss function measures how wrong our model is\n",
        "\n",
        "# Setup an optimizer (SGD = Stocastic Gradient Descent)\n",
        "# Optimizer adjust our model parameters no matter there is\n",
        "# 2 params (like weight and bias in our case) or there are millions or even billions of parameters\n",
        "optimizer_func = torch.optim.SGD(model_one.parameters(),\n",
        "                                 lr=0.01) # Learning Rate (its a hyperparameter) play with 0.001 as well\n",
        "\n",
        "# Parameters are values model sets itself\n",
        "# Hyperparameter are parameters we set oursevlves (as a Data Scientist or ML Engineer)\n",
        "# Technically we can set `lr` to whatever value, this comes from a lot of trail and error\n",
        "# The smaller the learning rate, the smaller the change in parameter to improve it"
      ],
      "metadata": {
        "id": "i6gnbRPxo1Rc"
      },
      "execution_count": 18,
      "outputs": []
    },
    {
      "cell_type": "code",
      "source": [
        "# Question: Which loss functiona and which optimizer to use for which problem?\n",
        "# Answer: There are specific loss function and optimizers for specific type of problems\n",
        "# For example, there are specific loss functions and optimizers for regression vs classification task"
      ],
      "metadata": {
        "id": "yvhlkO4XplYw"
      },
      "execution_count": 19,
      "outputs": []
    },
    {
      "cell_type": "code",
      "source": [
        "# Building a Training Loop (and testing loop) in Pytorch\n",
        "# Write now, we are doing all step by step, later we will write functions to do it\n",
        "\n",
        "# Things to do:\n",
        "# 0. Loop through data\n",
        "# 1. Forward Pass (moving data through forward() function) to make predictions on data aka forward propagation\n",
        "# 2. Optimizer zero grad\n",
        "# 3. Loss backward (Backpropgation) - move backwards through the network to calculate the gradients of each of the parameters of our model with respect to loss\n",
        "# 4. Optimizer step (Gradient Descent) - use the optimizer to adjust our model's parameters to try and improve the loss"
      ],
      "metadata": {
        "id": "xBYT77jTsfFT"
      },
      "execution_count": 20,
      "outputs": []
    },
    {
      "cell_type": "code",
      "source": [
        "# Previous code copied here without comments\n",
        "# We will use our new tracking variables this time\n",
        "\n",
        "# Track values\n",
        "epoch_count = []\n",
        "loss_values = []\n",
        "test_loss_values = []\n",
        "\n",
        "epochs = 500\n",
        "\n",
        "# Step.0: Loop through the data\n",
        "for epoch in range(epochs):\n",
        "  # Set the model to training mode\n",
        "  model_one.train()\n",
        "\n",
        "  # Step.1: Forward pass\n",
        "  y_predictions = model_one(X_train)\n",
        "\n",
        "  # Step.2: Calculate loss\n",
        "  loss = loss_func(y_predictions, y_train)\n",
        "\n",
        "  # Step.3: Optimizer zero grad\n",
        "  optimizer_func.zero_grad() # start fresh every loop\n",
        "\n",
        "  # Step.4: Peform Backpropagation\n",
        "  loss.backward()\n",
        "\n",
        "  # Step.5: Step the optimizer (Peform Gradient Descent)\n",
        "  optimizer_func.step()\n",
        "\n",
        "  # Testing\n",
        "  model_one.eval()\n",
        "\n",
        "  with torch.inference_mode():\n",
        "    # In testing mode, we still following steps:\n",
        "\n",
        "    # 1. Do the forward pass\n",
        "    test_predictions = model_one(X_test)\n",
        "\n",
        "    # 2. Calculate the (test) loss\n",
        "    test_loss = loss_func(test_predictions, y_test)\n",
        "\n",
        "  if epoch % 10 == 0: # only print a few\n",
        "    epoch_count.append(epoch)\n",
        "    loss_values.append(loss) # ideally should append loss.detach().numpy()\n",
        "    test_loss_values.append(test_loss) # ideall should append .detach().numpy()\n",
        "    print(f\"Epoch: {epoch} | Train loss: { loss } | Test loss: {test_loss}\")\n",
        "\n",
        "model_one.state_dict()\n",
        "\n",
        "# Run the above code multiple times to continuously see the model learning (and see the loss function going down)\n",
        "# You can also increase epoch to some big number to run all iterations at once"
      ],
      "metadata": {
        "colab": {
          "base_uri": "https://localhost:8080/"
        },
        "id": "X5VhmbiytlB5",
        "outputId": "d071c716-4f3d-490f-92f8-75e90f4bf545"
      },
      "execution_count": 21,
      "outputs": [
        {
          "output_type": "stream",
          "name": "stdout",
          "text": [
            "Epoch: 0 | Train loss: 0.31288138031959534 | Test loss: 0.48106518387794495\n",
            "Epoch: 10 | Train loss: 0.1976713240146637 | Test loss: 0.3463551998138428\n",
            "Epoch: 20 | Train loss: 0.08908725529909134 | Test loss: 0.21729660034179688\n",
            "Epoch: 30 | Train loss: 0.053148526698350906 | Test loss: 0.14464017748832703\n",
            "Epoch: 40 | Train loss: 0.04543796554207802 | Test loss: 0.11360953003168106\n",
            "Epoch: 50 | Train loss: 0.04167863354086876 | Test loss: 0.09919948130846024\n",
            "Epoch: 60 | Train loss: 0.03818932920694351 | Test loss: 0.08886633068323135\n",
            "Epoch: 70 | Train loss: 0.03476089984178543 | Test loss: 0.0805937647819519\n",
            "Epoch: 80 | Train loss: 0.03132382780313492 | Test loss: 0.07232122868299484\n",
            "Epoch: 90 | Train loss: 0.02788739837706089 | Test loss: 0.06473556160926819\n",
            "Epoch: 100 | Train loss: 0.024458957836031914 | Test loss: 0.05646304413676262\n",
            "Epoch: 110 | Train loss: 0.021020207554101944 | Test loss: 0.04819049686193466\n",
            "Epoch: 120 | Train loss: 0.01758546568453312 | Test loss: 0.04060482233762741\n",
            "Epoch: 130 | Train loss: 0.014155393466353416 | Test loss: 0.03233227878808975\n",
            "Epoch: 140 | Train loss: 0.010716589167714119 | Test loss: 0.024059748277068138\n",
            "Epoch: 150 | Train loss: 0.0072835334576666355 | Test loss: 0.016474086791276932\n",
            "Epoch: 160 | Train loss: 0.0038517764769494534 | Test loss: 0.008201557211577892\n",
            "Epoch: 170 | Train loss: 0.008932482451200485 | Test loss: 0.005023092031478882\n",
            "Epoch: 180 | Train loss: 0.008932482451200485 | Test loss: 0.005023092031478882\n",
            "Epoch: 190 | Train loss: 0.008932482451200485 | Test loss: 0.005023092031478882\n",
            "Epoch: 200 | Train loss: 0.008932482451200485 | Test loss: 0.005023092031478882\n",
            "Epoch: 210 | Train loss: 0.008932482451200485 | Test loss: 0.005023092031478882\n",
            "Epoch: 220 | Train loss: 0.008932482451200485 | Test loss: 0.005023092031478882\n",
            "Epoch: 230 | Train loss: 0.008932482451200485 | Test loss: 0.005023092031478882\n",
            "Epoch: 240 | Train loss: 0.008932482451200485 | Test loss: 0.005023092031478882\n",
            "Epoch: 250 | Train loss: 0.008932482451200485 | Test loss: 0.005023092031478882\n",
            "Epoch: 260 | Train loss: 0.008932482451200485 | Test loss: 0.005023092031478882\n",
            "Epoch: 270 | Train loss: 0.008932482451200485 | Test loss: 0.005023092031478882\n",
            "Epoch: 280 | Train loss: 0.008932482451200485 | Test loss: 0.005023092031478882\n",
            "Epoch: 290 | Train loss: 0.008932482451200485 | Test loss: 0.005023092031478882\n",
            "Epoch: 300 | Train loss: 0.008932482451200485 | Test loss: 0.005023092031478882\n",
            "Epoch: 310 | Train loss: 0.008932482451200485 | Test loss: 0.005023092031478882\n",
            "Epoch: 320 | Train loss: 0.008932482451200485 | Test loss: 0.005023092031478882\n",
            "Epoch: 330 | Train loss: 0.008932482451200485 | Test loss: 0.005023092031478882\n",
            "Epoch: 340 | Train loss: 0.008932482451200485 | Test loss: 0.005023092031478882\n",
            "Epoch: 350 | Train loss: 0.008932482451200485 | Test loss: 0.005023092031478882\n",
            "Epoch: 360 | Train loss: 0.008932482451200485 | Test loss: 0.005023092031478882\n",
            "Epoch: 370 | Train loss: 0.008932482451200485 | Test loss: 0.005023092031478882\n",
            "Epoch: 380 | Train loss: 0.008932482451200485 | Test loss: 0.005023092031478882\n",
            "Epoch: 390 | Train loss: 0.008932482451200485 | Test loss: 0.005023092031478882\n",
            "Epoch: 400 | Train loss: 0.008932482451200485 | Test loss: 0.005023092031478882\n",
            "Epoch: 410 | Train loss: 0.008932482451200485 | Test loss: 0.005023092031478882\n",
            "Epoch: 420 | Train loss: 0.008932482451200485 | Test loss: 0.005023092031478882\n",
            "Epoch: 430 | Train loss: 0.008932482451200485 | Test loss: 0.005023092031478882\n",
            "Epoch: 440 | Train loss: 0.008932482451200485 | Test loss: 0.005023092031478882\n",
            "Epoch: 450 | Train loss: 0.008932482451200485 | Test loss: 0.005023092031478882\n",
            "Epoch: 460 | Train loss: 0.008932482451200485 | Test loss: 0.005023092031478882\n",
            "Epoch: 470 | Train loss: 0.008932482451200485 | Test loss: 0.005023092031478882\n",
            "Epoch: 480 | Train loss: 0.008932482451200485 | Test loss: 0.005023092031478882\n",
            "Epoch: 490 | Train loss: 0.008932482451200485 | Test loss: 0.005023092031478882\n"
          ]
        },
        {
          "output_type": "execute_result",
          "data": {
            "text/plain": [
              "OrderedDict([('weights', tensor([0.6990])), ('bias', tensor([0.3093]))])"
            ]
          },
          "metadata": {},
          "execution_count": 21
        }
      ]
    },
    {
      "cell_type": "code",
      "source": [
        "plot_predictions(predictions = test_predictions);"
      ],
      "metadata": {
        "colab": {
          "base_uri": "https://localhost:8080/",
          "height": 599
        },
        "id": "CkdbsvKG1eda",
        "outputId": "738f11de-ffcb-41b5-caea-af3bdf95fc43"
      },
      "execution_count": 22,
      "outputs": [
        {
          "output_type": "display_data",
          "data": {
            "text/plain": [
              "<Figure size 1000x700 with 1 Axes>"
            ],
            "image/png": "[encoded data removed]"
          },
          "metadata": {}
        }
      ]
    },
    {
      "cell_type": "code",
      "source": [
        "# Lets check tracker variables and then visualize in next steps\n",
        "\n",
        "print(epoch_count),\n",
        "print(loss_values), # note that they are tensors\n",
        "print(test_loss_values) # note that they are tensors\n",
        "\n",
        "# What we are trying to find here is when training with more epochs starts diminishing returns"
      ],
      "metadata": {
        "colab": {
          "base_uri": "https://localhost:8080/"
        },
        "id": "WBtyZTz8HO0U",
        "outputId": "b92c3664-97c3-4317-9b1b-31724d532d7a"
      },
      "execution_count": 23,
      "outputs": [
        {
          "output_type": "stream",
          "name": "stdout",
          "text": [
            "[0, 10, 20, 30, 40, 50, 60, 70, 80, 90, 100, 110, 120, 130, 140, 150, 160, 170, 180, 190, 200, 210, 220, 230, 240, 250, 260, 270, 280, 290, 300, 310, 320, 330, 340, 350, 360, 370, 380, 390, 400, 410, 420, 430, 440, 450, 460, 470, 480, 490]\n",
            "[tensor(0.3129, grad_fn=<MeanBackward0>), tensor(0.1977, grad_fn=<MeanBackward0>), tensor(0.0891, grad_fn=<MeanBackward0>), tensor(0.0531, grad_fn=<MeanBackward0>), tensor(0.0454, grad_fn=<MeanBackward0>), tensor(0.0417, grad_fn=<MeanBackward0>), tensor(0.0382, grad_fn=<MeanBackward0>), tensor(0.0348, grad_fn=<MeanBackward0>), tensor(0.0313, grad_fn=<MeanBackward0>), tensor(0.0279, grad_fn=<MeanBackward0>), tensor(0.0245, grad_fn=<MeanBackward0>), tensor(0.0210, grad_fn=<MeanBackward0>), tensor(0.0176, grad_fn=<MeanBackward0>), tensor(0.0142, grad_fn=<MeanBackward0>), tensor(0.0107, grad_fn=<MeanBackward0>), tensor(0.0073, grad_fn=<MeanBackward0>), tensor(0.0039, grad_fn=<MeanBackward0>), tensor(0.0089, grad_fn=<MeanBackward0>), tensor(0.0089, grad_fn=<MeanBackward0>), tensor(0.0089, grad_fn=<MeanBackward0>), tensor(0.0089, grad_fn=<MeanBackward0>), tensor(0.0089, grad_fn=<MeanBackward0>), tensor(0.0089, grad_fn=<MeanBackward0>), tensor(0.0089, grad_fn=<MeanBackward0>), tensor(0.0089, grad_fn=<MeanBackward0>), tensor(0.0089, grad_fn=<MeanBackward0>), tensor(0.0089, grad_fn=<MeanBackward0>), tensor(0.0089, grad_fn=<MeanBackward0>), tensor(0.0089, grad_fn=<MeanBackward0>), tensor(0.0089, grad_fn=<MeanBackward0>), tensor(0.0089, grad_fn=<MeanBackward0>), tensor(0.0089, grad_fn=<MeanBackward0>), tensor(0.0089, grad_fn=<MeanBackward0>), tensor(0.0089, grad_fn=<MeanBackward0>), tensor(0.0089, grad_fn=<MeanBackward0>), tensor(0.0089, grad_fn=<MeanBackward0>), tensor(0.0089, grad_fn=<MeanBackward0>), tensor(0.0089, grad_fn=<MeanBackward0>), tensor(0.0089, grad_fn=<MeanBackward0>), tensor(0.0089, grad_fn=<MeanBackward0>), tensor(0.0089, grad_fn=<MeanBackward0>), tensor(0.0089, grad_fn=<MeanBackward0>), tensor(0.0089, grad_fn=<MeanBackward0>), tensor(0.0089, grad_fn=<MeanBackward0>), tensor(0.0089, grad_fn=<MeanBackward0>), tensor(0.0089, grad_fn=<MeanBackward0>), tensor(0.0089, grad_fn=<MeanBackward0>), tensor(0.0089, grad_fn=<MeanBackward0>), tensor(0.0089, grad_fn=<MeanBackward0>), tensor(0.0089, grad_fn=<MeanBackward0>)]\n",
            "[tensor(0.4811), tensor(0.3464), tensor(0.2173), tensor(0.1446), tensor(0.1136), tensor(0.0992), tensor(0.0889), tensor(0.0806), tensor(0.0723), tensor(0.0647), tensor(0.0565), tensor(0.0482), tensor(0.0406), tensor(0.0323), tensor(0.0241), tensor(0.0165), tensor(0.0082), tensor(0.0050), tensor(0.0050), tensor(0.0050), tensor(0.0050), tensor(0.0050), tensor(0.0050), tensor(0.0050), tensor(0.0050), tensor(0.0050), tensor(0.0050), tensor(0.0050), tensor(0.0050), tensor(0.0050), tensor(0.0050), tensor(0.0050), tensor(0.0050), tensor(0.0050), tensor(0.0050), tensor(0.0050), tensor(0.0050), tensor(0.0050), tensor(0.0050), tensor(0.0050), tensor(0.0050), tensor(0.0050), tensor(0.0050), tensor(0.0050), tensor(0.0050), tensor(0.0050), tensor(0.0050), tensor(0.0050), tensor(0.0050), tensor(0.0050)]\n"
          ]
        }
      ]
    },
    {
      "cell_type": "code",
      "source": [
        "# lets visualize (uncomment and try to run below and get the error mentioned)\n",
        "# plt.plot(epoch_count, loss_values, label = \"Train loss\") # if you run it like this, you will get RuntimeError: Can't call numpy() on Tensor that requires grad. Use tensor.detach().numpy() instead.\n",
        "\n",
        "# Because its tensor values, we have to convert them into numpy values for plotting"
      ],
      "metadata": {
        "id": "2DeoPU7FHTAS"
      },
      "execution_count": 24,
      "outputs": []
    },
    {
      "cell_type": "code",
      "source": [
        "# try to convert them to numpy values\n",
        "print(np.array(torch.tensor(loss_values).numpy()))\n"
      ],
      "metadata": {
        "colab": {
          "base_uri": "https://localhost:8080/"
        },
        "id": "RkfgSX3GHZpX",
        "outputId": "a2449b66-d6fc-4de0-e85d-1cfd5d7dbecf"
      },
      "execution_count": 25,
      "outputs": [
        {
          "output_type": "stream",
          "name": "stdout",
          "text": [
            "[0.31288138 0.19767132 0.08908726 0.05314853 0.04543797 0.04167863\n",
            " 0.03818933 0.0347609  0.03132383 0.0278874  0.02445896 0.02102021\n",
            " 0.01758547 0.01415539 0.01071659 0.00728353 0.00385178 0.00893248\n",
            " 0.00893248 0.00893248 0.00893248 0.00893248 0.00893248 0.00893248\n",
            " 0.00893248 0.00893248 0.00893248 0.00893248 0.00893248 0.00893248\n",
            " 0.00893248 0.00893248 0.00893248 0.00893248 0.00893248 0.00893248\n",
            " 0.00893248 0.00893248 0.00893248 0.00893248 0.00893248 0.00893248\n",
            " 0.00893248 0.00893248 0.00893248 0.00893248 0.00893248 0.00893248\n",
            " 0.00893248 0.00893248]\n"
          ]
        }
      ]
    },
    {
      "cell_type": "code",
      "source": [
        "# Plot the loss curves\n",
        "plt.plot(epoch_count, np.array(torch.tensor(loss_values).numpy()), label=\"Train loss\")\n",
        "plt.plot(epoch_count, np.array(torch.tensor(test_loss_values).numpy()), label=\"Test loss\")\n",
        "plt.title(\"Training and test loss curves\")\n",
        "plt.ylabel(\"Loss\")\n",
        "plt.xlabel(\"Epochs\")\n",
        "plt.legend();"
      ],
      "metadata": {
        "colab": {
          "base_uri": "https://localhost:8080/",
          "height": 472
        },
        "id": "w2pOvZrXHbGJ",
        "outputId": "4b0ff0a8-5488-4e0b-fbd6-085a1e8bf980"
      },
      "execution_count": 26,
      "outputs": [
        {
          "output_type": "display_data",
          "data": {
            "text/plain": [
              "<Figure size 640x480 with 1 Axes>"
            ],
            "image/png": "[encoded data removed]"
          },
          "metadata": {}
        }
      ]
    },
    {
      "cell_type": "code",
      "source": [
        "# The above shows a declining learning curve\n",
        "# It clearly indicates that after around 190~200 epochs, the loss is not decreasing at all"
      ],
      "metadata": {
        "id": "w2LnlceWHfAq"
      },
      "execution_count": 27,
      "outputs": []
    },
    {
      "cell_type": "code",
      "source": [
        "# Saving a model in Pytorch\n",
        "\n",
        "# 3 main methods for saving and loading a mode in Pytorch\n",
        "\n",
        "# 1. torch.save() - (Pytorch uses Pickle behind the scenes that allows you to save PyTorch object in Python's pickle format : https://docs.python.org/3/library/pickle.html)\n",
        "# 2. torch.load() - allows you to load a saved PyTorch object\n",
        "# 3. torch.nn.Module.load_state_dict() - allows to load a model's saved state dictionary\n",
        "\n",
        "# More details here: https://pytorch.org/tutorials/beginner/saving_loading_models.html\n",
        "# Read about saving and loading entire model vs just saving the state dict. Read in above link"
      ],
      "metadata": {
        "id": "oFscEdzgIRXN"
      },
      "execution_count": 28,
      "outputs": []
    },
    {
      "cell_type": "code",
      "source": [
        "from pathlib import Path\n",
        "\n",
        "# 1. Create model directory\n",
        "MODEL_PATH = Path(\"models\")\n",
        "MODEL_PATH.mkdir(parents=True, exist_ok=True)\n",
        "\n",
        "# 2. Create model save path\n",
        "MODEL_NAME = \"pytorch_test_model_001.pth\"\n",
        "MODEL_SAVE_PATH = MODEL_PATH / MODEL_NAME\n",
        "\n",
        "# Stop here, run the code to see if folder is getting created or not\n",
        "\n",
        "# 3. Save the model state dict\n",
        "print(f\"Saving model to path = { MODEL_SAVE_PATH }\")\n",
        "torch.save(obj=model_one.state_dict(), # not saving the full, saving dict only\n",
        "           f=MODEL_SAVE_PATH)\n",
        "\n",
        "\n",
        "# Also, read about how to save Pytorch model from Google Colab to Google Drive:\n",
        "# https://colab.research.google.com/drive/1CN7JxLA_Qk1Clc4CM75rSAqIlUKIF8xZ"
      ],
      "metadata": {
        "colab": {
          "base_uri": "https://localhost:8080/"
        },
        "id": "JqwzoTXbJDAx",
        "outputId": "1d4315b7-f243-45c0-90b5-5dc0415abc62"
      },
      "execution_count": 30,
      "outputs": [
        {
          "output_type": "stream",
          "name": "stdout",
          "text": [
            "Saving model to path = models/pytorch_test_model_001.pth\n"
          ]
        }
      ]
    },
    {
      "cell_type": "code",
      "source": [
        "# Check if model is saved\n",
        "!ls -l models"
      ],
      "metadata": {
        "colab": {
          "base_uri": "https://localhost:8080/"
        },
        "id": "zfD1PdLnLHJL",
        "outputId": "839ab6c4-1e0e-460d-d54f-cfefa9da8d55"
      },
      "execution_count": 32,
      "outputs": [
        {
          "output_type": "stream",
          "name": "stdout",
          "text": [
            "total 4\n",
            "-rw-r--r-- 1 root root 1187 Aug 30 16:01 pytorch_test_model_001.pth\n"
          ]
        }
      ]
    },
    {
      "cell_type": "code",
      "source": [
        "# Loading the PyTorch model\n",
        "\n",
        "# Since we saved model's state_dict() and not the entire model, we will create a\n",
        "# new instance of our model class and load state_dict() into it\n",
        "\n",
        "# 1. Create instance\n",
        "loaded_model_one = LinearRegressionModel()\n",
        "# print(loaded_model_one.state_dict()) # Run this to check its initialized with random params\n",
        "\n",
        "# 2. Update instance with saved state_dict\n",
        "loaded_model_one.load_state_dict(torch.load(f=MODEL_SAVE_PATH))\n",
        "print(loaded_model_one.state_dict())"
      ],
      "metadata": {
        "colab": {
          "base_uri": "https://localhost:8080/"
        },
        "id": "Y0TprWs6L5hz",
        "outputId": "e526a03f-cd2b-4c64-934a-9dfa5c93a4a2"
      },
      "execution_count": 39,
      "outputs": [
        {
          "output_type": "stream",
          "name": "stdout",
          "text": [
            "OrderedDict([('weights', tensor([0.6990])), ('bias', tensor([0.3093]))])\n"
          ]
        }
      ]
    },
    {
      "cell_type": "code",
      "source": [
        "# Make predictions with loaded model\n",
        "loaded_model_one.eval()\n",
        "with torch.inference_mode():\n",
        "  loaded_model_one_predictions = loaded_model_one(X_test)\n",
        "\n",
        "loaded_model_one_predictions"
      ],
      "metadata": {
        "colab": {
          "base_uri": "https://localhost:8080/"
        },
        "id": "0pVKt8MNMxW6",
        "outputId": "51f29179-4fb7-4419-c210-9eae7a2d6cec"
      },
      "execution_count": 51,
      "outputs": [
        {
          "output_type": "execute_result",
          "data": {
            "text/plain": [
              "tensor([[0.8685],\n",
              "        [0.8825],\n",
              "        [0.8965],\n",
              "        [0.9105],\n",
              "        [0.9245],\n",
              "        [0.9384],\n",
              "        [0.9524],\n",
              "        [0.9664],\n",
              "        [0.9804],\n",
              "        [0.9944]])"
            ]
          },
          "metadata": {},
          "execution_count": 51
        }
      ]
    },
    {
      "cell_type": "code",
      "source": [
        "# Make predictions again from original model\n",
        "model_one.eval()\n",
        "with torch.inference_mode():\n",
        "  y_preds = model_one(X_test)"
      ],
      "metadata": {
        "id": "O8WEyfdrNpnp"
      },
      "execution_count": 52,
      "outputs": []
    },
    {
      "cell_type": "code",
      "source": [
        "# Compare load model's predictions with original model's predictions\n",
        "y_preds == loaded_model_one_predictions"
      ],
      "metadata": {
        "colab": {
          "base_uri": "https://localhost:8080/"
        },
        "id": "tfEeOxQUN7jj",
        "outputId": "7385f862-8e4d-49a7-f9e7-cd2b584a435b"
      },
      "execution_count": 54,
      "outputs": [
        {
          "output_type": "execute_result",
          "data": {
            "text/plain": [
              "tensor([[True],\n",
              "        [True],\n",
              "        [True],\n",
              "        [True],\n",
              "        [True],\n",
              "        [True],\n",
              "        [True],\n",
              "        [True],\n",
              "        [True],\n",
              "        [True]])"
            ]
          },
          "metadata": {},
          "execution_count": 54
        }
      ]
    },
    {
      "cell_type": "code",
      "source": [
        "# Go and read: https://pytorch.org/tutorials/beginner/saving_loading_models.html"
      ],
      "metadata": {
        "id": "VGkDc6bwPIGO"
      },
      "execution_count": 55,
      "outputs": []
    }
  ]
}