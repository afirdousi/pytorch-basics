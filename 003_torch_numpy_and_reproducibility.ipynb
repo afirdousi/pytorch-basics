{
  "nbformat": 4,
  "nbformat_minor": 0,
  "metadata": {
    "colab": {
      "provenance": [],
      "authorship_tag": "ABX9TyO601pDAQVFJ3vKh5TRarhW",
      "include_colab_link": true
    },
    "kernelspec": {
      "name": "python3",
      "display_name": "Python 3"
    },
    "language_info": {
      "name": "python"
    }
  },
  "cells": [
    {
      "cell_type": "markdown",
      "metadata": {
        "id": "view-in-github",
        "colab_type": "text"
      },
      "source": [
        "<a href=\"https://colab.research.google.com/github/afirdousi/pytorch-basics/blob/main/003_torch_numpy_and_reproducibility.ipynb\" target=\"_parent\"><img src=\"https://colab.research.google.com/assets/colab-badge.svg\" alt=\"Open In Colab\"/></a>"
      ]
    },
    {
      "cell_type": "code",
      "execution_count": 1,
      "metadata": {
        "colab": {
          "base_uri": "https://localhost:8080/"
        },
        "id": "XyI1gZ29IkHg",
        "outputId": "911ce773-b7c6-41af-e765-99d62d5124c1"
      },
      "outputs": [
        {
          "output_type": "stream",
          "name": "stdout",
          "text": [
            "Hello Pytorch World!\n",
            "2.0.1+cu118\n"
          ]
        }
      ],
      "source": [
        "import torch\n",
        "import pandas as pd\n",
        "import numpy as np\n",
        "import matplotlib.pyplot as plt\n",
        "print(\"Hello Pytorch World!\")\n",
        "print(torch.__version__)"
      ]
    },
    {
      "cell_type": "code",
      "source": [
        "# Pytorch tensors and Numpy\n",
        "# NumPy is a numerical computing library\n"
      ],
      "metadata": {
        "id": "Yyu4lWr4Ik2T"
      },
      "execution_count": 2,
      "outputs": []
    },
    {
      "cell_type": "code",
      "source": [
        "# NumPy Data --to--> PyTorch tensor\n",
        "array = np.arange(1.0,11.0)\n",
        "array\n",
        "# array.dtype\n",
        "\n",
        "# automatically gets converted into a float64 because numpy's default data type is flaot64 | can use .from_numpy(array).type(torch.float32) to convert\n",
        "tensor = torch.from_numpy(array)\n",
        "tensor"
      ],
      "metadata": {
        "colab": {
          "base_uri": "https://localhost:8080/"
        },
        "id": "9yhEU2JqJEtt",
        "outputId": "0c2c4a64-d487-4c95-8835-7e236ef776cf"
      },
      "execution_count": 13,
      "outputs": [
        {
          "output_type": "execute_result",
          "data": {
            "text/plain": [
              "tensor([ 1.,  2.,  3.,  4.,  5.,  6.,  7.,  8.,  9., 10.], dtype=torch.float64)"
            ]
          },
          "metadata": {},
          "execution_count": 13
        }
      ]
    },
    {
      "cell_type": "code",
      "source": [
        "# If we change the value of numpy array, will the tensor created of from_numpy will change?\n",
        "array = array * 10\n",
        "array, tensor\n",
        "\n",
        "# meaning .from_numpy created a copy and deos not pass reference"
      ],
      "metadata": {
        "colab": {
          "base_uri": "https://localhost:8080/"
        },
        "id": "5x6zRisGKAah",
        "outputId": "b78e5afe-f0a7-46a9-f08c-ae7ee8904f3c"
      },
      "execution_count": 15,
      "outputs": [
        {
          "output_type": "execute_result",
          "data": {
            "text/plain": [
              "(array([ 100.,  200.,  300.,  400.,  500.,  600.,  700.,  800.,  900.,\n",
              "        1000.]),\n",
              " tensor([ 1.,  2.,  3.,  4.,  5.,  6.,  7.,  8.,  9., 10.], dtype=torch.float64))"
            ]
          },
          "metadata": {},
          "execution_count": 15
        }
      ]
    },
    {
      "cell_type": "code",
      "source": [
        "# PyTorch tensor --to--> NumPy Data\n",
        "tensor = torch.ones(100)\n",
        "numpy_tensor = tensor.numpy()\n",
        "\n",
        "# automatically gets converted into a float32 because pytorch's default data type is flaot32 |\n",
        "# we cannot .type(torch.float64) here because numpy does not have this conversion/casting method\n",
        "numpy_tensor"
      ],
      "metadata": {
        "colab": {
          "base_uri": "https://localhost:8080/"
        },
        "id": "0tMOIK1hJUzh",
        "outputId": "f1d6497c-df35-4d70-cca0-0d0c7b906764"
      },
      "execution_count": 21,
      "outputs": [
        {
          "output_type": "execute_result",
          "data": {
            "text/plain": [
              "array([1., 1., 1., 1., 1., 1., 1., 1., 1., 1., 1., 1., 1., 1., 1., 1., 1.,\n",
              "       1., 1., 1., 1., 1., 1., 1., 1., 1., 1., 1., 1., 1., 1., 1., 1., 1.,\n",
              "       1., 1., 1., 1., 1., 1., 1., 1., 1., 1., 1., 1., 1., 1., 1., 1., 1.,\n",
              "       1., 1., 1., 1., 1., 1., 1., 1., 1., 1., 1., 1., 1., 1., 1., 1., 1.,\n",
              "       1., 1., 1., 1., 1., 1., 1., 1., 1., 1., 1., 1., 1., 1., 1., 1., 1.,\n",
              "       1., 1., 1., 1., 1., 1., 1., 1., 1., 1., 1., 1., 1., 1., 1.],\n",
              "      dtype=float32)"
            ]
          },
          "metadata": {},
          "execution_count": 21
        }
      ]
    },
    {
      "cell_type": "code",
      "source": [
        "# If we change the value of pytorch tensor, will the numpy created of .numpy() will change?\n",
        "tensor = tensor * 10\n",
        "numpy_tensor, tensor\n",
        "\n",
        "# meaning .numpy() created a copy and deos not pass reference"
      ],
      "metadata": {
        "colab": {
          "base_uri": "https://localhost:8080/"
        },
        "id": "GbhW-0ehKqnY",
        "outputId": "f21d23d3-8a12-45b8-85fd-7b89cacf5b8f"
      },
      "execution_count": 22,
      "outputs": [
        {
          "output_type": "execute_result",
          "data": {
            "text/plain": [
              "(array([1., 1., 1., 1., 1., 1., 1., 1., 1., 1., 1., 1., 1., 1., 1., 1., 1.,\n",
              "        1., 1., 1., 1., 1., 1., 1., 1., 1., 1., 1., 1., 1., 1., 1., 1., 1.,\n",
              "        1., 1., 1., 1., 1., 1., 1., 1., 1., 1., 1., 1., 1., 1., 1., 1., 1.,\n",
              "        1., 1., 1., 1., 1., 1., 1., 1., 1., 1., 1., 1., 1., 1., 1., 1., 1.,\n",
              "        1., 1., 1., 1., 1., 1., 1., 1., 1., 1., 1., 1., 1., 1., 1., 1., 1.,\n",
              "        1., 1., 1., 1., 1., 1., 1., 1., 1., 1., 1., 1., 1., 1., 1.],\n",
              "       dtype=float32),\n",
              " tensor([10., 10., 10., 10., 10., 10., 10., 10., 10., 10., 10., 10., 10., 10.,\n",
              "         10., 10., 10., 10., 10., 10., 10., 10., 10., 10., 10., 10., 10., 10.,\n",
              "         10., 10., 10., 10., 10., 10., 10., 10., 10., 10., 10., 10., 10., 10.,\n",
              "         10., 10., 10., 10., 10., 10., 10., 10., 10., 10., 10., 10., 10., 10.,\n",
              "         10., 10., 10., 10., 10., 10., 10., 10., 10., 10., 10., 10., 10., 10.,\n",
              "         10., 10., 10., 10., 10., 10., 10., 10., 10., 10., 10., 10., 10., 10.,\n",
              "         10., 10., 10., 10., 10., 10., 10., 10., 10., 10., 10., 10., 10., 10.,\n",
              "         10., 10.]))"
            ]
          },
          "metadata": {},
          "execution_count": 22
        }
      ]
    },
    {
      "cell_type": "code",
      "source": [
        "# Reproducibility in PyTorch: https://pytorch.org/docs/stable/notes/randomness.html\n",
        "# Reproducibility = trying to take random out of random (useful for Neural Networks random seeds)"
      ],
      "metadata": {
        "id": "7E0KkOrdLVr1"
      },
      "execution_count": 23,
      "outputs": []
    },
    {
      "cell_type": "code",
      "source": [
        " # everytime we run this, pytorch gives us fresh random numbers but what if\n",
        " # we want to share the exact same random numbers if we want to share this notebook or code with someone?\n",
        "torch.rand(5,5)"
      ],
      "metadata": {
        "colab": {
          "base_uri": "https://localhost:8080/"
        },
        "id": "ZwMHyg3vLyIV",
        "outputId": "552c2d98-aab0-43e1-bbb6-ecbb95092898"
      },
      "execution_count": 25,
      "outputs": [
        {
          "output_type": "execute_result",
          "data": {
            "text/plain": [
              "tensor([[0.9065, 0.4169, 0.1124, 0.3001, 0.6991],\n",
              "        [0.1594, 0.6399, 0.1300, 0.8928, 0.3401],\n",
              "        [0.8621, 0.2243, 0.0619, 0.6158, 0.2455],\n",
              "        [0.3419, 0.5432, 0.1338, 0.0702, 0.1570],\n",
              "        [0.6626, 0.6094, 0.3136, 0.2323, 0.9808]])"
            ]
          },
          "metadata": {},
          "execution_count": 25
        }
      ]
    },
    {
      "cell_type": "code",
      "source": [
        "# Create two random tensors\n",
        "random_tensor_one = torch.rand(5,5)"
      ],
      "metadata": {
        "id": "I5u6nfteLzwq"
      },
      "execution_count": 26,
      "outputs": []
    },
    {
      "cell_type": "code",
      "source": [
        "random_tensor_two = torch.rand(5,5)"
      ],
      "metadata": {
        "id": "rUj8eKD5MSkO"
      },
      "execution_count": 27,
      "outputs": []
    },
    {
      "cell_type": "code",
      "source": [
        "random_tensor_one, random_tensor_two"
      ],
      "metadata": {
        "colab": {
          "base_uri": "https://localhost:8080/"
        },
        "id": "8D_ewdscMTt2",
        "outputId": "6aa58bd5-26df-4593-fab3-4a59979fe152"
      },
      "execution_count": 28,
      "outputs": [
        {
          "output_type": "execute_result",
          "data": {
            "text/plain": [
              "(tensor([[0.3910, 0.6245, 0.6944, 0.9901, 0.0575],\n",
              "         [0.3924, 0.7594, 0.4346, 0.3765, 0.4985],\n",
              "         [0.6304, 0.5357, 0.9133, 0.3469, 0.1605],\n",
              "         [0.6045, 0.4394, 0.7319, 0.8237, 0.4014],\n",
              "         [0.1909, 0.0098, 0.1229, 0.1901, 0.5477]]),\n",
              " tensor([[0.2161, 0.6427, 0.4984, 0.9854, 0.4525],\n",
              "         [0.1567, 0.9346, 0.7444, 0.2773, 0.8145],\n",
              "         [0.4128, 0.4717, 0.4652, 0.8922, 0.3245],\n",
              "         [0.4364, 0.1012, 0.9079, 0.3851, 0.9148],\n",
              "         [0.6663, 0.9836, 0.5717, 0.7952, 0.3038]]))"
            ]
          },
          "metadata": {},
          "execution_count": 28
        }
      ]
    },
    {
      "cell_type": "code",
      "source": [
        "random_tensor_one == random_tensor_two"
      ],
      "metadata": {
        "colab": {
          "base_uri": "https://localhost:8080/"
        },
        "id": "J7_0mcqMMWQq",
        "outputId": "d2bb035e-e21a-4fb6-b89f-1c00754235b3"
      },
      "execution_count": 32,
      "outputs": [
        {
          "output_type": "execute_result",
          "data": {
            "text/plain": [
              "tensor([[False, False, False, False, False],\n",
              "        [False, False, False, False, False],\n",
              "        [False, False, False, False, False],\n",
              "        [False, False, False, False, False],\n",
              "        [False, False, False, False, False]])"
            ]
          },
          "metadata": {},
          "execution_count": 32
        }
      ]
    },
    {
      "cell_type": "code",
      "source": [
        "# If we share this notebook with anyone, the generated random numbers will be different\n",
        "# What if I want to share the exact same random numbers?\n",
        "# We do this through the concept of a random seed\n",
        "\n",
        "# Set the random seed\n",
        "RANDOM_SEED = 42 # 42 is a common one...this would be specific random flavor\n",
        "torch.manual_seed(RANDOM_SEED)\n"
      ],
      "metadata": {
        "colab": {
          "base_uri": "https://localhost:8080/"
        },
        "id": "NDwDBFrMMYZv",
        "outputId": "0327903a-4a00-42af-fa85-f1c76fc080e6"
      },
      "execution_count": 33,
      "outputs": [
        {
          "output_type": "execute_result",
          "data": {
            "text/plain": [
              "<torch._C.Generator at 0x7bdc5155b8f0>"
            ]
          },
          "metadata": {},
          "execution_count": 33
        }
      ]
    },
    {
      "cell_type": "code",
      "source": [
        "random_tensor_one = torch.rand(5,5)\n",
        "random_tensor_two = torch.rand(5,5)\n",
        "\n",
        "random_tensor_one, random_tensor_two # Still didn't work"
      ],
      "metadata": {
        "colab": {
          "base_uri": "https://localhost:8080/"
        },
        "id": "NKI_m5znM9yr",
        "outputId": "97496c26-306a-4b71-b5aa-e37cef00978a"
      },
      "execution_count": 35,
      "outputs": [
        {
          "output_type": "execute_result",
          "data": {
            "text/plain": [
              "(tensor([[0.2695, 0.3588, 0.1994, 0.5472, 0.0062],\n",
              "         [0.9516, 0.0753, 0.8860, 0.5832, 0.3376],\n",
              "         [0.8090, 0.5779, 0.9040, 0.5547, 0.3423],\n",
              "         [0.6343, 0.3644, 0.7104, 0.9464, 0.7890],\n",
              "         [0.2814, 0.7886, 0.5895, 0.7539, 0.1952]]),\n",
              " tensor([[0.0050, 0.3068, 0.1165, 0.9103, 0.6440],\n",
              "         [0.7071, 0.6581, 0.4913, 0.8913, 0.1447],\n",
              "         [0.5315, 0.1587, 0.6542, 0.3278, 0.6532],\n",
              "         [0.3958, 0.9147, 0.2036, 0.2018, 0.2018],\n",
              "         [0.9497, 0.6666, 0.9811, 0.0874, 0.0041]]))"
            ]
          },
          "metadata": {},
          "execution_count": 35
        }
      ]
    },
    {
      "cell_type": "code",
      "source": [
        "#If you want to use torch's manual seed, you will have to call manual_seed everytime before you call .rand()\n",
        "\n",
        "torch.manual_seed(RANDOM_SEED)\n",
        "random_tensor_one = torch.rand(5,5)\n",
        "torch.manual_seed(RANDOM_SEED)\n",
        "random_tensor_two = torch.rand(5,5)\n",
        "\n",
        "random_tensor_one, random_tensor_two # Still didn't work"
      ],
      "metadata": {
        "colab": {
          "base_uri": "https://localhost:8080/"
        },
        "id": "NMSZa5rANB8T",
        "outputId": "f47570df-e02f-4f7c-ea08-976522635f0a"
      },
      "execution_count": 37,
      "outputs": [
        {
          "output_type": "execute_result",
          "data": {
            "text/plain": [
              "(tensor([[0.8823, 0.9150, 0.3829, 0.9593, 0.3904],\n",
              "         [0.6009, 0.2566, 0.7936, 0.9408, 0.1332],\n",
              "         [0.9346, 0.5936, 0.8694, 0.5677, 0.7411],\n",
              "         [0.4294, 0.8854, 0.5739, 0.2666, 0.6274],\n",
              "         [0.2696, 0.4414, 0.2969, 0.8317, 0.1053]]),\n",
              " tensor([[0.8823, 0.9150, 0.3829, 0.9593, 0.3904],\n",
              "         [0.6009, 0.2566, 0.7936, 0.9408, 0.1332],\n",
              "         [0.9346, 0.5936, 0.8694, 0.5677, 0.7411],\n",
              "         [0.4294, 0.8854, 0.5739, 0.2666, 0.6274],\n",
              "         [0.2696, 0.4414, 0.2969, 0.8317, 0.1053]]))"
            ]
          },
          "metadata": {},
          "execution_count": 37
        }
      ]
    },
    {
      "cell_type": "code",
      "source": [
        "random_tensor_one == random_tensor_two"
      ],
      "metadata": {
        "colab": {
          "base_uri": "https://localhost:8080/"
        },
        "id": "zKpAwWF7NZ35",
        "outputId": "e3b440b6-8548-4e63-f2a6-1fe88c1a129a"
      },
      "execution_count": 38,
      "outputs": [
        {
          "output_type": "execute_result",
          "data": {
            "text/plain": [
              "tensor([[True, True, True, True, True],\n",
              "        [True, True, True, True, True],\n",
              "        [True, True, True, True, True],\n",
              "        [True, True, True, True, True],\n",
              "        [True, True, True, True, True]])"
            ]
          },
          "metadata": {},
          "execution_count": 38
        }
      ]
    },
    {
      "cell_type": "code",
      "source": [
        "# Learn more at https://en.wikipedia.org/wiki/Random_seed\n",
        "# There is also a rnadom seed in numpy, check this: https://numpy.org/doc/stable/reference/random/generated/numpy.random.seed.html"
      ],
      "metadata": {
        "id": "7wdqFALcNczS"
      },
      "execution_count": 39,
      "outputs": []
    },
    {
      "cell_type": "code",
      "source": [],
      "metadata": {
        "id": "r5gTEDahOAuI"
      },
      "execution_count": null,
      "outputs": []
    },
    {
      "cell_type": "code",
      "source": [],
      "metadata": {
        "id": "UwY1KHxaOItB"
      },
      "execution_count": null,
      "outputs": []
    }
  ]
}