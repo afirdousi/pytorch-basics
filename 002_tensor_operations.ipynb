{
  "nbformat": 4,
  "nbformat_minor": 0,
  "metadata": {
    "colab": {
      "provenance": [],
      "authorship_tag": "ABX9TyOSBkMu1Z6ZDJsPwySl1IwF",
      "include_colab_link": true
    },
    "kernelspec": {
      "name": "python3",
      "display_name": "Python 3"
    },
    "language_info": {
      "name": "python"
    }
  },
  "cells": [
    {
      "cell_type": "markdown",
      "metadata": {
        "id": "view-in-github",
        "colab_type": "text"
      },
      "source": [
        "<a href=\"https://colab.research.google.com/github/afirdousi/pytorch-basics/blob/main/002_tensor_operations.ipynb\" target=\"_parent\"><img src=\"https://colab.research.google.com/assets/colab-badge.svg\" alt=\"Open In Colab\"/></a>"
      ]
    },
    {
      "cell_type": "code",
      "execution_count": 1,
      "metadata": {
        "colab": {
          "base_uri": "https://localhost:8080/"
        },
        "id": "1HL-CHfzMeG2",
        "outputId": "9be5ae52-113d-495e-bd04-8275758ee551"
      },
      "outputs": [
        {
          "output_type": "stream",
          "name": "stdout",
          "text": [
            "Hello Pytorch World!\n",
            "2.0.1+cu118\n"
          ]
        }
      ],
      "source": [
        "import torch\n",
        "import pandas as pd\n",
        "import numpy as np\n",
        "import matplotlib.pyplot as plt\n",
        "print(\"Hello Pytorch World!\")\n",
        "print(torch.__version__)"
      ]
    },
    {
      "cell_type": "code",
      "source": [
        "### Manipulating Tensors (addition, subtraction, element-wise multiplication, division, matrix multiplication)\n",
        "\n",
        "# Create a tensor\n",
        "\n",
        "tensor = torch.tensor([10, 20, 30])\n",
        "tensor + 100"
      ],
      "metadata": {
        "colab": {
          "base_uri": "https://localhost:8080/"
        },
        "id": "1zWp3hkxMjGZ",
        "outputId": "817f1ea9-d505-43e1-ea48-e43332825a35"
      },
      "execution_count": 3,
      "outputs": [
        {
          "output_type": "execute_result",
          "data": {
            "text/plain": [
              "tensor([110, 120, 130])"
            ]
          },
          "metadata": {},
          "execution_count": 3
        }
      ]
    },
    {
      "cell_type": "code",
      "source": [
        "tensor - 10"
      ],
      "metadata": {
        "colab": {
          "base_uri": "https://localhost:8080/"
        },
        "id": "8eMvcH_0NS3D",
        "outputId": "1f896ac0-50fe-4e7f-8087-d5ed7684b1f5"
      },
      "execution_count": 8,
      "outputs": [
        {
          "output_type": "execute_result",
          "data": {
            "text/plain": [
              "tensor([ 0, 10, 20])"
            ]
          },
          "metadata": {},
          "execution_count": 8
        }
      ]
    },
    {
      "cell_type": "code",
      "source": [
        "tensor * 100"
      ],
      "metadata": {
        "colab": {
          "base_uri": "https://localhost:8080/"
        },
        "id": "wiPyAksZNJRv",
        "outputId": "7273e320-deae-427d-a0e6-2fefd9e14930"
      },
      "execution_count": 4,
      "outputs": [
        {
          "output_type": "execute_result",
          "data": {
            "text/plain": [
              "tensor([1000, 2000, 3000])"
            ]
          },
          "metadata": {},
          "execution_count": 4
        }
      ]
    },
    {
      "cell_type": "code",
      "source": [
        "tensor / 10"
      ],
      "metadata": {
        "colab": {
          "base_uri": "https://localhost:8080/"
        },
        "id": "2cS4YRggNM_E",
        "outputId": "51e8b997-3bfd-43a6-9597-bfea3e1268ed"
      },
      "execution_count": 5,
      "outputs": [
        {
          "output_type": "execute_result",
          "data": {
            "text/plain": [
              "tensor([1., 2., 3.])"
            ]
          },
          "metadata": {},
          "execution_count": 5
        }
      ]
    },
    {
      "cell_type": "code",
      "source": [
        "tensor # original tensor hasn't changed"
      ],
      "metadata": {
        "colab": {
          "base_uri": "https://localhost:8080/"
        },
        "id": "t2iksgU6NPkq",
        "outputId": "1e230121-30bf-4dfc-be4d-ba93701799df"
      },
      "execution_count": 7,
      "outputs": [
        {
          "output_type": "execute_result",
          "data": {
            "text/plain": [
              "tensor([10, 20, 30])"
            ]
          },
          "metadata": {},
          "execution_count": 7
        }
      ]
    },
    {
      "cell_type": "code",
      "source": [
        "tensor.mul(10) # same as tensor * 10 --- prefer to use basic python operations"
      ],
      "metadata": {
        "colab": {
          "base_uri": "https://localhost:8080/"
        },
        "id": "23Ixtbt8Na2m",
        "outputId": "355035c6-fece-4887-ba94-df3d699add4e"
      },
      "execution_count": 10,
      "outputs": [
        {
          "output_type": "execute_result",
          "data": {
            "text/plain": [
              "tensor([100, 200, 300])"
            ]
          },
          "metadata": {},
          "execution_count": 10
        }
      ]
    },
    {
      "cell_type": "code",
      "source": [
        "torch.add(tensor, 500)"
      ],
      "metadata": {
        "colab": {
          "base_uri": "https://localhost:8080/"
        },
        "id": "OEij_qACNiel",
        "outputId": "e505c4f6-d1a6-4d20-d565-019a8c3c1002"
      },
      "execution_count": 12,
      "outputs": [
        {
          "output_type": "execute_result",
          "data": {
            "text/plain": [
              "tensor([510, 520, 530])"
            ]
          },
          "metadata": {},
          "execution_count": 12
        }
      ]
    },
    {
      "cell_type": "code",
      "source": [
        "#matrix multiplication\n",
        "\n",
        "#Two ways of multiplication in Neural nets\n",
        "# 1/ element wise multiplication can be multiply matrix by a scalar or multiplying two tensors element wise\n",
        "# 2/ matrix multiplication meaning multiplying two matrices aka dot product\n",
        "\n",
        "#1\n",
        "print(tensor * tensor) # element wise multiplication\n",
        "\n",
        "#2\n",
        "torch.matmul(tensor, tensor) # matrix multiplication = 10*10 + 20*20 + 30*30 = 100 + 400 + 900"
      ],
      "metadata": {
        "colab": {
          "base_uri": "https://localhost:8080/"
        },
        "id": "BwXUZRqxNodQ",
        "outputId": "6cee82b5-92e1-4a8f-edf0-8967d7c459be"
      },
      "execution_count": 17,
      "outputs": [
        {
          "output_type": "stream",
          "name": "stdout",
          "text": [
            "tensor([100, 400, 900])\n"
          ]
        },
        {
          "output_type": "execute_result",
          "data": {
            "text/plain": [
              "tensor(1400)"
            ]
          },
          "metadata": {},
          "execution_count": 17
        }
      ]
    },
    {
      "cell_type": "code",
      "source": [
        "# check which operator is faster (matmul) or doing matrix multiplication with raw python operators\n",
        "%%time\n",
        "value = 0\n",
        "for i in range(len(tensor)):\n",
        "  value = value + tensor[i]\n",
        "print(value)"
      ],
      "metadata": {
        "colab": {
          "base_uri": "https://localhost:8080/"
        },
        "id": "-CSeVRRDN47m",
        "outputId": "fa6b9905-bb3a-4ba9-99a5-54e861b15d55"
      },
      "execution_count": 18,
      "outputs": [
        {
          "output_type": "stream",
          "name": "stdout",
          "text": [
            "tensor(60)\n",
            "CPU times: user 2.73 ms, sys: 0 ns, total: 2.73 ms\n",
            "Wall time: 2.8 ms\n"
          ]
        }
      ]
    },
    {
      "cell_type": "code",
      "source": [
        "%%time\n",
        "torch.matmul(tensor, tensor) # even with a tensor of 3 elements matmul is 6x faster, imagine the effect on tensor of 1000 elements"
      ],
      "metadata": {
        "colab": {
          "base_uri": "https://localhost:8080/"
        },
        "id": "iWIq4opRPacd",
        "outputId": "2474d2b4-0818-4002-a6b2-602668a94554"
      },
      "execution_count": 20,
      "outputs": [
        {
          "output_type": "stream",
          "name": "stdout",
          "text": [
            "CPU times: user 490 µs, sys: 0 ns, total: 490 µs\n",
            "Wall time: 399 µs\n"
          ]
        },
        {
          "output_type": "execute_result",
          "data": {
            "text/plain": [
              "tensor(1400)"
            ]
          },
          "metadata": {},
          "execution_count": 20
        }
      ]
    },
    {
      "cell_type": "code",
      "source": [
        "%%time\n",
        "tensor @ tensor ## @ is short form for matmul --- runs a little slower than matmul I believe (Check)\n",
        "# another option is tensor.mm() its a direct alias of .matmul()"
      ],
      "metadata": {
        "colab": {
          "base_uri": "https://localhost:8080/"
        },
        "id": "r7-NE85zPfKz",
        "outputId": "bbd2346b-7b37-4f4d-82af-97d18af5edcd"
      },
      "execution_count": 22,
      "outputs": [
        {
          "output_type": "stream",
          "name": "stdout",
          "text": [
            "CPU times: user 762 µs, sys: 0 ns, total: 762 µs\n",
            "Wall time: 703 µs\n"
          ]
        },
        {
          "output_type": "execute_result",
          "data": {
            "text/plain": [
              "tensor(1400)"
            ]
          },
          "metadata": {},
          "execution_count": 22
        }
      ]
    },
    {
      "cell_type": "code",
      "source": [
        "# common errors: shape error\n",
        "# for dot product, col of first matrix should match with row of second matrix\n",
        "\n",
        "# Run the following and it will fail (this is the common shape error)\n",
        "#torch.matmul( torch.rand(3,2) , torch.rand(4,2)) # RuntimeError: mat1 and mat2 shapes cannot be multiplied (3x2 and 4x2)"
      ],
      "metadata": {
        "id": "ziEN6fI8QP2n"
      },
      "execution_count": 25,
      "outputs": []
    },
    {
      "cell_type": "code",
      "source": [
        "# following will work\n",
        "torch.matmul( torch.rand(3,2) , torch.rand(2,4)) # the results will have # of rows of first and # of columns of second (3,4)"
      ],
      "metadata": {
        "colab": {
          "base_uri": "https://localhost:8080/"
        },
        "id": "CvZRXgzjQuUC",
        "outputId": "7d2c4f6b-ddbe-46a6-be8d-8aed893ccdca"
      },
      "execution_count": 26,
      "outputs": [
        {
          "output_type": "execute_result",
          "data": {
            "text/plain": [
              "tensor([[0.2735, 0.3862, 0.4608, 0.2032],\n",
              "        [0.5140, 0.8307, 0.8298, 0.3767],\n",
              "        [0.0531, 0.1572, 0.0612, 0.0355]])"
            ]
          },
          "metadata": {},
          "execution_count": 26
        }
      ]
    },
    {
      "cell_type": "code",
      "source": [
        "# what if we have two tensors that cannot be multipled?\n",
        "# how can we update the tensors to make it work? take transpose!\n",
        "\n",
        "tensor_one = torch.rand(3,4)\n",
        "tensor_two = torch.rand(3,4)\n",
        "\n",
        "print(tensor_one)\n",
        "print(tensor_two)"
      ],
      "metadata": {
        "colab": {
          "base_uri": "https://localhost:8080/"
        },
        "id": "o9ZrAybkQ_np",
        "outputId": "44dc9ad6-1ec0-4e07-c2a0-c056dce2c16b"
      },
      "execution_count": 28,
      "outputs": [
        {
          "output_type": "stream",
          "name": "stdout",
          "text": [
            "tensor([[0.0447, 0.5213, 0.2183, 0.8195],\n",
            "        [0.8184, 0.5144, 0.4304, 0.8499],\n",
            "        [0.1568, 0.2409, 0.2897, 0.3780]])\n",
            "tensor([[0.4058, 0.3444, 0.2587, 0.8655],\n",
            "        [0.1147, 0.3405, 0.2211, 0.1258],\n",
            "        [0.2567, 0.8136, 0.5463, 0.2811]])\n"
          ]
        }
      ]
    },
    {
      "cell_type": "code",
      "source": [
        "# Action: run this, it would fail due to # of col of first not matchin # of col of second\n",
        "# tensor_one.mm(tensor_two) ## RuntimeError: mat1 and mat2 shapes cannot be multiplied (3x4 and 3x4)"
      ],
      "metadata": {
        "id": "aJkKu9pcSOrW"
      },
      "execution_count": 31,
      "outputs": []
    },
    {
      "cell_type": "code",
      "source": [
        "tensor_two.T # this will change shape from 3,4 to 4,3 --- this can now be multiplied by tensor_one"
      ],
      "metadata": {
        "colab": {
          "base_uri": "https://localhost:8080/"
        },
        "id": "-U7ldJYPSWpL",
        "outputId": "a9e5af65-a31f-4757-9fb2-9aeb8eb7f50c"
      },
      "execution_count": 32,
      "outputs": [
        {
          "output_type": "execute_result",
          "data": {
            "text/plain": [
              "tensor([[0.4058, 0.1147, 0.2567],\n",
              "        [0.3444, 0.3405, 0.8136],\n",
              "        [0.2587, 0.2211, 0.5463],\n",
              "        [0.8655, 0.1258, 0.2811]])"
            ]
          },
          "metadata": {},
          "execution_count": 32
        }
      ]
    },
    {
      "cell_type": "code",
      "source": [
        "torch.matmul(tensor_one, tensor_two.T)"
      ],
      "metadata": {
        "colab": {
          "base_uri": "https://localhost:8080/"
        },
        "id": "eBv43IPCSoyD",
        "outputId": "cc3048ed-2767-4863-bfdc-13247ec697c9"
      },
      "execution_count": 37,
      "outputs": [
        {
          "output_type": "execute_result",
          "data": {
            "text/plain": [
              "tensor([[0.9634, 0.3340, 0.7852],\n",
              "        [1.3563, 0.4711, 1.1027],\n",
              "        [0.5488, 0.2116, 0.5008]])"
            ]
          },
          "metadata": {},
          "execution_count": 37
        }
      ]
    },
    {
      "cell_type": "code",
      "source": [
        "print(f\"Shape of Tensor One\", { tensor_one.shape })\n",
        "print(f\"Shape of Tensor Two\", { tensor_two.shape })\n",
        "print(f\"Shape of Tensor Two Transposed\", { tensor_two.T.shape})"
      ],
      "metadata": {
        "colab": {
          "base_uri": "https://localhost:8080/"
        },
        "id": "nqdYyC5mS19C",
        "outputId": "58124c8d-00bf-4869-bf08-6a7184eec78d"
      },
      "execution_count": 39,
      "outputs": [
        {
          "output_type": "stream",
          "name": "stdout",
          "text": [
            "Shape of Tensor One {torch.Size([3, 4])}\n",
            "Shape of Tensor Two {torch.Size([3, 4])}\n",
            "Shape of Tensor Two Transposed {torch.Size([4, 3])}\n"
          ]
        }
      ]
    },
    {
      "cell_type": "code",
      "source": [
        "# Check matrix multiplication animation here: http://matrixmultiplication.xyz/"
      ],
      "metadata": {
        "id": "RCQTFXl7Tjj6"
      },
      "execution_count": 40,
      "outputs": []
    },
    {
      "cell_type": "code",
      "source": [
        "# matrix aggrgation  (min, max, average/mean )\n",
        "\n",
        "tensor_aggr = torch.arange(1,101)\n",
        "tensor_aggr"
      ],
      "metadata": {
        "colab": {
          "base_uri": "https://localhost:8080/"
        },
        "id": "EeOZuZZ9Um56",
        "outputId": "a9589c98-87ce-40bb-a37c-82139a16326c"
      },
      "execution_count": 42,
      "outputs": [
        {
          "output_type": "execute_result",
          "data": {
            "text/plain": [
              "tensor([  1,   2,   3,   4,   5,   6,   7,   8,   9,  10,  11,  12,  13,  14,\n",
              "         15,  16,  17,  18,  19,  20,  21,  22,  23,  24,  25,  26,  27,  28,\n",
              "         29,  30,  31,  32,  33,  34,  35,  36,  37,  38,  39,  40,  41,  42,\n",
              "         43,  44,  45,  46,  47,  48,  49,  50,  51,  52,  53,  54,  55,  56,\n",
              "         57,  58,  59,  60,  61,  62,  63,  64,  65,  66,  67,  68,  69,  70,\n",
              "         71,  72,  73,  74,  75,  76,  77,  78,  79,  80,  81,  82,  83,  84,\n",
              "         85,  86,  87,  88,  89,  90,  91,  92,  93,  94,  95,  96,  97,  98,\n",
              "         99, 100])"
            ]
          },
          "metadata": {},
          "execution_count": 42
        }
      ]
    },
    {
      "cell_type": "code",
      "source": [
        "tensor_aggr, tensor_aggr.dtype"
      ],
      "metadata": {
        "colab": {
          "base_uri": "https://localhost:8080/"
        },
        "id": "mnyufLFZVGgp",
        "outputId": "a2c61f1e-946d-4d0c-f0a0-414e357abd8e"
      },
      "execution_count": 43,
      "outputs": [
        {
          "output_type": "execute_result",
          "data": {
            "text/plain": [
              "(tensor([  1,   2,   3,   4,   5,   6,   7,   8,   9,  10,  11,  12,  13,  14,\n",
              "          15,  16,  17,  18,  19,  20,  21,  22,  23,  24,  25,  26,  27,  28,\n",
              "          29,  30,  31,  32,  33,  34,  35,  36,  37,  38,  39,  40,  41,  42,\n",
              "          43,  44,  45,  46,  47,  48,  49,  50,  51,  52,  53,  54,  55,  56,\n",
              "          57,  58,  59,  60,  61,  62,  63,  64,  65,  66,  67,  68,  69,  70,\n",
              "          71,  72,  73,  74,  75,  76,  77,  78,  79,  80,  81,  82,  83,  84,\n",
              "          85,  86,  87,  88,  89,  90,  91,  92,  93,  94,  95,  96,  97,  98,\n",
              "          99, 100]),\n",
              " torch.int64)"
            ]
          },
          "metadata": {},
          "execution_count": 43
        }
      ]
    },
    {
      "cell_type": "code",
      "source": [
        "#min\n",
        "torch.min(tensor_aggr) , tensor_aggr.min() # 2 ways to do it"
      ],
      "metadata": {
        "colab": {
          "base_uri": "https://localhost:8080/"
        },
        "id": "5adaPcwvVQLS",
        "outputId": "9451df7e-3979-4c04-f9c8-ef5213c81a71"
      },
      "execution_count": 44,
      "outputs": [
        {
          "output_type": "execute_result",
          "data": {
            "text/plain": [
              "(tensor(1), tensor(1))"
            ]
          },
          "metadata": {},
          "execution_count": 44
        }
      ]
    },
    {
      "cell_type": "code",
      "source": [
        "#max\n",
        "torch.max(tensor_aggr) , tensor_aggr.max()"
      ],
      "metadata": {
        "colab": {
          "base_uri": "https://localhost:8080/"
        },
        "id": "uxFzjXPlVW_l",
        "outputId": "c918c7ca-00d0-42d1-e092-471908ad9770"
      },
      "execution_count": 46,
      "outputs": [
        {
          "output_type": "execute_result",
          "data": {
            "text/plain": [
              "(tensor(100), tensor(100))"
            ]
          },
          "metadata": {},
          "execution_count": 46
        }
      ]
    },
    {
      "cell_type": "code",
      "source": [
        "#mean\n",
        "#try to run following - will fail because .mean() requires a tensor of float32 datatype\n",
        "# torch.mean(tensor_aggr) # RuntimeError: mean(): could not infer output dtype. Input dtype must be either a floating point or complex dtype. Got: Long"
      ],
      "metadata": {
        "id": "sP72ZU8xVcQg"
      },
      "execution_count": 48,
      "outputs": []
    },
    {
      "cell_type": "code",
      "source": [
        "torch.mean(tensor_aggr.type(torch.float32)) , tensor_aggr.type(torch.float32).mean()"
      ],
      "metadata": {
        "colab": {
          "base_uri": "https://localhost:8080/"
        },
        "id": "O6AXsLDeVkHD",
        "outputId": "27ca5781-bea2-42a1-f78a-b7fa2a75a673"
      },
      "execution_count": 50,
      "outputs": [
        {
          "output_type": "execute_result",
          "data": {
            "text/plain": [
              "(tensor(50.5000), tensor(50.5000))"
            ]
          },
          "metadata": {},
          "execution_count": 50
        }
      ]
    },
    {
      "cell_type": "code",
      "source": [
        "#find index of min and max values\n",
        "\n",
        "print(tensor_aggr.argmin())\n",
        "print(tensor_aggr.argmin().item())\n",
        "print(tensor_aggr.argmax())\n",
        "print(tensor_aggr.argmax().item())\n",
        "\n",
        "# we use this to implement softmax and softmin functions internally in neural networks"
      ],
      "metadata": {
        "colab": {
          "base_uri": "https://localhost:8080/"
        },
        "id": "QOPTBxPpV6JF",
        "outputId": "8c015031-234b-402a-e39e-dc8ed4e45433"
      },
      "execution_count": 59,
      "outputs": [
        {
          "output_type": "stream",
          "name": "stdout",
          "text": [
            "tensor(0)\n",
            "0\n",
            "tensor(99)\n",
            "99\n"
          ]
        }
      ]
    },
    {
      "cell_type": "code",
      "source": [
        "## 1/ Reshaping tensors: reshapes input tensor into defined shape\n",
        "## 2/ View tensors: returns a view of an input tensor of certain shape but the keep the same memory as the original shape\n",
        "## 3/ Stacking tensors: combine multiple tensor on top of each other (vstack) or side by side (hstack)\n",
        "# https://pytorch.org/docs/stable/generated/torch.stack.html\n",
        "# https://pytorch.org/docs/stable/generated/torch.vstack.html\n",
        "# https://pytorch.org/docs/stable/generated/torch.hstack.html\n",
        "# 4/ Squeeze: removes all 1 dimensions from a tensor\n",
        "# 5/ Unqueeze: add a 1 dimension to a tensor\n",
        "# 6/ Permute: Returns a view of the input with dimensions permuted (swapped) in a certain way"
      ],
      "metadata": {
        "id": "wD2gP5qRWQgy"
      },
      "execution_count": 62,
      "outputs": []
    },
    {
      "cell_type": "code",
      "source": [
        "### Reshaping Tensors"
      ],
      "metadata": {
        "id": "T_c3AjAOZPtJ"
      },
      "execution_count": null,
      "outputs": []
    },
    {
      "cell_type": "code",
      "source": [
        "x = torch.arange(1., 10.)\n",
        "x, x.shape"
      ],
      "metadata": {
        "colab": {
          "base_uri": "https://localhost:8080/"
        },
        "id": "DFWhD0uRWTLp",
        "outputId": "2f8a881a-c3dc-42a1-b387-9362d930dbcb"
      },
      "execution_count": 63,
      "outputs": [
        {
          "output_type": "execute_result",
          "data": {
            "text/plain": [
              "(tensor([1., 2., 3., 4., 5., 6., 7., 8., 9.]), torch.Size([9]))"
            ]
          },
          "metadata": {},
          "execution_count": 63
        }
      ]
    },
    {
      "cell_type": "code",
      "source": [
        "x_reshaped = x.reshape(1,9)\n",
        "x_reshaped, x_reshaped.shape"
      ],
      "metadata": {
        "colab": {
          "base_uri": "https://localhost:8080/"
        },
        "id": "6onpk7kgYLg_",
        "outputId": "869cb92a-73d2-4485-e069-2569c7fed2f6"
      },
      "execution_count": 65,
      "outputs": [
        {
          "output_type": "execute_result",
          "data": {
            "text/plain": [
              "(tensor([[1., 2., 3., 4., 5., 6., 7., 8., 9.]]), torch.Size([1, 9]))"
            ]
          },
          "metadata": {},
          "execution_count": 65
        }
      ]
    },
    {
      "cell_type": "code",
      "source": [
        "# this would fail because we are tyring to reshape a 9 element tensor to 18 element tensor\n",
        "# x_reshaped = x.reshape(1,18) # RuntimeError: shape '[1, 18]' is invalid for input of size 9"
      ],
      "metadata": {
        "id": "OmLUHs5VYidB"
      },
      "execution_count": 67,
      "outputs": []
    },
    {
      "cell_type": "code",
      "source": [
        "# but this would work\n",
        "x_reshaped = x.reshape(9,1) # essentially we are reshaping but still have the exact same 9 slots\n",
        "x_reshaped, x_reshaped.shape"
      ],
      "metadata": {
        "colab": {
          "base_uri": "https://localhost:8080/"
        },
        "id": "LJv2-7TmYvM5",
        "outputId": "29c06ade-089b-4a03-9afa-da9aa0ed1d9d"
      },
      "execution_count": 69,
      "outputs": [
        {
          "output_type": "execute_result",
          "data": {
            "text/plain": [
              "(tensor([[1.],\n",
              "         [2.],\n",
              "         [3.],\n",
              "         [4.],\n",
              "         [5.],\n",
              "         [6.],\n",
              "         [7.],\n",
              "         [8.],\n",
              "         [9.]]),\n",
              " torch.Size([9, 1]))"
            ]
          },
          "metadata": {},
          "execution_count": 69
        }
      ]
    },
    {
      "cell_type": "code",
      "source": [
        "# even this would work because 3 x 3 is 9. we have to have equal number of slots irrespective of shape\n",
        "x_reshaped = x.reshape(3,3)\n",
        "x_reshaped, x_reshaped.shape"
      ],
      "metadata": {
        "colab": {
          "base_uri": "https://localhost:8080/"
        },
        "id": "B89fsjP1Y5ov",
        "outputId": "19d77a49-abec-4940-a569-cd972fa3af30"
      },
      "execution_count": 71,
      "outputs": [
        {
          "output_type": "execute_result",
          "data": {
            "text/plain": [
              "(tensor([[1., 2., 3.],\n",
              "         [4., 5., 6.],\n",
              "         [7., 8., 9.]]),\n",
              " torch.Size([3, 3]))"
            ]
          },
          "metadata": {},
          "execution_count": 71
        }
      ]
    },
    {
      "cell_type": "code",
      "source": [
        "### Change the view (view shares the same pointer)\n",
        "\n",
        "y = torch.arange(1,101, 2)\n",
        "y"
      ],
      "metadata": {
        "colab": {
          "base_uri": "https://localhost:8080/"
        },
        "id": "WPUgmjnfZt12",
        "outputId": "0971f46f-9f6b-4faf-b899-9316bbbefe71"
      },
      "execution_count": 73,
      "outputs": [
        {
          "output_type": "execute_result",
          "data": {
            "text/plain": [
              "tensor([ 1,  3,  5,  7,  9, 11, 13, 15, 17, 19, 21, 23, 25, 27, 29, 31, 33, 35,\n",
              "        37, 39, 41, 43, 45, 47, 49, 51, 53, 55, 57, 59, 61, 63, 65, 67, 69, 71,\n",
              "        73, 75, 77, 79, 81, 83, 85, 87, 89, 91, 93, 95, 97, 99])"
            ]
          },
          "metadata": {},
          "execution_count": 73
        }
      ]
    },
    {
      "cell_type": "code",
      "source": [
        "# z = y.view(1,9) # RuntimeError: shape '[1, 9]' is invalid for input of size 50"
      ],
      "metadata": {
        "id": "_WzI3FvUaBDH"
      },
      "execution_count": 80,
      "outputs": []
    },
    {
      "cell_type": "code",
      "source": [
        "z = y.view(1,50)\n",
        "z, z.shape"
      ],
      "metadata": {
        "colab": {
          "base_uri": "https://localhost:8080/"
        },
        "id": "xHH0y5D4aTn8",
        "outputId": "d65a9364-0d10-44ab-b52b-f17d941709e4"
      },
      "execution_count": 81,
      "outputs": [
        {
          "output_type": "execute_result",
          "data": {
            "text/plain": [
              "(tensor([[ 1,  3,  5,  7,  9, 11, 13, 15, 17, 19, 21, 23, 25, 27, 29, 31, 33, 35,\n",
              "          37, 39, 41, 43, 45, 47, 49, 51, 53, 55, 57, 59, 61, 63, 65, 67, 69, 71,\n",
              "          73, 75, 77, 79, 81, 83, 85, 87, 89, 91, 93, 95, 97, 99]]),\n",
              " torch.Size([1, 50]))"
            ]
          },
          "metadata": {},
          "execution_count": 81
        }
      ]
    },
    {
      "cell_type": "code",
      "source": [
        "# Now changing z will change y\n",
        "\n",
        "# change first element of z\n",
        "z[:,0] = 100 # will update in y as well\n",
        "z, y"
      ],
      "metadata": {
        "colab": {
          "base_uri": "https://localhost:8080/"
        },
        "id": "54LKv9gsae0a",
        "outputId": "0e941642-e0c9-44cf-b6da-22829c1e90b4"
      },
      "execution_count": 82,
      "outputs": [
        {
          "output_type": "execute_result",
          "data": {
            "text/plain": [
              "(tensor([[100,   3,   5,   7,   9,  11,  13,  15,  17,  19,  21,  23,  25,  27,\n",
              "           29,  31,  33,  35,  37,  39,  41,  43,  45,  47,  49,  51,  53,  55,\n",
              "           57,  59,  61,  63,  65,  67,  69,  71,  73,  75,  77,  79,  81,  83,\n",
              "           85,  87,  89,  91,  93,  95,  97,  99]]),\n",
              " tensor([100,   3,   5,   7,   9,  11,  13,  15,  17,  19,  21,  23,  25,  27,\n",
              "          29,  31,  33,  35,  37,  39,  41,  43,  45,  47,  49,  51,  53,  55,\n",
              "          57,  59,  61,  63,  65,  67,  69,  71,  73,  75,  77,  79,  81,  83,\n",
              "          85,  87,  89,  91,  93,  95,  97,  99]))"
            ]
          },
          "metadata": {},
          "execution_count": 82
        }
      ]
    },
    {
      "cell_type": "code",
      "source": [
        "# Stack tensors on top of each other\n",
        "x_stacked = torch.stack([x,x,x,x,x])\n",
        "x_stacked"
      ],
      "metadata": {
        "colab": {
          "base_uri": "https://localhost:8080/"
        },
        "id": "SGNXAE0qar1x",
        "outputId": "78e626df-096e-42f6-a39b-336ae68d7c94"
      },
      "execution_count": 85,
      "outputs": [
        {
          "output_type": "execute_result",
          "data": {
            "text/plain": [
              "tensor([[1., 2., 3., 4., 5., 6., 7., 8., 9.],\n",
              "        [1., 2., 3., 4., 5., 6., 7., 8., 9.],\n",
              "        [1., 2., 3., 4., 5., 6., 7., 8., 9.],\n",
              "        [1., 2., 3., 4., 5., 6., 7., 8., 9.],\n",
              "        [1., 2., 3., 4., 5., 6., 7., 8., 9.]])"
            ]
          },
          "metadata": {},
          "execution_count": 85
        }
      ]
    },
    {
      "cell_type": "code",
      "source": [
        "x_stacked = torch.stack([x,x,x,x,x], dim=0) # same as vstack\n",
        "x_stacked"
      ],
      "metadata": {
        "colab": {
          "base_uri": "https://localhost:8080/"
        },
        "id": "LoIfF5y1dSFV",
        "outputId": "e0ac3fd4-f423-48b6-a997-ccb2496dfe38"
      },
      "execution_count": 88,
      "outputs": [
        {
          "output_type": "execute_result",
          "data": {
            "text/plain": [
              "tensor([[1., 2., 3., 4., 5., 6., 7., 8., 9.],\n",
              "        [1., 2., 3., 4., 5., 6., 7., 8., 9.],\n",
              "        [1., 2., 3., 4., 5., 6., 7., 8., 9.],\n",
              "        [1., 2., 3., 4., 5., 6., 7., 8., 9.],\n",
              "        [1., 2., 3., 4., 5., 6., 7., 8., 9.]])"
            ]
          },
          "metadata": {},
          "execution_count": 88
        }
      ]
    },
    {
      "cell_type": "code",
      "source": [
        "x_stacked = torch.stack([x,x,x,x,x], dim=1) # same as hstack\n",
        "x_stacked"
      ],
      "metadata": {
        "colab": {
          "base_uri": "https://localhost:8080/"
        },
        "id": "8IrdYdQBdbCw",
        "outputId": "414c6382-2dc8-4b86-b8af-7ac6407b6fe6"
      },
      "execution_count": 89,
      "outputs": [
        {
          "output_type": "execute_result",
          "data": {
            "text/plain": [
              "tensor([[1., 1., 1., 1., 1.],\n",
              "        [2., 2., 2., 2., 2.],\n",
              "        [3., 3., 3., 3., 3.],\n",
              "        [4., 4., 4., 4., 4.],\n",
              "        [5., 5., 5., 5., 5.],\n",
              "        [6., 6., 6., 6., 6.],\n",
              "        [7., 7., 7., 7., 7.],\n",
              "        [8., 8., 8., 8., 8.],\n",
              "        [9., 9., 9., 9., 9.]])"
            ]
          },
          "metadata": {},
          "execution_count": 89
        }
      ]
    },
    {
      "cell_type": "code",
      "source": [
        "# x_stacked = torch.stack([x,x,x,x,x], dim=2) ## x_stacked = torch.stack([x,x,x,x,x], dim=1)\n",
        "# x_stacked"
      ],
      "metadata": {
        "id": "xhnDgqP7dhvi"
      },
      "execution_count": 93,
      "outputs": []
    },
    {
      "cell_type": "code",
      "source": [
        "x_stacked = torch.stack([x,x,x,x,x], dim=-2)\n",
        "x_stacked"
      ],
      "metadata": {
        "colab": {
          "base_uri": "https://localhost:8080/"
        },
        "id": "atOA6oEzdl9U",
        "outputId": "01c723fb-a62c-4d54-c098-c08a59dbd05d"
      },
      "execution_count": 91,
      "outputs": [
        {
          "output_type": "execute_result",
          "data": {
            "text/plain": [
              "tensor([[1., 2., 3., 4., 5., 6., 7., 8., 9.],\n",
              "        [1., 2., 3., 4., 5., 6., 7., 8., 9.],\n",
              "        [1., 2., 3., 4., 5., 6., 7., 8., 9.],\n",
              "        [1., 2., 3., 4., 5., 6., 7., 8., 9.],\n",
              "        [1., 2., 3., 4., 5., 6., 7., 8., 9.]])"
            ]
          },
          "metadata": {},
          "execution_count": 91
        }
      ]
    },
    {
      "cell_type": "code",
      "source": [
        "x_stacked = torch.stack([x,x,x,x,x], dim=-1)\n",
        "x_stacked"
      ],
      "metadata": {
        "colab": {
          "base_uri": "https://localhost:8080/"
        },
        "id": "Nxp3Ryd9dqpY",
        "outputId": "1a8dc5db-f255-4a0f-d3cc-5c0bc353be13"
      },
      "execution_count": 92,
      "outputs": [
        {
          "output_type": "execute_result",
          "data": {
            "text/plain": [
              "tensor([[1., 1., 1., 1., 1.],\n",
              "        [2., 2., 2., 2., 2.],\n",
              "        [3., 3., 3., 3., 3.],\n",
              "        [4., 4., 4., 4., 4.],\n",
              "        [5., 5., 5., 5., 5.],\n",
              "        [6., 6., 6., 6., 6.],\n",
              "        [7., 7., 7., 7., 7.],\n",
              "        [8., 8., 8., 8., 8.],\n",
              "        [9., 9., 9., 9., 9.]])"
            ]
          },
          "metadata": {},
          "execution_count": 92
        }
      ]
    },
    {
      "cell_type": "code",
      "source": [
        "x_stacked_vstacked = torch.vstack([x,x,x,x,x])\n",
        "x_stacked_vstacked"
      ],
      "metadata": {
        "colab": {
          "base_uri": "https://localhost:8080/"
        },
        "id": "DNAmxy7_ds7_",
        "outputId": "da4bbc05-d197-4704-a2c5-c6d6e4d69804"
      },
      "execution_count": 95,
      "outputs": [
        {
          "output_type": "execute_result",
          "data": {
            "text/plain": [
              "tensor([[1., 2., 3., 4., 5., 6., 7., 8., 9.],\n",
              "        [1., 2., 3., 4., 5., 6., 7., 8., 9.],\n",
              "        [1., 2., 3., 4., 5., 6., 7., 8., 9.],\n",
              "        [1., 2., 3., 4., 5., 6., 7., 8., 9.],\n",
              "        [1., 2., 3., 4., 5., 6., 7., 8., 9.]])"
            ]
          },
          "metadata": {},
          "execution_count": 95
        }
      ]
    },
    {
      "cell_type": "code",
      "source": [
        "x_stacked_vstacked = torch.hstack([x,x,x,x,x])\n",
        "x_stacked_vstacked"
      ],
      "metadata": {
        "colab": {
          "base_uri": "https://localhost:8080/"
        },
        "id": "CtkMarSReA42",
        "outputId": "17fd72ab-9b25-47c3-95bd-638a773d9aab"
      },
      "execution_count": 96,
      "outputs": [
        {
          "output_type": "execute_result",
          "data": {
            "text/plain": [
              "tensor([1., 2., 3., 4., 5., 6., 7., 8., 9., 1., 2., 3., 4., 5., 6., 7., 8., 9.,\n",
              "        1., 2., 3., 4., 5., 6., 7., 8., 9., 1., 2., 3., 4., 5., 6., 7., 8., 9.,\n",
              "        1., 2., 3., 4., 5., 6., 7., 8., 9.])"
            ]
          },
          "metadata": {},
          "execution_count": 96
        }
      ]
    },
    {
      "cell_type": "code",
      "source": [
        "# Squeeze: Removes all single dimensions from a target of a tensor"
      ],
      "metadata": {
        "id": "uHfgjnTEeEQa"
      },
      "execution_count": 98,
      "outputs": []
    },
    {
      "cell_type": "code",
      "source": [
        "x_stacked, x_stacked.shape"
      ],
      "metadata": {
        "colab": {
          "base_uri": "https://localhost:8080/"
        },
        "id": "Po3vlWl_eThl",
        "outputId": "0de3ae2e-b283-45a9-d6f1-edcb5bc3ece4"
      },
      "execution_count": 103,
      "outputs": [
        {
          "output_type": "execute_result",
          "data": {
            "text/plain": [
              "(tensor([[1., 1., 1., 1., 1.],\n",
              "         [2., 2., 2., 2., 2.],\n",
              "         [3., 3., 3., 3., 3.],\n",
              "         [4., 4., 4., 4., 4.],\n",
              "         [5., 5., 5., 5., 5.],\n",
              "         [6., 6., 6., 6., 6.],\n",
              "         [7., 7., 7., 7., 7.],\n",
              "         [8., 8., 8., 8., 8.],\n",
              "         [9., 9., 9., 9., 9.]]),\n",
              " torch.Size([9, 5]))"
            ]
          },
          "metadata": {},
          "execution_count": 103
        }
      ]
    },
    {
      "cell_type": "code",
      "source": [
        "x_stacked.squeeze(), x_stacked.squeeze().shape"
      ],
      "metadata": {
        "colab": {
          "base_uri": "https://localhost:8080/"
        },
        "id": "hVSC2Q_OeasW",
        "outputId": "627a2861-cdd4-4087-bcf0-7517dd2f8cea"
      },
      "execution_count": 104,
      "outputs": [
        {
          "output_type": "execute_result",
          "data": {
            "text/plain": [
              "(tensor([[1., 1., 1., 1., 1.],\n",
              "         [2., 2., 2., 2., 2.],\n",
              "         [3., 3., 3., 3., 3.],\n",
              "         [4., 4., 4., 4., 4.],\n",
              "         [5., 5., 5., 5., 5.],\n",
              "         [6., 6., 6., 6., 6.],\n",
              "         [7., 7., 7., 7., 7.],\n",
              "         [8., 8., 8., 8., 8.],\n",
              "         [9., 9., 9., 9., 9.]]),\n",
              " torch.Size([9, 5]))"
            ]
          },
          "metadata": {},
          "execution_count": 104
        }
      ]
    },
    {
      "cell_type": "code",
      "source": [
        "# no differnce in above example because there are no single dimensions\n",
        "\n",
        "# lets takea an example now\n",
        "\n",
        "tensor_to_squeeze = torch.tensor([[2,1,3,6,8,4]])\n",
        "tensor_to_squeeze, tensor_to_squeeze.shape"
      ],
      "metadata": {
        "colab": {
          "base_uri": "https://localhost:8080/"
        },
        "id": "_KPr3_egewSh",
        "outputId": "67431b95-0997-45c0-f376-96951d0cfb5c"
      },
      "execution_count": 112,
      "outputs": [
        {
          "output_type": "execute_result",
          "data": {
            "text/plain": [
              "(tensor([[2, 1, 3, 6, 8, 4]]), torch.Size([1, 6]))"
            ]
          },
          "metadata": {},
          "execution_count": 112
        }
      ]
    },
    {
      "cell_type": "code",
      "source": [
        "tensor_to_squeeze.squeeze(), tensor_to_squeeze.squeeze().shape"
      ],
      "metadata": {
        "colab": {
          "base_uri": "https://localhost:8080/"
        },
        "id": "b7Iif6FmfEaW",
        "outputId": "03243fa9-56f2-4523-807f-212ab6eec24a"
      },
      "execution_count": 113,
      "outputs": [
        {
          "output_type": "execute_result",
          "data": {
            "text/plain": [
              "(tensor([2, 1, 3, 6, 8, 4]), torch.Size([6]))"
            ]
          },
          "metadata": {},
          "execution_count": 113
        }
      ]
    },
    {
      "cell_type": "code",
      "source": [
        "#unsqueeze\n",
        "tensor_to_unsqueeze = tensor_to_squeeze.squeeze()\n",
        "tensor_to_unsqueeze, tensor_to_unsqueeze.shape"
      ],
      "metadata": {
        "colab": {
          "base_uri": "https://localhost:8080/"
        },
        "id": "7DmsYph8fQT_",
        "outputId": "619f9773-60b0-4444-fe9f-5b6af7c25d12"
      },
      "execution_count": 114,
      "outputs": [
        {
          "output_type": "execute_result",
          "data": {
            "text/plain": [
              "(tensor([2, 1, 3, 6, 8, 4]), torch.Size([6]))"
            ]
          },
          "metadata": {},
          "execution_count": 114
        }
      ]
    },
    {
      "cell_type": "code",
      "source": [
        "tensor_to_unsqueeze.unsqueeze(dim=0), tensor_to_unsqueeze.unsqueeze(dim=0).shape"
      ],
      "metadata": {
        "colab": {
          "base_uri": "https://localhost:8080/"
        },
        "id": "iYs-6yvlgE4U",
        "outputId": "b000ecd4-533c-47a0-f841-0b0603e08f83"
      },
      "execution_count": 117,
      "outputs": [
        {
          "output_type": "execute_result",
          "data": {
            "text/plain": [
              "(tensor([[2, 1, 3, 6, 8, 4]]), torch.Size([1, 6]))"
            ]
          },
          "metadata": {},
          "execution_count": 117
        }
      ]
    },
    {
      "cell_type": "code",
      "source": [
        "tensor_to_unsqueeze.unsqueeze(dim=1), tensor_to_unsqueeze.unsqueeze(dim=1).shape"
      ],
      "metadata": {
        "colab": {
          "base_uri": "https://localhost:8080/"
        },
        "id": "oD7omsDXgJEX",
        "outputId": "ee7784ac-1ef7-49f5-fa2e-9b08f21ef6f8"
      },
      "execution_count": 118,
      "outputs": [
        {
          "output_type": "execute_result",
          "data": {
            "text/plain": [
              "(tensor([[2],\n",
              "         [1],\n",
              "         [3],\n",
              "         [6],\n",
              "         [8],\n",
              "         [4]]),\n",
              " torch.Size([6, 1]))"
            ]
          },
          "metadata": {},
          "execution_count": 118
        }
      ]
    },
    {
      "cell_type": "code",
      "source": [
        "# Permute : The torch.permute() method in PyTorch is used to rearrange the dimensions of a tensor.\n",
        "# You provide a sequence of dimension indices, and the tensor's dimensions are rearranged accordingly.\n",
        "\n",
        "# Permute is used with image tensors"
      ],
      "metadata": {
        "id": "yzfgMkt9gWU2"
      },
      "execution_count": 122,
      "outputs": []
    },
    {
      "cell_type": "code",
      "source": [
        "tensor_to_permute =  torch.rand(size=(224,224,3)) # height, width, color channels rgb\n",
        "tensor_to_permute"
      ],
      "metadata": {
        "colab": {
          "base_uri": "https://localhost:8080/"
        },
        "id": "PUKA1zu1gYyD",
        "outputId": "c230377d-700e-406d-daf1-22ac9e29b5eb"
      },
      "execution_count": 129,
      "outputs": [
        {
          "output_type": "execute_result",
          "data": {
            "text/plain": [
              "tensor([[[0.6124, 0.7701, 0.1657],\n",
              "         [0.2164, 0.4369, 0.1922],\n",
              "         [0.8589, 0.5853, 0.1230],\n",
              "         ...,\n",
              "         [0.8408, 0.3393, 0.4945],\n",
              "         [0.6867, 0.7791, 0.8048],\n",
              "         [0.7604, 0.9032, 0.3584]],\n",
              "\n",
              "        [[0.0183, 0.0154, 0.5086],\n",
              "         [0.0358, 0.4198, 0.7903],\n",
              "         [0.3958, 0.4449, 0.5056],\n",
              "         ...,\n",
              "         [0.9073, 0.5030, 0.3097],\n",
              "         [0.2378, 0.5107, 0.9635],\n",
              "         [0.0546, 0.3457, 0.5607]],\n",
              "\n",
              "        [[0.6099, 0.2527, 0.6672],\n",
              "         [0.8617, 0.6232, 0.1981],\n",
              "         [0.6766, 0.2134, 0.1655],\n",
              "         ...,\n",
              "         [0.8051, 0.2170, 0.4186],\n",
              "         [0.1718, 0.4572, 0.2794],\n",
              "         [0.6596, 0.0807, 0.3438]],\n",
              "\n",
              "        ...,\n",
              "\n",
              "        [[0.3828, 0.0736, 0.4676],\n",
              "         [0.0956, 0.1956, 0.2038],\n",
              "         [0.5272, 0.4608, 0.2146],\n",
              "         ...,\n",
              "         [0.0159, 0.8684, 0.6785],\n",
              "         [0.4478, 0.2071, 0.7071],\n",
              "         [0.3985, 0.3529, 0.7144]],\n",
              "\n",
              "        [[0.0376, 0.2835, 0.0416],\n",
              "         [0.9479, 0.2192, 0.3212],\n",
              "         [0.5432, 0.8421, 0.8084],\n",
              "         ...,\n",
              "         [0.5433, 0.8731, 0.7871],\n",
              "         [0.6719, 0.2421, 0.1303],\n",
              "         [0.7434, 0.4965, 0.5666]],\n",
              "\n",
              "        [[0.2923, 0.6229, 0.9841],\n",
              "         [0.9148, 0.1202, 0.6972],\n",
              "         [0.9085, 0.9293, 0.1657],\n",
              "         ...,\n",
              "         [0.6968, 0.4920, 0.5185],\n",
              "         [0.5956, 0.7609, 0.4909],\n",
              "         [0.7071, 0.2580, 0.0301]]])"
            ]
          },
          "metadata": {},
          "execution_count": 129
        }
      ]
    },
    {
      "cell_type": "code",
      "source": [
        "print(f\"Shape Before Permute: \", {tensor_to_permute.shape})\n",
        "tensor_to_permute.permute(2, 0, 1), # shifts axis 0->1 , 1->2 , 2->0\n",
        "print(f\"Shape After Permute: \", {tensor_to_permute.permute(2, 0, 1).shape}) # color channels rgb , height, width,"
      ],
      "metadata": {
        "colab": {
          "base_uri": "https://localhost:8080/"
        },
        "id": "1FF0ogx2g0t6",
        "outputId": "bd69c214-d4dc-442c-95c4-e39bf15e891a"
      },
      "execution_count": 135,
      "outputs": [
        {
          "output_type": "stream",
          "name": "stdout",
          "text": [
            "Shape Before Permute:  {torch.Size([224, 224, 3])}\n",
            "Shape After Permute:  {torch.Size([3, 224, 224])}\n"
          ]
        }
      ]
    },
    {
      "cell_type": "code",
      "source": [
        "# Indexing (Selecting) Data Retrieval in Tensors"
      ],
      "metadata": {
        "id": "xvFF4vY7htDz"
      },
      "execution_count": 136,
      "outputs": []
    },
    {
      "cell_type": "code",
      "source": [
        "index_tensor = torch.arange(1,10).reshape(1,3,3) # for 9 elements 1 x 3 x 3\n",
        "index_tensor , index_tensor.shape"
      ],
      "metadata": {
        "colab": {
          "base_uri": "https://localhost:8080/"
        },
        "id": "f0Ig2taYjPkP",
        "outputId": "c08d60be-1071-4c0d-ea93-d1a579a8d0e9"
      },
      "execution_count": 140,
      "outputs": [
        {
          "output_type": "execute_result",
          "data": {
            "text/plain": [
              "(tensor([[[1, 2, 3],\n",
              "          [4, 5, 6],\n",
              "          [7, 8, 9]]]),\n",
              " torch.Size([1, 3, 3]))"
            ]
          },
          "metadata": {},
          "execution_count": 140
        }
      ]
    },
    {
      "cell_type": "code",
      "source": [
        "index_tensor[0], index_tensor[0][0], index_tensor[0][0][0]"
      ],
      "metadata": {
        "colab": {
          "base_uri": "https://localhost:8080/"
        },
        "id": "uoLo4l6IjgeC",
        "outputId": "46b02f8a-4936-4475-ed09-77e20429c3f7"
      },
      "execution_count": 143,
      "outputs": [
        {
          "output_type": "execute_result",
          "data": {
            "text/plain": [
              "(tensor([[1, 2, 3],\n",
              "         [4, 5, 6],\n",
              "         [7, 8, 9]]),\n",
              " tensor([1, 2, 3]),\n",
              " tensor(1))"
            ]
          },
          "metadata": {},
          "execution_count": 143
        }
      ]
    },
    {
      "cell_type": "code",
      "source": [
        "index_tensor[0][1], index_tensor[0][2]"
      ],
      "metadata": {
        "colab": {
          "base_uri": "https://localhost:8080/"
        },
        "id": "mXlEW1DGjx-y",
        "outputId": "9dabccca-2a78-4910-b01f-2a6f8763e8cf"
      },
      "execution_count": 147,
      "outputs": [
        {
          "output_type": "execute_result",
          "data": {
            "text/plain": [
              "(tensor([4, 5, 6]), tensor([7, 8, 9]))"
            ]
          },
          "metadata": {},
          "execution_count": 147
        }
      ]
    },
    {
      "cell_type": "code",
      "source": [
        "index_tensor[0][1][1], index_tensor[0][1][2]"
      ],
      "metadata": {
        "colab": {
          "base_uri": "https://localhost:8080/"
        },
        "id": "26zsmnjAj41M",
        "outputId": "3a369578-7cc5-4d5b-80d7-5430d77997e0"
      },
      "execution_count": 149,
      "outputs": [
        {
          "output_type": "execute_result",
          "data": {
            "text/plain": [
              "(tensor(5), tensor(6))"
            ]
          },
          "metadata": {},
          "execution_count": 149
        }
      ]
    },
    {
      "cell_type": "code",
      "source": [
        "# Use \":\" to get all of target dimensions\n",
        "index_tensor[:,0]"
      ],
      "metadata": {
        "colab": {
          "base_uri": "https://localhost:8080/"
        },
        "id": "BSo9rJyJkAdi",
        "outputId": "518e7a0a-a972-4db6-dbe1-468d48023360"
      },
      "execution_count": 150,
      "outputs": [
        {
          "output_type": "execute_result",
          "data": {
            "text/plain": [
              "tensor([[1, 2, 3]])"
            ]
          },
          "metadata": {},
          "execution_count": 150
        }
      ]
    },
    {
      "cell_type": "code",
      "source": [
        "index_tensor[0,:]"
      ],
      "metadata": {
        "colab": {
          "base_uri": "https://localhost:8080/"
        },
        "id": "JvZRHDvckTD9",
        "outputId": "d9594da8-0b39-41c5-c408-400c4ce5eb86"
      },
      "execution_count": 151,
      "outputs": [
        {
          "output_type": "execute_result",
          "data": {
            "text/plain": [
              "tensor([[1, 2, 3],\n",
              "        [4, 5, 6],\n",
              "        [7, 8, 9]])"
            ]
          },
          "metadata": {},
          "execution_count": 151
        }
      ]
    },
    {
      "cell_type": "code",
      "source": [
        "# get all value of 0 and 1st dimension but only index of 2nd dimension\n",
        "index_tensor[:, :, 1]"
      ],
      "metadata": {
        "colab": {
          "base_uri": "https://localhost:8080/"
        },
        "id": "mzO7vBXMkU7I",
        "outputId": "7c1e85a3-1081-4c75-b925-9af77f7ccb6d"
      },
      "execution_count": 152,
      "outputs": [
        {
          "output_type": "execute_result",
          "data": {
            "text/plain": [
              "tensor([[2, 5, 8]])"
            ]
          },
          "metadata": {},
          "execution_count": 152
        }
      ]
    },
    {
      "cell_type": "code",
      "source": [
        "index_tensor[:, :, 2]"
      ],
      "metadata": {
        "colab": {
          "base_uri": "https://localhost:8080/"
        },
        "id": "8oG_9t2Kkme3",
        "outputId": "7f05d25d-8c52-44d2-8b71-6b89af175ea6"
      },
      "execution_count": 153,
      "outputs": [
        {
          "output_type": "execute_result",
          "data": {
            "text/plain": [
              "tensor([[3, 6, 9]])"
            ]
          },
          "metadata": {},
          "execution_count": 153
        }
      ]
    },
    {
      "cell_type": "code",
      "source": [
        "index_tensor[:, 1, :]"
      ],
      "metadata": {
        "colab": {
          "base_uri": "https://localhost:8080/"
        },
        "id": "sfSDbeEckrhm",
        "outputId": "976ed237-cdf5-43b7-c792-13b854428c10"
      },
      "execution_count": 154,
      "outputs": [
        {
          "output_type": "execute_result",
          "data": {
            "text/plain": [
              "tensor([[4, 5, 6]])"
            ]
          },
          "metadata": {},
          "execution_count": 154
        }
      ]
    },
    {
      "cell_type": "code",
      "source": [
        "index_tensor[:, 2, :]"
      ],
      "metadata": {
        "colab": {
          "base_uri": "https://localhost:8080/"
        },
        "id": "wH7yebnpktWU",
        "outputId": "efc4a579-954a-43bd-acd2-ea298529d40a"
      },
      "execution_count": 156,
      "outputs": [
        {
          "output_type": "execute_result",
          "data": {
            "text/plain": [
              "tensor([[7, 8, 9]])"
            ]
          },
          "metadata": {},
          "execution_count": 156
        }
      ]
    },
    {
      "cell_type": "code",
      "source": [],
      "metadata": {
        "id": "CxKzsmo6kv3D"
      },
      "execution_count": null,
      "outputs": []
    }
  ]
}