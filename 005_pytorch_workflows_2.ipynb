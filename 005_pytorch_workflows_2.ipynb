{
  "nbformat": 4,
  "nbformat_minor": 0,
  "metadata": {
    "colab": {
      "provenance": [],
      "authorship_tag": "ABX9TyP2lLaDCdG3Bj5mORyb3B5i",
      "include_colab_link": true
    },
    "kernelspec": {
      "name": "python3",
      "display_name": "Python 3"
    },
    "language_info": {
      "name": "python"
    }
  },
  "cells": [
    {
      "cell_type": "markdown",
      "metadata": {
        "id": "view-in-github",
        "colab_type": "text"
      },
      "source": [
        "<a href=\"https://colab.research.google.com/github/afirdousi/pytorch-basics/blob/main/005_pytorch_workflows_2.ipynb\" target=\"_parent\"><img src=\"https://colab.research.google.com/assets/colab-badge.svg\" alt=\"Open In Colab\"/></a>"
      ]
    },
    {
      "cell_type": "code",
      "source": [
        "import torch\n",
        "from torch import nn # (https://pytorch.org/docs/stable/nn.html)\n",
        "import matplotlib.pyplot as plt\n",
        "\n",
        "import pandas as pd\n",
        "import numpy as np\n",
        "\n",
        "print(\"Intro to Pytorch Workflow\")\n",
        "print(torch.__version__)"
      ],
      "metadata": {
        "colab": {
          "base_uri": "https://localhost:8080/"
        },
        "id": "FtN9WHUFJDAl",
        "outputId": "36496b5e-f4de-4090-874f-526ecaed8f56"
      },
      "execution_count": 4,
      "outputs": [
        {
          "output_type": "stream",
          "name": "stdout",
          "text": [
            "Intro to Pytorch Workflow\n",
            "2.0.1+cu118\n"
          ]
        }
      ]
    },
    {
      "cell_type": "code",
      "execution_count": 15,
      "metadata": {
        "id": "7_Qj6JEzI9qS"
      },
      "outputs": [],
      "source": [
        "# Build a Model\n",
        "# Our First Model\n",
        "\n",
        "# PyTorch has four (give or take) essential modules you can use to create almost\n",
        "# any kind of neural network you can imagine.\n",
        "\n",
        "# They are torch.nn, torch.optim, torch.utils.data.Dataset and\n",
        "# torch.utils.data.DataLoader. For now, we'll focus on the first two and get to\n",
        "# the other two later (though you may be able to guess what they do).\n",
        "\n",
        "# How Gradient Descent works? Watch: https://www.youtube.com/watch?v=IHZwWFHWa-w\n",
        "# What is Backpropagation? Watch: https://www.youtube.com/watch?v=Ilg3gGewQ5U\n",
        "\n",
        "class LinearRegressionModel(nn.Module): # nn.Module is NN lego block\n",
        "  def __init__(self):\n",
        "    super().__init__()\n",
        "    self.weights = nn.Parameter(torch.randn(1, # start with random weight\n",
        "                                            dtype=torch.float),\n",
        "                                # update weights with gradient descent\n",
        "                                # pytorch will track gradient of this specific\n",
        "                                # parameter for use with torch.autograd\n",
        "                                            requires_grad=True)\n",
        "\n",
        "    # nn.Parameter when used as part of a module, becomes\n",
        "    # part of Module.Parameters iterator\n",
        "\n",
        "    self.bias = nn.Parameter(torch.randn(1, # start with random bias\n",
        "                                         dtype=torch.float),\n",
        "                             # update weights with gradient descent\n",
        "                             requires_grad=True)\n",
        "\n",
        "  # forward defines the model computation\n",
        "  # any class that inherits from nn.Module needs to implement the forward method\n",
        "  def forward(self, x: torch.Tensor):\n",
        "    return self.weights * x + self.bias # y = mX + b (linear regression)"
      ]
    },
    {
      "cell_type": "code",
      "source": [
        "# Check PyTorch Cheatsheet: https://pytorch.org/tutorials/beginner/ptcheat.html"
      ],
      "metadata": {
        "id": "U3FNExdZJNbR"
      },
      "execution_count": 16,
      "outputs": []
    },
    {
      "cell_type": "code",
      "source": [
        "# Almost everything in a PyTorch neural network comes from torch.nn,\n",
        "\n",
        "# nn.Module contains the larger building blocks (layers)\n",
        "# nn.Parameter contains the smaller parameters like weights and biases (put these together to make nn.Module(s))\n",
        "# forward() tells the larger blocks how to make calculations on inputs (tensors full of data) within nn.Module(s)\n",
        "# torch.optim contains optimization methods on how to improve the parameters within nn.Parameter to better represent input data"
      ],
      "metadata": {
        "id": "57XZH9mHW_RD"
      },
      "execution_count": 17,
      "outputs": []
    },
    {
      "cell_type": "code",
      "source": [
        "# What happens if create an instance of our model class?\n",
        "\n",
        "# Check contents of PyTorch model\n",
        "\n",
        "# For sake of learning, Create a random seed\n",
        "torch.manual_seed(42) # to make sure the internal random numbers generated for 'weights' and 'bias' are the same everytime (only for learning purpose)\n",
        "\n",
        "# create a model\n",
        "model_one = LinearRegressionModel()\n",
        "\n",
        "# check out parameters\n",
        "model_one"
      ],
      "metadata": {
        "colab": {
          "base_uri": "https://localhost:8080/"
        },
        "id": "qmhEax3uXX5t",
        "outputId": "0e0828c6-67e9-4eb9-92ef-86fa55315766"
      },
      "execution_count": 40,
      "outputs": [
        {
          "output_type": "execute_result",
          "data": {
            "text/plain": [
              "LinearRegressionModel()"
            ]
          },
          "metadata": {},
          "execution_count": 40
        }
      ]
    },
    {
      "cell_type": "code",
      "source": [
        "model_one.parameters"
      ],
      "metadata": {
        "colab": {
          "base_uri": "https://localhost:8080/"
        },
        "id": "11URO2YMZkbr",
        "outputId": "dac720ed-0eed-4082-c3ba-e8d5ce2685e1"
      },
      "execution_count": 41,
      "outputs": [
        {
          "output_type": "execute_result",
          "data": {
            "text/plain": [
              "<bound method Module.parameters of LinearRegressionModel()>"
            ]
          },
          "metadata": {},
          "execution_count": 41
        }
      ]
    },
    {
      "cell_type": "code",
      "source": [
        "list(model_one.parameters())"
      ],
      "metadata": {
        "colab": {
          "base_uri": "https://localhost:8080/"
        },
        "id": "D5sxBVWVaQ7c",
        "outputId": "9e80e9d2-cde8-4eb2-940a-0f9e93c4a730"
      },
      "execution_count": 42,
      "outputs": [
        {
          "output_type": "execute_result",
          "data": {
            "text/plain": [
              "[Parameter containing:\n",
              " tensor([0.3367], requires_grad=True),\n",
              " Parameter containing:\n",
              " tensor([0.1288], requires_grad=True)]"
            ]
          },
          "metadata": {},
          "execution_count": 42
        }
      ]
    },
    {
      "cell_type": "code",
      "source": [
        "# Now try the above code commenting torch.manual_seed(42)\n",
        "# This will how actually there is a random value generated by the model everytime to start off\n"
      ],
      "metadata": {
        "id": "SUT3ZhY6aUzw"
      },
      "execution_count": 43,
      "outputs": []
    },
    {
      "cell_type": "code",
      "source": [
        "# List named parameters\n",
        "model_one.state_dict()"
      ],
      "metadata": {
        "colab": {
          "base_uri": "https://localhost:8080/"
        },
        "id": "KuDERow3bLgV",
        "outputId": "790deae8-086a-4a13-c7fa-441c24a6c60b"
      },
      "execution_count": 44,
      "outputs": [
        {
          "output_type": "execute_result",
          "data": {
            "text/plain": [
              "OrderedDict([('weights', tensor([0.3367])), ('bias', tensor([0.1288]))])"
            ]
          },
          "metadata": {},
          "execution_count": 44
        }
      ]
    },
    {
      "cell_type": "code",
      "source": [
        "# In Reality, the model starts off with some random values like this\n",
        "# and use gradient descent to get to the target value\n",
        "\n",
        "# Lets assume a target value for our parameters\n",
        "weight = 0.7\n",
        "bias = 0.3"
      ],
      "metadata": {
        "id": "L6GSQYzybRuV"
      },
      "execution_count": 46,
      "outputs": []
    },
    {
      "cell_type": "code",
      "source": [
        "# the work of the model should be to go from random value to the above 2 values use gradient decent and back propagation"
      ],
      "metadata": {
        "id": "eHbdnK-9cRVk"
      },
      "execution_count": 47,
      "outputs": []
    },
    {
      "cell_type": "code",
      "source": [],
      "metadata": {
        "id": "bY7DlLAgcaFz"
      },
      "execution_count": null,
      "outputs": []
    }
  ]
}