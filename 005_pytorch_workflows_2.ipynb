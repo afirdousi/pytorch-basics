{
  "nbformat": 4,
  "nbformat_minor": 0,
  "metadata": {
    "colab": {
      "provenance": [],
      "authorship_tag": "ABX9TyPr3zbkTpcVgBeI0y8xnxF6",
      "include_colab_link": true
    },
    "kernelspec": {
      "name": "python3",
      "display_name": "Python 3"
    },
    "language_info": {
      "name": "python"
    }
  },
  "cells": [
    {
      "cell_type": "markdown",
      "metadata": {
        "id": "view-in-github",
        "colab_type": "text"
      },
      "source": [
        "<a href=\"https://colab.research.google.com/github/afirdousi/pytorch-basics/blob/main/005_pytorch_workflows_2.ipynb\" target=\"_parent\"><img src=\"https://colab.research.google.com/assets/colab-badge.svg\" alt=\"Open In Colab\"/></a>"
      ]
    },
    {
      "cell_type": "code",
      "source": [
        "import torch\n",
        "from torch import nn # (https://pytorch.org/docs/stable/nn.html)\n",
        "import matplotlib.pyplot as plt\n",
        "\n",
        "import pandas as pd\n",
        "import numpy as np\n",
        "\n",
        "print(\"Intro to Pytorch Workflow\")\n",
        "print(torch.__version__)"
      ],
      "metadata": {
        "colab": {
          "base_uri": "https://localhost:8080/"
        },
        "id": "FtN9WHUFJDAl",
        "outputId": "e81169c3-a970-45bc-aedc-54cf14a8c79c"
      },
      "execution_count": 87,
      "outputs": [
        {
          "output_type": "stream",
          "name": "stdout",
          "text": [
            "Intro to Pytorch Workflow\n",
            "2.0.1+cu118\n"
          ]
        }
      ]
    },
    {
      "cell_type": "code",
      "execution_count": 88,
      "metadata": {
        "id": "7_Qj6JEzI9qS"
      },
      "outputs": [],
      "source": [
        "# Build a Model\n",
        "# Our First Model\n",
        "\n",
        "# PyTorch has four (give or take) essential modules you can use to create almost\n",
        "# any kind of neural network you can imagine.\n",
        "\n",
        "# They are torch.nn, torch.optim, torch.utils.data.Dataset and\n",
        "# torch.utils.data.DataLoader. For now, we'll focus on the first two and get to\n",
        "# the other two later (though you may be able to guess what they do).\n",
        "\n",
        "# How Gradient Descent works? Watch: https://www.youtube.com/watch?v=IHZwWFHWa-w\n",
        "# What is Backpropagation? Watch: https://www.youtube.com/watch?v=Ilg3gGewQ5U\n",
        "\n",
        "class LinearRegressionModel(nn.Module): # nn.Module is NN lego block\n",
        "  def __init__(self):\n",
        "    super().__init__()\n",
        "\n",
        "    # FYI, we don't necessarily have to start with random/unknown params\n",
        "    self.weights = nn.Parameter(torch.randn(1, # start with random weight\n",
        "                                            dtype=torch.float),\n",
        "                                # update weights with gradient descent\n",
        "                                # pytorch will track gradient of this specific\n",
        "                                # parameter for use with torch.autograd\n",
        "                                            requires_grad=True)\n",
        "\n",
        "    # nn.Parameter when used as part of a module, becomes\n",
        "    # part of Module.Parameters iterator\n",
        "\n",
        "    self.bias = nn.Parameter(torch.randn(1, # start with random bias\n",
        "                                         dtype=torch.float),\n",
        "                             # update weights with gradient descent\n",
        "                             requires_grad=True)\n",
        "\n",
        "  # forward defines the model computation\n",
        "  # any class that inherits from nn.Module needs to implement the forward method\n",
        "  def forward(self, x: torch.Tensor):\n",
        "    return self.weights * x + self.bias # y = mX + b (linear regression)"
      ]
    },
    {
      "cell_type": "code",
      "source": [
        "# Check PyTorch Cheatsheet: https://pytorch.org/tutorials/beginner/ptcheat.html"
      ],
      "metadata": {
        "id": "U3FNExdZJNbR"
      },
      "execution_count": 89,
      "outputs": []
    },
    {
      "cell_type": "code",
      "source": [
        "# Almost everything in a PyTorch neural network comes from torch.nn,\n",
        "\n",
        "# nn.Module contains the larger building blocks (layers)\n",
        "# nn.Parameter contains the smaller parameters like weights and biases (put these together to make nn.Module(s))\n",
        "# forward() tells the larger blocks how to make calculations on inputs (tensors full of data) within nn.Module(s)\n",
        "# torch.optim contains optimization methods on how to improve the parameters within nn.Parameter to better represent input data"
      ],
      "metadata": {
        "id": "57XZH9mHW_RD"
      },
      "execution_count": 90,
      "outputs": []
    },
    {
      "cell_type": "code",
      "source": [
        "# What happens if create an instance of our model class?\n",
        "\n",
        "# Check contents of PyTorch model\n",
        "\n",
        "# For sake of learning, Create a random seed\n",
        "torch.manual_seed(42) # to make sure the internal random numbers generated for 'weights' and 'bias' are the same everytime (only for learning purpose)\n",
        "\n",
        "# create a model\n",
        "model_one = LinearRegressionModel()\n",
        "\n",
        "# check out parameters\n",
        "model_one"
      ],
      "metadata": {
        "colab": {
          "base_uri": "https://localhost:8080/"
        },
        "id": "qmhEax3uXX5t",
        "outputId": "d83c3265-2f2d-4f39-e2ca-e67758e14239"
      },
      "execution_count": 91,
      "outputs": [
        {
          "output_type": "execute_result",
          "data": {
            "text/plain": [
              "LinearRegressionModel()"
            ]
          },
          "metadata": {},
          "execution_count": 91
        }
      ]
    },
    {
      "cell_type": "code",
      "source": [
        "model_one.parameters"
      ],
      "metadata": {
        "colab": {
          "base_uri": "https://localhost:8080/"
        },
        "id": "11URO2YMZkbr",
        "outputId": "937f97c8-f20c-480f-8b55-12a7e275af30"
      },
      "execution_count": 92,
      "outputs": [
        {
          "output_type": "execute_result",
          "data": {
            "text/plain": [
              "<bound method Module.parameters of LinearRegressionModel()>"
            ]
          },
          "metadata": {},
          "execution_count": 92
        }
      ]
    },
    {
      "cell_type": "code",
      "source": [
        "list(model_one.parameters())"
      ],
      "metadata": {
        "colab": {
          "base_uri": "https://localhost:8080/"
        },
        "id": "D5sxBVWVaQ7c",
        "outputId": "08a32300-7abc-4fae-e385-f414181339f2"
      },
      "execution_count": 93,
      "outputs": [
        {
          "output_type": "execute_result",
          "data": {
            "text/plain": [
              "[Parameter containing:\n",
              " tensor([0.3367], requires_grad=True),\n",
              " Parameter containing:\n",
              " tensor([0.1288], requires_grad=True)]"
            ]
          },
          "metadata": {},
          "execution_count": 93
        }
      ]
    },
    {
      "cell_type": "code",
      "source": [
        "# Now try the above code commenting torch.manual_seed(42)\n",
        "# This will how actually there is a random value generated by the model everytime to start off\n"
      ],
      "metadata": {
        "id": "SUT3ZhY6aUzw"
      },
      "execution_count": 94,
      "outputs": []
    },
    {
      "cell_type": "code",
      "source": [
        "# List named parameters\n",
        "model_one.state_dict()"
      ],
      "metadata": {
        "colab": {
          "base_uri": "https://localhost:8080/"
        },
        "id": "KuDERow3bLgV",
        "outputId": "a999c2d2-b55d-4754-c04e-de712749f764"
      },
      "execution_count": 95,
      "outputs": [
        {
          "output_type": "execute_result",
          "data": {
            "text/plain": [
              "OrderedDict([('weights', tensor([0.3367])), ('bias', tensor([0.1288]))])"
            ]
          },
          "metadata": {},
          "execution_count": 95
        }
      ]
    },
    {
      "cell_type": "code",
      "source": [
        "# In Reality, the model starts off with some random values like this\n",
        "# and use gradient descent to get to the target value\n",
        "\n",
        "# Lets assume a target value for our parameters\n",
        "weight = 0.7\n",
        "bias = 0.3\n",
        "\n",
        "\n",
        "\n",
        "# Let's recreate some dummy data that we created in last lesson as well\n",
        "# To check how well does our model performs predicting\n",
        "\n",
        "# Create data\n",
        "start = 0\n",
        "end = 1\n",
        "step = 0.02\n",
        "X = torch.arange(start, end, step).unsqueeze(dim=1)\n",
        "y = weight * X + bias\n",
        "# Create train/test split\n",
        "train_split = int(0.8 * len(X)) # 80% of data used for training set, 20% for testing\n",
        "X_train, y_train = X[:train_split], y[:train_split]\n",
        "X_test, y_test = X[train_split:], y[train_split:]\n",
        "\n",
        "# Lets also redefine plot prediction function\n",
        "def plot_predictions(train_data=X_train,\n",
        "                     train_labels=y_train,\n",
        "                     test_data=X_test,\n",
        "                     test_labels=y_test,\n",
        "                     predictions=None):\n",
        "  \"\"\"\n",
        "  Plots training data, test data and compares predictions.\n",
        "  \"\"\"\n",
        "  plt.figure(figsize=(10, 7))\n",
        "\n",
        "  # Plot training data in blue\n",
        "  plt.scatter(train_data, train_labels, c=\"b\", s=4, label=\"Training data\")\n",
        "\n",
        "  # Plot test data in green\n",
        "  plt.scatter(test_data, test_labels, c=\"g\", s=4, label=\"Testing data\")\n",
        "\n",
        "  if predictions is not None:\n",
        "    # Plot the predictions in red (predictions were made on the test data)\n",
        "    plt.scatter(test_data, predictions, c=\"r\", s=4, label=\"Predictions\")\n",
        "\n",
        "  # Show the legend\n",
        "  plt.legend(prop={\"size\": 14});\n",
        "\n"
      ],
      "metadata": {
        "id": "L6GSQYzybRuV"
      },
      "execution_count": 96,
      "outputs": []
    },
    {
      "cell_type": "code",
      "source": [
        "# the work of the model should be to go from random value to the above 2 values use gradient decent and back propagation"
      ],
      "metadata": {
        "id": "eHbdnK-9cRVk"
      },
      "execution_count": 97,
      "outputs": []
    },
    {
      "cell_type": "code",
      "source": [
        "# Making predictions using torch.inference_mode()\n",
        "\n",
        "# Disable all gradient related information. Runs faster since we are not training the model, we are just doing inference\n",
        "# To test, check the output of y_predictions = model_one(X_test) without inference mode\n",
        "with torch.inference_mode():\n",
        "  y_predictions = model_one(X_test)\n",
        "\n",
        "\n",
        "# Learn more about inference mode here: https://twitter.com/PyTorch/status/1437838231505096708?lang=en"
      ],
      "metadata": {
        "id": "bY7DlLAgcaFz"
      },
      "execution_count": 98,
      "outputs": []
    },
    {
      "cell_type": "code",
      "source": [
        "# Lets check predictions\n",
        "\n",
        "print(f\"Number of testing samples = { len(X_test) }\")\n",
        "print(f\"Number of predictions = { len(y_predictions) }\")"
      ],
      "metadata": {
        "colab": {
          "base_uri": "https://localhost:8080/"
        },
        "id": "0GdwMWqjwIUK",
        "outputId": "48f748e3-6888-4cd4-80ad-59c76f4b48f9"
      },
      "execution_count": 99,
      "outputs": [
        {
          "output_type": "stream",
          "name": "stdout",
          "text": [
            "Number of testing samples = 10\n",
            "Number of predictions = 10\n"
          ]
        }
      ]
    },
    {
      "cell_type": "code",
      "source": [
        "print(f\"Predictions= { y_predictions }\")"
      ],
      "metadata": {
        "colab": {
          "base_uri": "https://localhost:8080/"
        },
        "id": "a7azRss4xpti",
        "outputId": "93ebabab-5b54-40af-a081-34e5e7ae05b7"
      },
      "execution_count": 100,
      "outputs": [
        {
          "output_type": "stream",
          "name": "stdout",
          "text": [
            "Predictions= tensor([[0.3982],\n",
            "        [0.4049],\n",
            "        [0.4116],\n",
            "        [0.4184],\n",
            "        [0.4251],\n",
            "        [0.4318],\n",
            "        [0.4386],\n",
            "        [0.4453],\n",
            "        [0.4520],\n",
            "        [0.4588]])\n"
          ]
        }
      ]
    },
    {
      "cell_type": "code",
      "source": [
        "plot_predictions(X_train,\n",
        "                 y_train,\n",
        "                 X_test,\n",
        "                 y_test,\n",
        "                 y_predictions)"
      ],
      "metadata": {
        "colab": {
          "base_uri": "https://localhost:8080/",
          "height": 599
        },
        "id": "PzZw5qloy26r",
        "outputId": "bf5230c6-7575-48dc-d409-5bd3cbc9041c"
      },
      "execution_count": 101,
      "outputs": [
        {
          "output_type": "display_data",
          "data": {
            "text/plain": [
              "<Figure size 1000x700 with 1 Axes>"
            ],
            "image/png": "[encoded data removed]"
          },
          "metadata": {}
        }
      ]
    },
    {
      "cell_type": "code",
      "source": [
        "# The whole idea of training is to start from random and get as closer to the actual result\n",
        "# by continuousing calculating how poor model predictions are by using a Loss Function\n",
        "\n",
        "# More on Loss Functions here https://pytorch.org/docs/stable/nn.html#loss-functions\n",
        "# Loss Function also called Cost function or criterion\n",
        "\n",
        "# Loss function tries to improve the prediction by using something called Optimizer\n",
        "\n",
        "# Optimizer: Takes into account the loss of a model and adjusts the model's paramters (e.g. weights and bias in our case)\n",
        "# to improve the loss function. More here: https://pytorch.org/docs/stable/optim.html\n",
        "\n",
        "# Which params we have in our model? Check:\n",
        "model_one.state_dict()"
      ],
      "metadata": {
        "colab": {
          "base_uri": "https://localhost:8080/"
        },
        "id": "nzLCN53Ozhg4",
        "outputId": "085561dd-d5a8-424d-f7a4-0b0e0182fcb1"
      },
      "execution_count": 102,
      "outputs": [
        {
          "output_type": "execute_result",
          "data": {
            "text/plain": [
              "OrderedDict([('weights', tensor([0.3367])), ('bias', tensor([0.1288]))])"
            ]
          },
          "metadata": {},
          "execution_count": 102
        }
      ]
    },
    {
      "cell_type": "code",
      "source": [
        "# Next, we need now need 1/ Training Loop 2/ Testing Loop"
      ],
      "metadata": {
        "id": "Twrem40DopcQ"
      },
      "execution_count": 103,
      "outputs": []
    },
    {
      "cell_type": "code",
      "source": [
        "# Setting Up A Loss Function & Optimizer\n",
        "\n",
        "# In Pytorch:\n",
        "# L1 Loss = Mean Absolute Error\n",
        "# L2 Loss = Mean Square Error\n",
        "# and there are many others, see more here: https://pytorch.org/docs/stable/nn.html#loss-functions\n",
        "\n",
        "# If we write L1 loss ourselves, we could write:\n",
        "# MAE_loss = torch.mean(torch.abs(y_predictions - y_test))\n",
        "\n",
        "# In PyTorch, we can use builtin one MAE_loss = torch.nn.L1Loss\n",
        "\n",
        "# Setup a loss function\n",
        "loss_func = nn.L1Loss() # Loss function measures how wrong our model is\n",
        "\n",
        "# Setup an optimizer (SGD = Stocastic Gradient Descent)\n",
        "# Optimizer adjust our model parameters no matter there is\n",
        "# 2 params (like weight and bias in our case) or there are millions or even billions of parameters\n",
        "optimizer_func = torch.optim.SGD(model_one.parameters(),\n",
        "                                 lr=0.01) # Learning Rate (its a hyperparameter) play with 0.001 as well\n",
        "\n",
        "# Parameters are values model sets itself\n",
        "# Hyperparameter are parameters we set oursevlves (as a Data Scientist or ML Engineer)\n",
        "# Technically we can set `lr` to whatever value, this comes from a lot of trail and error\n",
        "# The smaller the learning rate, the smaller the change in parameter to improve it"
      ],
      "metadata": {
        "id": "i6gnbRPxo1Rc"
      },
      "execution_count": 104,
      "outputs": []
    },
    {
      "cell_type": "code",
      "source": [
        "# Question: Which loss functiona and which optimizer to use for which problem?\n",
        "# Answer: There are specific loss function and optimizers for specific type of problems\n",
        "# For example, there are specific loss functions and optimizers for regression vs classification task"
      ],
      "metadata": {
        "id": "yvhlkO4XplYw"
      },
      "execution_count": 105,
      "outputs": []
    },
    {
      "cell_type": "code",
      "source": [
        "# Building a Training Loop (and testing loop) in Pytorch\n",
        "# Write now, we are doing all step by step, later we will write functions to do it\n",
        "\n",
        "# Things to do:\n",
        "# 0. Loop through data\n",
        "# 1. Forward Pass (moving data through forward() function) to make predictions on data aka forward propagation\n",
        "# 2. Optimizer zero grad\n",
        "# 3. Loss backward (Backpropgation) - move backwards through the network to calculate the gradients of each of the parameters of our model with respect to loss\n",
        "# 4. Optimizer step (Gradient Descent) - use the optimizer to adjust our model's parameters to try and improve the loss"
      ],
      "metadata": {
        "id": "xBYT77jTsfFT"
      },
      "execution_count": 106,
      "outputs": []
    },
    {
      "cell_type": "code",
      "source": [
        "# An epoch is one loop through the data (this is also a hyperparameter)\n",
        "epochs = 1 # 100\n",
        "\n",
        "# Step.0: Loop through the data\n",
        "for epoch in range(epochs):\n",
        "  # Set the model to training mode\n",
        "  model_one.train() # train mode in Pytorch sets all parameters that require gradients\n",
        "\n",
        "  # Step.1: Forward pass\n",
        "  # Behind the scene, pytorch sets the model meta data and will pass all data to forward() function\n",
        "  y_predictions = model_one(X_train)\n",
        "\n",
        "  # Step.2: Calculate loss\n",
        "  loss = loss_func(y_predictions, y_train)\n",
        "  print(f\"Loss = { loss }\")\n",
        "\n",
        "  # Step.3: Optimizer zero grad\n",
        "  optimizer_func.zero_grad() # start fresh every loop\n",
        "\n",
        "  # Step.4: Peform Backpropagation\n",
        "  # Internally,  pytorhc computes the gradient of every parameter with requires_grad = True\n",
        "  # In our case, we set requires_grad = True for both weight and bias\n",
        "  # Torch does it via autograd, read more here https://pytorch.org/docs/stable/autograd.html\n",
        "  loss.backward()\n",
        "\n",
        "  # Step.5: Step the optimizer (Peform Gradient Descent)\n",
        "  # Progress/step the optimizer\n",
        "  # By default how optimizer changes will accumulate through the loop so\n",
        "  # so we have to zero them above in step.3 for next iteration\n",
        "\n",
        "  # step() accumlates the value we have to update, why it accumlates\n",
        "  # is probably for faster computation (this is under the hood pytorch)\n",
        "  optimizer_func.step()\n",
        "\n",
        "  # Testing\n",
        "  model_one.eval()\n",
        "\n",
        "model_one.state_dict()\n",
        "\n",
        "# Run the above code multiple times to continuously see the model learning (and see the loss function going down)\n",
        "# You can also increase epoch to some big number to run all iterations at once\n",
        "\n",
        "# After many many iterations, the weight and bias should get closer and closer to the actual value of weight = 0.7 and bias = 0.3"
      ],
      "metadata": {
        "colab": {
          "base_uri": "https://localhost:8080/"
        },
        "id": "X5VhmbiytlB5",
        "outputId": "6b570061-47cc-4f4e-d56c-72764519d5fd"
      },
      "execution_count": 159,
      "outputs": [
        {
          "output_type": "stream",
          "name": "stdout",
          "text": [
            "Loss = 0.009686763398349285\n"
          ]
        },
        {
          "output_type": "execute_result",
          "data": {
            "text/plain": [
              "OrderedDict([('weights', tensor([0.6534])), ('bias', tensor([0.3193]))])"
            ]
          },
          "metadata": {},
          "execution_count": 159
        }
      ]
    },
    {
      "cell_type": "code",
      "source": [
        "with torch.inference_mode():\n",
        "  y_predictions_new = model_one(X_test)\n",
        "# I got this error RuntimeError: Can't call numpy() on Tensor that requires grad. Use tensor.detach().numpy() instead.\n",
        "# Read https://stackoverflow.com/questions/55466298/pytorch-cant-call-numpy-on-variable-that-requires-grad-use-var-detach-num"
      ],
      "metadata": {
        "id": "Un4nUgFcz2Q4"
      },
      "execution_count": 166,
      "outputs": []
    },
    {
      "cell_type": "code",
      "source": [
        "# after traiing\n",
        "model_one.state_dict()"
      ],
      "metadata": {
        "colab": {
          "base_uri": "https://localhost:8080/"
        },
        "id": "CQHzP8O40jEd",
        "outputId": "0ca235d5-c05b-42fd-88dd-93155af7f8b0"
      },
      "execution_count": 170,
      "outputs": [
        {
          "output_type": "execute_result",
          "data": {
            "text/plain": [
              "OrderedDict([('weights', tensor([0.6534])), ('bias', tensor([0.3193]))])"
            ]
          },
          "metadata": {},
          "execution_count": 170
        }
      ]
    },
    {
      "cell_type": "code",
      "source": [
        "# actual\n",
        "weight, bias"
      ],
      "metadata": {
        "colab": {
          "base_uri": "https://localhost:8080/"
        },
        "id": "LBCfnIi01cJv",
        "outputId": "6afafdf6-d5a8-4896-cca4-52441f8fd531"
      },
      "execution_count": 169,
      "outputs": [
        {
          "output_type": "execute_result",
          "data": {
            "text/plain": [
              "(0.7, 0.3)"
            ]
          },
          "metadata": {},
          "execution_count": 169
        }
      ]
    },
    {
      "cell_type": "code",
      "source": [
        "plot_predictions(predictions = y_predictions_new);"
      ],
      "metadata": {
        "colab": {
          "base_uri": "https://localhost:8080/",
          "height": 599
        },
        "id": "CkdbsvKG1eda",
        "outputId": "f7602629-f34a-4b16-9f23-74b26f8a8a1a"
      },
      "execution_count": 171,
      "outputs": [
        {
          "output_type": "display_data",
          "data": {
            "text/plain": [
              "<Figure size 1000x700 with 1 Axes>"
            ],
            "image/png": "[encoded data removed]"
          },
          "metadata": {}
        }
      ]
    }
  ]
}