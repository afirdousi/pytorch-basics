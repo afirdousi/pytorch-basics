{
  "nbformat": 4,
  "nbformat_minor": 0,
  "metadata": {
    "colab": {
      "provenance": [],
      "authorship_tag": "ABX9TyO+6yXxVg6bur63wOYGTfCx",
      "include_colab_link": true
    },
    "kernelspec": {
      "name": "python3",
      "display_name": "Python 3"
    },
    "language_info": {
      "name": "python"
    }
  },
  "cells": [
    {
      "cell_type": "markdown",
      "metadata": {
        "id": "view-in-github",
        "colab_type": "text"
      },
      "source": [
        "<a href=\"https://colab.research.google.com/github/afirdousi/pytorch-basics/blob/main/005_pytorch_workflows_2.ipynb\" target=\"_parent\"><img src=\"https://colab.research.google.com/assets/colab-badge.svg\" alt=\"Open In Colab\"/></a>"
      ]
    },
    {
      "cell_type": "code",
      "source": [
        "import torch\n",
        "from torch import nn # (https://pytorch.org/docs/stable/nn.html)\n",
        "import matplotlib.pyplot as plt\n",
        "\n",
        "import pandas as pd\n",
        "import numpy as np\n",
        "\n",
        "print(\"Intro to Pytorch Workflow\")\n",
        "print(torch.__version__)"
      ],
      "metadata": {
        "colab": {
          "base_uri": "https://localhost:8080/"
        },
        "id": "FtN9WHUFJDAl",
        "outputId": "eccf6270-a2e3-4ca0-e56d-ffd41584949a"
      },
      "execution_count": 2,
      "outputs": [
        {
          "output_type": "stream",
          "name": "stdout",
          "text": [
            "Intro to Pytorch Workflow\n",
            "2.0.1+cu118\n"
          ]
        }
      ]
    },
    {
      "cell_type": "code",
      "execution_count": 22,
      "metadata": {
        "id": "7_Qj6JEzI9qS"
      },
      "outputs": [],
      "source": [
        "# Build a Model\n",
        "# Our First Model\n",
        "\n",
        "# PyTorch has four (give or take) essential modules you can use to create almost\n",
        "# any kind of neural network you can imagine.\n",
        "\n",
        "# They are torch.nn, torch.optim, torch.utils.data.Dataset and\n",
        "# torch.utils.data.DataLoader. For now, we'll focus on the first two and get to\n",
        "# the other two later (though you may be able to guess what they do).\n",
        "\n",
        "# How Gradient Descent works? Watch: https://www.youtube.com/watch?v=IHZwWFHWa-w\n",
        "# What is Backpropagation? Watch: https://www.youtube.com/watch?v=Ilg3gGewQ5U\n",
        "\n",
        "class LinearRegressionModel(nn.Module): # nn.Module is NN lego block\n",
        "  def __init__(self):\n",
        "    super().__init__()\n",
        "\n",
        "    # FYI, we don't necessarily have to start with random/unknown params\n",
        "    self.weights = nn.Parameter(torch.randn(1, # start with random weight\n",
        "                                            dtype=torch.float),\n",
        "                                # update weights with gradient descent\n",
        "                                # pytorch will track gradient of this specific\n",
        "                                # parameter for use with torch.autograd\n",
        "                                            requires_grad=True)\n",
        "\n",
        "    # nn.Parameter when used as part of a module, becomes\n",
        "    # part of Module.Parameters iterator\n",
        "\n",
        "    self.bias = nn.Parameter(torch.randn(1, # start with random bias\n",
        "                                         dtype=torch.float),\n",
        "                             # update weights with gradient descent\n",
        "                             requires_grad=True)\n",
        "\n",
        "  # forward defines the model computation\n",
        "  # any class that inherits from nn.Module needs to implement the forward method\n",
        "  def forward(self, x: torch.Tensor):\n",
        "    return self.weights * x + self.bias # y = mX + b (linear regression)"
      ]
    },
    {
      "cell_type": "code",
      "source": [
        "# Check PyTorch Cheatsheet: https://pytorch.org/tutorials/beginner/ptcheat.html"
      ],
      "metadata": {
        "id": "U3FNExdZJNbR"
      },
      "execution_count": 4,
      "outputs": []
    },
    {
      "cell_type": "code",
      "source": [
        "# Almost everything in a PyTorch neural network comes from torch.nn,\n",
        "\n",
        "# nn.Module contains the larger building blocks (layers)\n",
        "# nn.Parameter contains the smaller parameters like weights and biases (put these together to make nn.Module(s))\n",
        "# forward() tells the larger blocks how to make calculations on inputs (tensors full of data) within nn.Module(s)\n",
        "# torch.optim contains optimization methods on how to improve the parameters within nn.Parameter to better represent input data"
      ],
      "metadata": {
        "id": "57XZH9mHW_RD"
      },
      "execution_count": 5,
      "outputs": []
    },
    {
      "cell_type": "code",
      "source": [
        "# What happens if create an instance of our model class?\n",
        "\n",
        "# Check contents of PyTorch model\n",
        "\n",
        "# For sake of learning, Create a random seed\n",
        "torch.manual_seed(42) # to make sure the internal random numbers generated for 'weights' and 'bias' are the same everytime (only for learning purpose)\n",
        "\n",
        "# create a model\n",
        "model_one = LinearRegressionModel()\n",
        "\n",
        "# check out parameters\n",
        "model_one"
      ],
      "metadata": {
        "colab": {
          "base_uri": "https://localhost:8080/"
        },
        "id": "qmhEax3uXX5t",
        "outputId": "9f2df5aa-f6a2-4975-cca2-2d1e1b277d70"
      },
      "execution_count": 6,
      "outputs": [
        {
          "output_type": "execute_result",
          "data": {
            "text/plain": [
              "LinearRegressionModel()"
            ]
          },
          "metadata": {},
          "execution_count": 6
        }
      ]
    },
    {
      "cell_type": "code",
      "source": [
        "model_one.parameters"
      ],
      "metadata": {
        "colab": {
          "base_uri": "https://localhost:8080/"
        },
        "id": "11URO2YMZkbr",
        "outputId": "d412b775-bcde-4e72-abdc-4eaad1d63842"
      },
      "execution_count": 7,
      "outputs": [
        {
          "output_type": "execute_result",
          "data": {
            "text/plain": [
              "<bound method Module.parameters of LinearRegressionModel()>"
            ]
          },
          "metadata": {},
          "execution_count": 7
        }
      ]
    },
    {
      "cell_type": "code",
      "source": [
        "list(model_one.parameters())"
      ],
      "metadata": {
        "colab": {
          "base_uri": "https://localhost:8080/"
        },
        "id": "D5sxBVWVaQ7c",
        "outputId": "7f93d13e-5e4b-4ebe-bfb8-e1099ed6d820"
      },
      "execution_count": 8,
      "outputs": [
        {
          "output_type": "execute_result",
          "data": {
            "text/plain": [
              "[Parameter containing:\n",
              " tensor([0.3367], requires_grad=True),\n",
              " Parameter containing:\n",
              " tensor([0.1288], requires_grad=True)]"
            ]
          },
          "metadata": {},
          "execution_count": 8
        }
      ]
    },
    {
      "cell_type": "code",
      "source": [
        "# Now try the above code commenting torch.manual_seed(42)\n",
        "# This will how actually there is a random value generated by the model everytime to start off\n"
      ],
      "metadata": {
        "id": "SUT3ZhY6aUzw"
      },
      "execution_count": 9,
      "outputs": []
    },
    {
      "cell_type": "code",
      "source": [
        "# List named parameters\n",
        "model_one.state_dict()"
      ],
      "metadata": {
        "colab": {
          "base_uri": "https://localhost:8080/"
        },
        "id": "KuDERow3bLgV",
        "outputId": "82ad252f-4d78-47a8-ca3b-e51140d0d1ba"
      },
      "execution_count": 10,
      "outputs": [
        {
          "output_type": "execute_result",
          "data": {
            "text/plain": [
              "OrderedDict([('weights', tensor([0.3367])), ('bias', tensor([0.1288]))])"
            ]
          },
          "metadata": {},
          "execution_count": 10
        }
      ]
    },
    {
      "cell_type": "code",
      "source": [
        "# In Reality, the model starts off with some random values like this\n",
        "# and use gradient descent to get to the target value\n",
        "\n",
        "# Lets assume a target value for our parameters\n",
        "weight = 0.7\n",
        "bias = 0.3\n",
        "\n",
        "\n",
        "\n",
        "# Let's recreate some dummy data that we created in last lesson as well\n",
        "# To check how well does our model performs predicting\n",
        "\n",
        "# Create data\n",
        "start = 0\n",
        "end = 1\n",
        "step = 0.02\n",
        "X = torch.arange(start, end, step).unsqueeze(dim=1)\n",
        "y = weight * X + bias\n",
        "# Create train/test split\n",
        "train_split = int(0.8 * len(X)) # 80% of data used for training set, 20% for testing\n",
        "X_train, y_train = X[:train_split], y[:train_split]\n",
        "X_test, y_test = X[train_split:], y[train_split:]\n",
        "\n",
        "# Lets also redefine plot prediction function\n",
        "def plot_predictions(train_data=X_train,\n",
        "                     train_labels=y_train,\n",
        "                     test_data=X_test,\n",
        "                     test_labels=y_test,\n",
        "                     predictions=None):\n",
        "  \"\"\"\n",
        "  Plots training data, test data and compares predictions.\n",
        "  \"\"\"\n",
        "  plt.figure(figsize=(10, 7))\n",
        "\n",
        "  # Plot training data in blue\n",
        "  plt.scatter(train_data, train_labels, c=\"b\", s=4, label=\"Training data\")\n",
        "\n",
        "  # Plot test data in green\n",
        "  plt.scatter(test_data, test_labels, c=\"g\", s=4, label=\"Testing data\")\n",
        "\n",
        "  if predictions is not None:\n",
        "    # Plot the predictions in red (predictions were made on the test data)\n",
        "    plt.scatter(test_data, predictions, c=\"r\", s=4, label=\"Predictions\")\n",
        "\n",
        "  # Show the legend\n",
        "  plt.legend(prop={\"size\": 14});\n",
        "\n"
      ],
      "metadata": {
        "id": "L6GSQYzybRuV"
      },
      "execution_count": 11,
      "outputs": []
    },
    {
      "cell_type": "code",
      "source": [
        "# the work of the model should be to go from random value to the above 2 values use gradient decent and back propagation"
      ],
      "metadata": {
        "id": "eHbdnK-9cRVk"
      },
      "execution_count": 12,
      "outputs": []
    },
    {
      "cell_type": "code",
      "source": [
        "# Making predictions using torch.inference_mode()\n",
        "\n",
        "# Disable all gradient related information. Runs faster since we are not training the model, we are just doing inference\n",
        "# To test, check the output of y_predictions = model_one(X_test) without inference mode\n",
        "with torch.inference_mode():\n",
        "  y_predictions = model_one(X_test)\n",
        "\n",
        "\n",
        "# Learn more about inference mode here: https://twitter.com/PyTorch/status/1437838231505096708?lang=en"
      ],
      "metadata": {
        "id": "bY7DlLAgcaFz"
      },
      "execution_count": 21,
      "outputs": []
    },
    {
      "cell_type": "code",
      "source": [
        "# Lets check predictions\n",
        "\n",
        "print(f\"Number of testing samples = { len(X_test) }\")\n",
        "print(f\"Number of predictions = { len(y_predictions) }\")"
      ],
      "metadata": {
        "colab": {
          "base_uri": "https://localhost:8080/"
        },
        "id": "0GdwMWqjwIUK",
        "outputId": "919e3fea-79c4-49b9-bff1-87238e422b61"
      },
      "execution_count": 18,
      "outputs": [
        {
          "output_type": "stream",
          "name": "stdout",
          "text": [
            "Number of testing samples = 10\n",
            "Number of predictions = 10\n"
          ]
        }
      ]
    },
    {
      "cell_type": "code",
      "source": [
        "print(f\"Predictions= { y_predictions }\")"
      ],
      "metadata": {
        "colab": {
          "base_uri": "https://localhost:8080/"
        },
        "id": "a7azRss4xpti",
        "outputId": "d512b712-2272-4493-89f8-3d2a8a9b6097"
      },
      "execution_count": 19,
      "outputs": [
        {
          "output_type": "stream",
          "name": "stdout",
          "text": [
            "Predictions= tensor([[0.3982],\n",
            "        [0.4049],\n",
            "        [0.4116],\n",
            "        [0.4184],\n",
            "        [0.4251],\n",
            "        [0.4318],\n",
            "        [0.4386],\n",
            "        [0.4453],\n",
            "        [0.4520],\n",
            "        [0.4588]])\n"
          ]
        }
      ]
    },
    {
      "cell_type": "code",
      "source": [
        "plot_predictions(X_train,\n",
        "                 y_train,\n",
        "                 X_test,\n",
        "                 y_test,\n",
        "                 y_predictions)"
      ],
      "metadata": {
        "colab": {
          "base_uri": "https://localhost:8080/",
          "height": 599
        },
        "id": "PzZw5qloy26r",
        "outputId": "42e8a327-ce49-496e-f2f8-c3d75bac72ca"
      },
      "execution_count": 20,
      "outputs": [
        {
          "output_type": "display_data",
          "data": {
            "text/plain": [
              "<Figure size 1000x700 with 1 Axes>"
            ],
            "image/png": "[encoded data removed]"
          },
          "metadata": {}
        }
      ]
    },
    {
      "cell_type": "code",
      "source": [
        "# The whole idea of training is to start from random and get as closer to the actual result\n",
        "# by continuousing calculating how poor model predictions are by using a Loss Function\n",
        "\n",
        "# More on Loss Functions here https://pytorch.org/docs/stable/nn.html#loss-functions\n",
        "# Loss Function also called Cost function or criterion\n",
        "\n",
        "# Loss function tries to improve the prediction by using something called Optimizer\n",
        "\n",
        "# Optimizer: Takes into account the loss of a model and adjusts the model's paramters (e.g. weights and bias in our case)\n",
        "# to improve the loss function. More here: https://pytorch.org/docs/stable/optim.html\n",
        "\n",
        "# Which params we have in our model? Check:\n",
        "model_one.state_dict()"
      ],
      "metadata": {
        "colab": {
          "base_uri": "https://localhost:8080/"
        },
        "id": "nzLCN53Ozhg4",
        "outputId": "95bda8b4-758f-4c9c-97e6-ca836785f05f"
      },
      "execution_count": 24,
      "outputs": [
        {
          "output_type": "execute_result",
          "data": {
            "text/plain": [
              "OrderedDict([('weights', tensor([0.3367])), ('bias', tensor([0.1288]))])"
            ]
          },
          "metadata": {},
          "execution_count": 24
        }
      ]
    },
    {
      "cell_type": "code",
      "source": [
        "# Next, we need now need 1/ Training Loop 2/ Testing Loop"
      ],
      "metadata": {
        "id": "Twrem40DopcQ"
      },
      "execution_count": 25,
      "outputs": []
    },
    {
      "cell_type": "code",
      "source": [
        "# Setting Up A Loss Function & Optimizer\n",
        "\n",
        "# In Pytorch:\n",
        "# L1 Loss = Mean Absolute Error\n",
        "# L2 Loss = Mean Square Error\n",
        "# and there are many others, see more here: https://pytorch.org/docs/stable/nn.html#loss-functions\n",
        "\n",
        "# If we write L1 loss ourselves, we could write:\n",
        "# MAE_loss = torch.mean(torch.abs(y_predictions - y_test))\n",
        "\n",
        "# In PyTorch, we can use builtin one MAE_loss = torch.nn.L1Loss\n",
        "\n",
        "# Setup a loss function\n",
        "loss_func = nn.L1Loss() # Loss function measures how wrong our model is\n",
        "\n",
        "# Setup an optimizer (SGD = Stocastic Gradient Descent)\n",
        "# Optimizer adjust our model parameters no matter there is\n",
        "# 2 params (like weight and bias in our case) or there are millions or even billions of parameters\n",
        "optimizer_func = torch.optim.SGD(model_one.parameters(),\n",
        "                                 lr=0.001) # Learning Rate (its a hyperparameter)\n",
        "\n",
        "# Parameters are values model sets itself\n",
        "# Hyperparameter are parameters we set oursevlves\n",
        "# Technically we can set `lr` to whatever value, this comes from a lot of trail and error\n",
        "# The smaller the learning rate, the smaller the change in parameter to improve it"
      ],
      "metadata": {
        "id": "i6gnbRPxo1Rc"
      },
      "execution_count": 32,
      "outputs": []
    },
    {
      "cell_type": "code",
      "source": [],
      "metadata": {
        "id": "yvhlkO4XplYw"
      },
      "execution_count": 29,
      "outputs": []
    }
  ]
}