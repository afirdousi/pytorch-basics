{
  "nbformat": 4,
  "nbformat_minor": 0,
  "metadata": {
    "colab": {
      "provenance": [],
      "gpuType": "T4",
      "authorship_tag": "ABX9TyOfRCgkqOP45RVrmHP/U8Mm",
      "include_colab_link": true
    },
    "kernelspec": {
      "name": "python3",
      "display_name": "Python 3"
    },
    "language_info": {
      "name": "python"
    },
    "accelerator": "GPU"
  },
  "cells": [
    {
      "cell_type": "markdown",
      "metadata": {
        "id": "view-in-github",
        "colab_type": "text"
      },
      "source": [
        "<a href=\"https://colab.research.google.com/github/afirdousi/pytorch-basics/blob/main/001_pytorch_fundamentals.ipynb\" target=\"_parent\"><img src=\"https://colab.research.google.com/assets/colab-badge.svg\" alt=\"Open In Colab\"/></a>"
      ]
    },
    {
      "cell_type": "markdown",
      "source": [
        "\n",
        "\n",
        "1.Check NVIDIA GPU Details\n",
        "2.Import fundamental packages\n",
        "3.Check pytorch version\n",
        "4.Creating differnt types of tensors\n",
        "\n",
        "\n"
      ],
      "metadata": {
        "id": "RRkoYrAMHqyi"
      }
    },
    {
      "cell_type": "code",
      "source": [
        "#check which GPU you have (SMI = System Management Interface)\n",
        "!nvidia-smi"
      ],
      "metadata": {
        "colab": {
          "base_uri": "https://localhost:8080/"
        },
        "id": "48Uz5GepCJWP",
        "outputId": "d220a902-bf84-4339-91d3-3849e13344b3"
      },
      "execution_count": null,
      "outputs": [
        {
          "output_type": "stream",
          "name": "stdout",
          "text": [
            "Thu Aug 17 05:38:24 2023       \n",
            "+-----------------------------------------------------------------------------+\n",
            "| NVIDIA-SMI 525.105.17   Driver Version: 525.105.17   CUDA Version: 12.0     |\n",
            "|-------------------------------+----------------------+----------------------+\n",
            "| GPU  Name        Persistence-M| Bus-Id        Disp.A | Volatile Uncorr. ECC |\n",
            "| Fan  Temp  Perf  Pwr:Usage/Cap|         Memory-Usage | GPU-Util  Compute M. |\n",
            "|                               |                      |               MIG M. |\n",
            "|===============================+======================+======================|\n",
            "|   0  Tesla T4            Off  | 00000000:00:04.0 Off |                    0 |\n",
            "| N/A   51C    P8     9W /  70W |      0MiB / 15360MiB |      0%      Default |\n",
            "|                               |                      |                  N/A |\n",
            "+-------------------------------+----------------------+----------------------+\n",
            "                                                                               \n",
            "+-----------------------------------------------------------------------------+\n",
            "| Processes:                                                                  |\n",
            "|  GPU   GI   CI        PID   Type   Process name                  GPU Memory |\n",
            "|        ID   ID                                                   Usage      |\n",
            "|=============================================================================|\n",
            "|  No running processes found                                                 |\n",
            "+-----------------------------------------------------------------------------+\n"
          ]
        }
      ]
    },
    {
      "cell_type": "code",
      "source": [
        "import torch\n",
        "import pandas as pd\n",
        "import numpy as np\n",
        "import matplotlib.pyplot as plt\n",
        "print(\"Hello Pytorch World!\")\n",
        "print(torch.__version__)"
      ],
      "metadata": {
        "colab": {
          "base_uri": "https://localhost:8080/"
        },
        "id": "-L8WYvb_GX2d",
        "outputId": "2953b006-f22c-49b6-a7e3-2407a628c640"
      },
      "execution_count": null,
      "outputs": [
        {
          "output_type": "stream",
          "name": "stdout",
          "text": [
            "Hello Pytorch World!\n",
            "2.0.1+cu118\n"
          ]
        }
      ]
    },
    {
      "cell_type": "code",
      "source": [
        "#scalar\n",
        "\n",
        "scalar = torch.tensor(7) ## https://pytorch.org/docs/stable/tensors.html\n",
        "scalar"
      ],
      "metadata": {
        "colab": {
          "base_uri": "https://localhost:8080/"
        },
        "id": "agFOag3BHEY_",
        "outputId": "7a7b816b-fe2a-4008-bdf3-9c99688e3d42"
      },
      "execution_count": null,
      "outputs": [
        {
          "output_type": "execute_result",
          "data": {
            "text/plain": [
              "tensor(7)"
            ]
          },
          "metadata": {},
          "execution_count": 3
        }
      ]
    },
    {
      "cell_type": "code",
      "source": [
        "scalar.ndim"
      ],
      "metadata": {
        "colab": {
          "base_uri": "https://localhost:8080/"
        },
        "id": "u5y2bufiIDjG",
        "outputId": "b43704d6-374e-460f-dacd-80f7ff022aa6"
      },
      "execution_count": null,
      "outputs": [
        {
          "output_type": "execute_result",
          "data": {
            "text/plain": [
              "0"
            ]
          },
          "metadata": {},
          "execution_count": 4
        }
      ]
    },
    {
      "cell_type": "code",
      "source": [
        "scalar.item() # Get tensor back as python int"
      ],
      "metadata": {
        "colab": {
          "base_uri": "https://localhost:8080/"
        },
        "id": "Dury6QahISQa",
        "outputId": "d085337d-2327-478c-ce46-7b6fdb756ebf"
      },
      "execution_count": null,
      "outputs": [
        {
          "output_type": "execute_result",
          "data": {
            "text/plain": [
              "7"
            ]
          },
          "metadata": {},
          "execution_count": 5
        }
      ]
    },
    {
      "cell_type": "code",
      "source": [
        "#vector\n",
        "\n",
        "vector = torch.tensor([1,2,3])\n",
        "vector"
      ],
      "metadata": {
        "colab": {
          "base_uri": "https://localhost:8080/"
        },
        "id": "unP0zuiwIlOT",
        "outputId": "1243821b-7a3a-402e-b2dc-1afe21ceacc3"
      },
      "execution_count": null,
      "outputs": [
        {
          "output_type": "execute_result",
          "data": {
            "text/plain": [
              "tensor([1, 2, 3])"
            ]
          },
          "metadata": {},
          "execution_count": 6
        }
      ]
    },
    {
      "cell_type": "code",
      "source": [
        "vector.ndim"
      ],
      "metadata": {
        "colab": {
          "base_uri": "https://localhost:8080/"
        },
        "id": "W0luLkUdIq7I",
        "outputId": "99722e01-472b-46c9-9e0e-50083f43ae29"
      },
      "execution_count": null,
      "outputs": [
        {
          "output_type": "execute_result",
          "data": {
            "text/plain": [
              "1"
            ]
          },
          "metadata": {},
          "execution_count": 7
        }
      ]
    },
    {
      "cell_type": "code",
      "source": [
        "vector.shape"
      ],
      "metadata": {
        "colab": {
          "base_uri": "https://localhost:8080/"
        },
        "id": "xxdbb4fYJBpM",
        "outputId": "ac44e1da-33cf-474c-af30-2475164ef735"
      },
      "execution_count": null,
      "outputs": [
        {
          "output_type": "execute_result",
          "data": {
            "text/plain": [
              "torch.Size([3])"
            ]
          },
          "metadata": {},
          "execution_count": 8
        }
      ]
    },
    {
      "cell_type": "code",
      "source": [
        "vector[2]"
      ],
      "metadata": {
        "colab": {
          "base_uri": "https://localhost:8080/"
        },
        "id": "jdCele2oJc_m",
        "outputId": "da17ab3e-69c2-451f-ec3c-ba8c0e4318cf"
      },
      "execution_count": null,
      "outputs": [
        {
          "output_type": "execute_result",
          "data": {
            "text/plain": [
              "tensor(3)"
            ]
          },
          "metadata": {},
          "execution_count": 9
        }
      ]
    },
    {
      "cell_type": "code",
      "source": [
        "#matrix = a 2 dimensional array of number\n",
        "# its a general convention to name matrix and tensors in upper case in python/ML land\n",
        "MATRIX = torch.tensor([[1,2,3],\n",
        "                        [4,5,6]])\n",
        "MATRIX"
      ],
      "metadata": {
        "colab": {
          "base_uri": "https://localhost:8080/"
        },
        "id": "UcIBm8b7Ir_U",
        "outputId": "9dbdbb97-282b-4d58-e151-7b09775bd6ac"
      },
      "execution_count": null,
      "outputs": [
        {
          "output_type": "execute_result",
          "data": {
            "text/plain": [
              "tensor([[1, 2, 3],\n",
              "        [4, 5, 6]])"
            ]
          },
          "metadata": {},
          "execution_count": 10
        }
      ]
    },
    {
      "cell_type": "code",
      "source": [
        "MATRIX.ndim"
      ],
      "metadata": {
        "colab": {
          "base_uri": "https://localhost:8080/"
        },
        "id": "DDSDW2S0I4Cr",
        "outputId": "588c393b-82f1-4c5f-8a27-fb1ae97746b8"
      },
      "execution_count": null,
      "outputs": [
        {
          "output_type": "execute_result",
          "data": {
            "text/plain": [
              "2"
            ]
          },
          "metadata": {},
          "execution_count": 11
        }
      ]
    },
    {
      "cell_type": "code",
      "source": [
        "MATRIX.shape"
      ],
      "metadata": {
        "colab": {
          "base_uri": "https://localhost:8080/"
        },
        "id": "TvokOU2PI9E4",
        "outputId": "fd6edd14-47c0-4c78-855e-fe7bbac0e0f0"
      },
      "execution_count": null,
      "outputs": [
        {
          "output_type": "execute_result",
          "data": {
            "text/plain": [
              "torch.Size([2, 3])"
            ]
          },
          "metadata": {},
          "execution_count": 12
        }
      ]
    },
    {
      "cell_type": "code",
      "source": [
        "MATRIX[0]"
      ],
      "metadata": {
        "colab": {
          "base_uri": "https://localhost:8080/"
        },
        "id": "osPClC8CJLYi",
        "outputId": "0a9e8ce3-ae51-4039-fabf-ba1023978238"
      },
      "execution_count": null,
      "outputs": [
        {
          "output_type": "execute_result",
          "data": {
            "text/plain": [
              "tensor([1, 2, 3])"
            ]
          },
          "metadata": {},
          "execution_count": 13
        }
      ]
    },
    {
      "cell_type": "code",
      "source": [
        "MATRIX[1]"
      ],
      "metadata": {
        "colab": {
          "base_uri": "https://localhost:8080/"
        },
        "id": "7KMhKC9fJWYu",
        "outputId": "2da6e355-6aa6-432a-ef75-5669d38c4c05"
      },
      "execution_count": null,
      "outputs": [
        {
          "output_type": "execute_result",
          "data": {
            "text/plain": [
              "tensor([4, 5, 6])"
            ]
          },
          "metadata": {},
          "execution_count": 14
        }
      ]
    },
    {
      "cell_type": "code",
      "source": [
        "#tensor = an n dimensional array of number\n",
        "\n",
        "TENSOR = torch.tensor([[\n",
        "                        [1,2,3],\n",
        "                        [4,6,2],\n",
        "                        [7,9,8],\n",
        "                        [6,2,7]\n",
        "                      ]])\n",
        "\n",
        "# number of items in each row needs to be the same, try putting more or less numbers in any row\n"
      ],
      "metadata": {
        "id": "JjD8OZyBJZlj"
      },
      "execution_count": null,
      "outputs": []
    },
    {
      "cell_type": "code",
      "source": [
        "TENSOR.ndim"
      ],
      "metadata": {
        "colab": {
          "base_uri": "https://localhost:8080/"
        },
        "id": "ptCX2aKDJ7gr",
        "outputId": "d9986646-6e6f-4bac-da41-b30794c4b025"
      },
      "execution_count": null,
      "outputs": [
        {
          "output_type": "execute_result",
          "data": {
            "text/plain": [
              "3"
            ]
          },
          "metadata": {},
          "execution_count": 16
        }
      ]
    },
    {
      "cell_type": "code",
      "source": [
        "TENSOR.shape"
      ],
      "metadata": {
        "colab": {
          "base_uri": "https://localhost:8080/"
        },
        "id": "Ilzy9oxrJ828",
        "outputId": "1f2a365f-374c-4065-d87a-7eee3b4cf154"
      },
      "execution_count": null,
      "outputs": [
        {
          "output_type": "execute_result",
          "data": {
            "text/plain": [
              "torch.Size([1, 4, 3])"
            ]
          },
          "metadata": {},
          "execution_count": 17
        }
      ]
    },
    {
      "cell_type": "code",
      "source": [
        "## Random Tensors - Used by NN to start off the network\n",
        "\n",
        "random_tensor = torch.rand(3,4)\n",
        "random_tensor\n"
      ],
      "metadata": {
        "colab": {
          "base_uri": "https://localhost:8080/"
        },
        "id": "5I-hom_eJ9wD",
        "outputId": "41dfa24f-d97d-4ab2-b5dc-e053f1fb2140"
      },
      "execution_count": null,
      "outputs": [
        {
          "output_type": "execute_result",
          "data": {
            "text/plain": [
              "tensor([[0.1589, 0.3860, 0.4419, 0.4584],\n",
              "        [0.2287, 0.0290, 0.4487, 0.4066],\n",
              "        [0.8708, 0.5091, 0.5514, 0.0192]])"
            ]
          },
          "metadata": {},
          "execution_count": 18
        }
      ]
    },
    {
      "cell_type": "code",
      "source": [
        "random_tensor = torch.rand(3,4,5)\n",
        "random_tensor"
      ],
      "metadata": {
        "colab": {
          "base_uri": "https://localhost:8080/"
        },
        "id": "5EyYBV4uPLAI",
        "outputId": "01220986-eb10-4558-a0a1-37759e219502"
      },
      "execution_count": null,
      "outputs": [
        {
          "output_type": "execute_result",
          "data": {
            "text/plain": [
              "tensor([[[0.6367, 0.7129, 0.9345, 0.7481, 0.5304],\n",
              "         [0.6931, 0.1926, 0.0731, 0.5243, 0.9785],\n",
              "         [0.4180, 0.3527, 0.6215, 0.1429, 0.4346],\n",
              "         [0.6819, 0.8649, 0.8500, 0.7796, 0.7702]],\n",
              "\n",
              "        [[0.8293, 0.1870, 0.6625, 0.3310, 0.3641],\n",
              "         [0.8990, 0.9562, 0.6990, 0.9154, 0.8959],\n",
              "         [0.3637, 0.1177, 0.9434, 0.6072, 0.3863],\n",
              "         [0.5040, 0.5923, 0.4563, 0.8585, 0.1883]],\n",
              "\n",
              "        [[0.3426, 0.8576, 0.1184, 0.4312, 0.5334],\n",
              "         [0.1936, 0.4022, 0.3856, 0.2581, 0.0315],\n",
              "         [0.8719, 0.3874, 0.6756, 0.4186, 0.4824],\n",
              "         [0.6793, 0.9121, 0.3126, 0.5351, 0.1563]]])"
            ]
          },
          "metadata": {},
          "execution_count": 19
        }
      ]
    },
    {
      "cell_type": "code",
      "source": [
        "random_tensor.ndim"
      ],
      "metadata": {
        "colab": {
          "base_uri": "https://localhost:8080/"
        },
        "id": "h-zrzyRHPTfp",
        "outputId": "1967b1d4-fcd1-45a7-eb1f-40171df7a72c"
      },
      "execution_count": null,
      "outputs": [
        {
          "output_type": "execute_result",
          "data": {
            "text/plain": [
              "3"
            ]
          },
          "metadata": {},
          "execution_count": 20
        }
      ]
    },
    {
      "cell_type": "code",
      "source": [
        "random_tensor.shape"
      ],
      "metadata": {
        "colab": {
          "base_uri": "https://localhost:8080/"
        },
        "id": "cBVliiPqPn6c",
        "outputId": "d030ad3b-6d02-44a1-e312-2aa1fbaf0ff0"
      },
      "execution_count": null,
      "outputs": [
        {
          "output_type": "execute_result",
          "data": {
            "text/plain": [
              "torch.Size([3, 4, 5])"
            ]
          },
          "metadata": {},
          "execution_count": 21
        }
      ]
    },
    {
      "cell_type": "code",
      "source": [
        "# Create a random tensor to an image tensor\n",
        "\n",
        "random_image_size_tensor = torch.rand(size=(3, 224,224 )) ## 3 channels R-G-B, height, width --- size= is optional\n",
        "random_image_size_tensor"
      ],
      "metadata": {
        "colab": {
          "base_uri": "https://localhost:8080/"
        },
        "id": "CSYHgYEsPpeT",
        "outputId": "a49643e2-d3e9-4597-b726-c832171f2d51"
      },
      "execution_count": null,
      "outputs": [
        {
          "output_type": "execute_result",
          "data": {
            "text/plain": [
              "tensor([[[0.0337, 0.8273, 0.6478,  ..., 0.5730, 0.7418, 0.7872],\n",
              "         [0.2208, 0.3841, 0.2141,  ..., 0.3444, 0.1434, 0.5279],\n",
              "         [0.4468, 0.2784, 0.4904,  ..., 0.0210, 0.6651, 0.0649],\n",
              "         ...,\n",
              "         [0.7256, 0.2991, 0.7677,  ..., 0.7401, 0.6215, 0.1624],\n",
              "         [0.4292, 0.4455, 0.2795,  ..., 0.7843, 0.2261, 0.8056],\n",
              "         [0.5338, 0.0680, 0.2487,  ..., 0.9796, 0.0829, 0.7861]],\n",
              "\n",
              "        [[0.0731, 0.0649, 0.5462,  ..., 0.3709, 0.4073, 0.5142],\n",
              "         [0.0216, 0.1694, 0.3692,  ..., 0.3690, 0.4465, 0.6345],\n",
              "         [0.3225, 0.4360, 0.9270,  ..., 0.4960, 0.8181, 0.1098],\n",
              "         ...,\n",
              "         [0.1036, 0.8214, 0.2430,  ..., 0.7153, 0.3584, 0.6004],\n",
              "         [0.1467, 0.9172, 0.9915,  ..., 0.5335, 0.7372, 0.1764],\n",
              "         [0.3347, 0.8863, 0.0202,  ..., 0.1814, 0.7031, 0.2651]],\n",
              "\n",
              "        [[0.3735, 0.6991, 0.1431,  ..., 0.4213, 0.1768, 0.6345],\n",
              "         [0.9412, 0.8212, 0.0797,  ..., 0.2204, 0.4100, 0.5112],\n",
              "         [0.2799, 0.8115, 0.0596,  ..., 0.2948, 0.7067, 0.8946],\n",
              "         ...,\n",
              "         [0.7911, 0.3926, 0.2221,  ..., 0.7463, 0.4797, 0.2223],\n",
              "         [0.6043, 0.8661, 0.0677,  ..., 0.2652, 0.6106, 0.5605],\n",
              "         [0.3849, 0.4758, 0.5403,  ..., 0.4358, 0.0039, 0.6358]]])"
            ]
          },
          "metadata": {},
          "execution_count": 22
        }
      ]
    },
    {
      "cell_type": "code",
      "source": [
        "random_image_size_tensor.shape"
      ],
      "metadata": {
        "colab": {
          "base_uri": "https://localhost:8080/"
        },
        "id": "TRkn93ZDQd4b",
        "outputId": "4a555d1d-ed36-4d51-9529-96a9facf8152"
      },
      "execution_count": null,
      "outputs": [
        {
          "output_type": "execute_result",
          "data": {
            "text/plain": [
              "torch.Size([3, 224, 224])"
            ]
          },
          "metadata": {},
          "execution_count": 23
        }
      ]
    },
    {
      "cell_type": "code",
      "source": [
        "random_image_size_tensor.ndim"
      ],
      "metadata": {
        "colab": {
          "base_uri": "https://localhost:8080/"
        },
        "id": "MErubGmPQfXt",
        "outputId": "a8c739a7-0c62-462f-c4d6-0775ec0190a5"
      },
      "execution_count": null,
      "outputs": [
        {
          "output_type": "execute_result",
          "data": {
            "text/plain": [
              "3"
            ]
          },
          "metadata": {},
          "execution_count": 24
        }
      ]
    },
    {
      "cell_type": "code",
      "source": [
        "# tensor of zeros and ones (used for Masking)\n",
        "\n",
        "zeros = torch.zeros(3,4)\n",
        "zeros"
      ],
      "metadata": {
        "colab": {
          "base_uri": "https://localhost:8080/"
        },
        "id": "0JT0x-yEQgi8",
        "outputId": "8fcf271c-b2fc-41a2-ed92-97c22419e730"
      },
      "execution_count": null,
      "outputs": [
        {
          "output_type": "execute_result",
          "data": {
            "text/plain": [
              "tensor([[0., 0., 0., 0.],\n",
              "        [0., 0., 0., 0.],\n",
              "        [0., 0., 0., 0.]])"
            ]
          },
          "metadata": {},
          "execution_count": 25
        }
      ]
    },
    {
      "cell_type": "code",
      "source": [
        "ones = torch.ones(3,4)\n",
        "ones"
      ],
      "metadata": {
        "colab": {
          "base_uri": "https://localhost:8080/"
        },
        "id": "moPzddU_Q8wy",
        "outputId": "ed3fa815-b86c-4d55-98ef-88fa1700e04e"
      },
      "execution_count": null,
      "outputs": [
        {
          "output_type": "execute_result",
          "data": {
            "text/plain": [
              "tensor([[1., 1., 1., 1.],\n",
              "        [1., 1., 1., 1.],\n",
              "        [1., 1., 1., 1.]])"
            ]
          },
          "metadata": {},
          "execution_count": 26
        }
      ]
    },
    {
      "cell_type": "code",
      "source": [
        "ones.dtype"
      ],
      "metadata": {
        "colab": {
          "base_uri": "https://localhost:8080/"
        },
        "id": "p04FWpeVRCMy",
        "outputId": "bf09dc42-28b0-4574-f086-113a3445a9a0"
      },
      "execution_count": null,
      "outputs": [
        {
          "output_type": "execute_result",
          "data": {
            "text/plain": [
              "torch.float32"
            ]
          },
          "metadata": {},
          "execution_count": 27
        }
      ]
    },
    {
      "cell_type": "code",
      "source": [
        "random_tensor.dtype"
      ],
      "metadata": {
        "colab": {
          "base_uri": "https://localhost:8080/"
        },
        "id": "HS9DIzfhRP_P",
        "outputId": "725ea540-5af1-431e-e97a-d6e0332d6023"
      },
      "execution_count": null,
      "outputs": [
        {
          "output_type": "execute_result",
          "data": {
            "text/plain": [
              "torch.float32"
            ]
          },
          "metadata": {},
          "execution_count": 28
        }
      ]
    },
    {
      "cell_type": "code",
      "source": [
        "## Range tensors\n",
        "\n",
        "torch.arange(0,10) # (start, end , step)"
      ],
      "metadata": {
        "colab": {
          "base_uri": "https://localhost:8080/"
        },
        "id": "z4kch-2SRWTs",
        "outputId": "ab2860a1-f21c-486c-8704-fb41b4df7df1"
      },
      "execution_count": null,
      "outputs": [
        {
          "output_type": "execute_result",
          "data": {
            "text/plain": [
              "tensor([0, 1, 2, 3, 4, 5, 6, 7, 8, 9])"
            ]
          },
          "metadata": {},
          "execution_count": 29
        }
      ]
    },
    {
      "cell_type": "code",
      "source": [
        "one_to_ten = torch.arange(1,11)\n",
        "one_to_ten"
      ],
      "metadata": {
        "colab": {
          "base_uri": "https://localhost:8080/"
        },
        "id": "QbpkjDysV7Sr",
        "outputId": "1b82c049-53a0-4813-9957-8aaafe238a58"
      },
      "execution_count": null,
      "outputs": [
        {
          "output_type": "execute_result",
          "data": {
            "text/plain": [
              "tensor([ 1,  2,  3,  4,  5,  6,  7,  8,  9, 10])"
            ]
          },
          "metadata": {},
          "execution_count": 30
        }
      ]
    },
    {
      "cell_type": "code",
      "source": [
        "even_between_one_to_100 = torch.arange(2,101,2)\n",
        "even_between_one_to_100"
      ],
      "metadata": {
        "colab": {
          "base_uri": "https://localhost:8080/"
        },
        "id": "NJ4eV6TJWdOG",
        "outputId": "088ceabd-7da1-43e2-922b-fe6da74182e4"
      },
      "execution_count": null,
      "outputs": [
        {
          "output_type": "execute_result",
          "data": {
            "text/plain": [
              "tensor([  2,   4,   6,   8,  10,  12,  14,  16,  18,  20,  22,  24,  26,  28,\n",
              "         30,  32,  34,  36,  38,  40,  42,  44,  46,  48,  50,  52,  54,  56,\n",
              "         58,  60,  62,  64,  66,  68,  70,  72,  74,  76,  78,  80,  82,  84,\n",
              "         86,  88,  90,  92,  94,  96,  98, 100])"
            ]
          },
          "metadata": {},
          "execution_count": 31
        }
      ]
    },
    {
      "cell_type": "code",
      "source": [
        "even_between_one_to_100 = torch.arange(start = 2, end = 101, step = 2)\n",
        "even_between_one_to_100"
      ],
      "metadata": {
        "colab": {
          "base_uri": "https://localhost:8080/"
        },
        "id": "HY_W9XdTWnTX",
        "outputId": "f5740be0-1375-4eec-d767-a2b4f0c42de2"
      },
      "execution_count": null,
      "outputs": [
        {
          "output_type": "execute_result",
          "data": {
            "text/plain": [
              "tensor([  2,   4,   6,   8,  10,  12,  14,  16,  18,  20,  22,  24,  26,  28,\n",
              "         30,  32,  34,  36,  38,  40,  42,  44,  46,  48,  50,  52,  54,  56,\n",
              "         58,  60,  62,  64,  66,  68,  70,  72,  74,  76,  78,  80,  82,  84,\n",
              "         86,  88,  90,  92,  94,  96,  98, 100])"
            ]
          },
          "metadata": {},
          "execution_count": 32
        }
      ]
    },
    {
      "cell_type": "code",
      "source": [
        "## Creating look alike tensors (aka tensor like)\n",
        "\n",
        "even_between_one_to_100.shape"
      ],
      "metadata": {
        "colab": {
          "base_uri": "https://localhost:8080/"
        },
        "id": "qIPMOrRiZw24",
        "outputId": "415e260e-de26-434f-ca5e-0b9310fe921a"
      },
      "execution_count": null,
      "outputs": [
        {
          "output_type": "execute_result",
          "data": {
            "text/plain": [
              "torch.Size([50])"
            ]
          },
          "metadata": {},
          "execution_count": 33
        }
      ]
    },
    {
      "cell_type": "code",
      "source": [
        "fifty_zeros = torch.zeros_like(even_between_one_to_100) ## or fifty_zeros = torch.zeros_like(input = even_between_one_to_100)\n",
        "fifty_zeros"
      ],
      "metadata": {
        "colab": {
          "base_uri": "https://localhost:8080/"
        },
        "id": "qdTL90flZ9hO",
        "outputId": "70aac81d-d44c-4245-e0a3-330d04a5f18d"
      },
      "execution_count": null,
      "outputs": [
        {
          "output_type": "execute_result",
          "data": {
            "text/plain": [
              "tensor([0, 0, 0, 0, 0, 0, 0, 0, 0, 0, 0, 0, 0, 0, 0, 0, 0, 0, 0, 0, 0, 0, 0, 0,\n",
              "        0, 0, 0, 0, 0, 0, 0, 0, 0, 0, 0, 0, 0, 0, 0, 0, 0, 0, 0, 0, 0, 0, 0, 0,\n",
              "        0, 0])"
            ]
          },
          "metadata": {},
          "execution_count": 34
        }
      ]
    },
    {
      "cell_type": "code",
      "source": [
        "## Tensor Data types\n",
        "\n",
        "float_32_tensor = torch.tensor([3.0,6.0], dtype=None) ## even thought we put none, default data type is going to be float32\n",
        "float_32_tensor.dtype\n",
        "\n"
      ],
      "metadata": {
        "colab": {
          "base_uri": "https://localhost:8080/"
        },
        "id": "9pU-Dz8RaDAO",
        "outputId": "f4d8bda5-87bc-497c-be89-a5a6745c7fc4"
      },
      "execution_count": null,
      "outputs": [
        {
          "output_type": "execute_result",
          "data": {
            "text/plain": [
              "torch.float32"
            ]
          },
          "metadata": {},
          "execution_count": 35
        }
      ]
    },
    {
      "cell_type": "code",
      "source": [
        "float_16_tensor = torch.tensor([3.0,6.0], dtype=torch.float16)\n",
        "float_16_tensor.dtype\n"
      ],
      "metadata": {
        "colab": {
          "base_uri": "https://localhost:8080/"
        },
        "id": "osasRnp3bCSR",
        "outputId": "af0b260a-419c-44c0-8b04-2f003f3ab671"
      },
      "execution_count": null,
      "outputs": [
        {
          "output_type": "execute_result",
          "data": {
            "text/plain": [
              "torch.float16"
            ]
          },
          "metadata": {},
          "execution_count": 36
        }
      ]
    },
    {
      "cell_type": "code",
      "source": [
        "test_tensor = torch.tensor([3.0,6.0], dtype=None, device=None, requires_grad=False)\n"
      ],
      "metadata": {
        "id": "ow7jHVb0banX"
      },
      "execution_count": null,
      "outputs": []
    },
    {
      "cell_type": "code",
      "source": [
        "# 3 big errors you will run into:\n",
        "# 1. Tensor is not right datatype\n",
        "# 2. Tensor is not right shape\n",
        "# 3. Tensor is not right device"
      ],
      "metadata": {
        "id": "3sXm3FQ8bdy6"
      },
      "execution_count": null,
      "outputs": []
    },
    {
      "cell_type": "code",
      "source": [
        "test_tensor = torch.tensor([3.0,6.0], dtype=None, device=\"cuda\", requires_grad=False)\n",
        "test_tensor\n"
      ],
      "metadata": {
        "colab": {
          "base_uri": "https://localhost:8080/"
        },
        "id": "0Oqavyf7e9z7",
        "outputId": "6f0a4b9c-e8b7-4c26-f159-78d5e18d1c0c"
      },
      "execution_count": null,
      "outputs": [
        {
          "output_type": "execute_result",
          "data": {
            "text/plain": [
              "tensor([3., 6.], device='cuda:0')"
            ]
          },
          "metadata": {},
          "execution_count": 39
        }
      ]
    },
    {
      "cell_type": "code",
      "source": [
        "### convert data types\n",
        "test_tensor = float_32_tensor.type(torch.float16) ### original variable remains as is\n",
        "test_tensor"
      ],
      "metadata": {
        "colab": {
          "base_uri": "https://localhost:8080/"
        },
        "id": "jr6jWnAfkaf-",
        "outputId": "9c24870d-c166-4b34-d494-82e5a3706416"
      },
      "execution_count": null,
      "outputs": [
        {
          "output_type": "execute_result",
          "data": {
            "text/plain": [
              "tensor([3., 6.], dtype=torch.float16)"
            ]
          },
          "metadata": {},
          "execution_count": 40
        }
      ]
    },
    {
      "cell_type": "code",
      "source": [
        "float_32_tensor.dtype"
      ],
      "metadata": {
        "colab": {
          "base_uri": "https://localhost:8080/"
        },
        "id": "FPJdY41Ik9JA",
        "outputId": "de12f1ab-4447-4a80-8081-da05d4f592dc"
      },
      "execution_count": null,
      "outputs": [
        {
          "output_type": "execute_result",
          "data": {
            "text/plain": [
              "torch.float32"
            ]
          },
          "metadata": {},
          "execution_count": 41
        }
      ]
    },
    {
      "cell_type": "code",
      "source": [
        "float_16_tensor * float_32_tensor ## sometimes this can give error and then you will have to use conversion/casting"
      ],
      "metadata": {
        "colab": {
          "base_uri": "https://localhost:8080/"
        },
        "id": "-wpZbmFZlAU5",
        "outputId": "3da50fa4-10a6-43d1-f201-10eee81e8aca"
      },
      "execution_count": null,
      "outputs": [
        {
          "output_type": "execute_result",
          "data": {
            "text/plain": [
              "tensor([ 9., 36.])"
            ]
          },
          "metadata": {},
          "execution_count": 42
        }
      ]
    },
    {
      "cell_type": "code",
      "source": [
        "(float_16_tensor * float_32_tensor).dtype"
      ],
      "metadata": {
        "colab": {
          "base_uri": "https://localhost:8080/"
        },
        "id": "Ikx7FC9zmtmm",
        "outputId": "f3d04734-72f0-4357-d1b2-11535d7dd6f7"
      },
      "execution_count": null,
      "outputs": [
        {
          "output_type": "execute_result",
          "data": {
            "text/plain": [
              "torch.float32"
            ]
          },
          "metadata": {},
          "execution_count": 43
        }
      ]
    },
    {
      "cell_type": "code",
      "source": [
        "# find details about tensor\n",
        "\n",
        "# 1. datatype (.dtype)\n",
        "# 2. shape (or the size() function)\n",
        "# 3. device (.device)"
      ],
      "metadata": {
        "id": "_bfngK9HmweS"
      },
      "execution_count": null,
      "outputs": []
    },
    {
      "cell_type": "code",
      "source": [
        "random_tensor = torch.rand(3,4)"
      ],
      "metadata": {
        "id": "_VHLoTz6KBBS"
      },
      "execution_count": null,
      "outputs": []
    },
    {
      "cell_type": "code",
      "source": [
        "print(random_tensor)\n",
        "print(f\"Datatype of tensor:  {random_tensor.dtype}\")\n",
        "print(f\"Shape of tensor:  {random_tensor.shape}\")\n",
        "print(f\"Size of tensor:  {random_tensor.size()}\")\n",
        "print(f\"Device of tensor:  {random_tensor.device}\")"
      ],
      "metadata": {
        "colab": {
          "base_uri": "https://localhost:8080/"
        },
        "id": "9OHEudwiKLLu",
        "outputId": "4df27d51-867c-4cb3-e84f-1c360178ff0f"
      },
      "execution_count": null,
      "outputs": [
        {
          "output_type": "stream",
          "name": "stdout",
          "text": [
            "tensor([[0.7993, 0.1761, 0.5519, 0.0662],\n",
            "        [0.8823, 0.9089, 0.4655, 0.9872],\n",
            "        [0.6433, 0.2322, 0.1731, 0.8473]])\n",
            "Datatype of tensor:  torch.float32\n",
            "Shape of tensor:  torch.Size([3, 4])\n",
            "Size of tensor:  torch.Size([3, 4])\n",
            "Device of tensor:  cpu\n"
          ]
        }
      ]
    },
    {
      "cell_type": "code",
      "source": [],
      "metadata": {
        "id": "QqtmqVj8KnWO"
      },
      "execution_count": null,
      "outputs": []
    }
  ]
}