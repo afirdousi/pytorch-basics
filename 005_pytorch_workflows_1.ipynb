{
  "nbformat": 4,
  "nbformat_minor": 0,
  "metadata": {
    "colab": {
      "provenance": [],
      "authorship_tag": "ABX9TyOIQzAQpYd8VrQ8jgehB8jy",
      "include_colab_link": true
    },
    "kernelspec": {
      "name": "python3",
      "display_name": "Python 3"
    },
    "language_info": {
      "name": "python"
    }
  },
  "cells": [
    {
      "cell_type": "markdown",
      "metadata": {
        "id": "view-in-github",
        "colab_type": "text"
      },
      "source": [
        "<a href=\"https://colab.research.google.com/github/afirdousi/pytorch-basics/blob/main/005_pytorch_workflows_1.ipynb\" target=\"_parent\"><img src=\"https://colab.research.google.com/assets/colab-badge.svg\" alt=\"Open In Colab\"/></a>"
      ]
    },
    {
      "cell_type": "code",
      "execution_count": 2,
      "metadata": {
        "colab": {
          "base_uri": "https://localhost:8080/"
        },
        "id": "ediZxWb6Vx1q",
        "outputId": "ab67d95b-4e36-4b0c-b8c0-062f2784c853"
      },
      "outputs": [
        {
          "output_type": "stream",
          "name": "stdout",
          "text": [
            "Intro to Pytorch Workflow\n",
            "2.0.1+cu118\n"
          ]
        }
      ],
      "source": [
        "import torch\n",
        "from torch import nn # (https://pytorch.org/docs/stable/nn.html)\n",
        "import matplotlib.pyplot as plt\n",
        "\n",
        "import pandas as pd\n",
        "import numpy as np\n",
        "\n",
        "print(\"Intro to Pytorch Workflow\")\n",
        "print(torch.__version__)"
      ]
    },
    {
      "cell_type": "code",
      "source": [
        "# A PyTorch Workflow\n",
        "\n",
        "# 1. Prepare and load data\n",
        "# 2. Build model\n",
        "# 3. Fit the model (Training)\n",
        "# 4. Making predictions and evaluate\n",
        "# 5. Experimentation (We will cover this later)\n",
        "# 6. Save and load a model\n",
        "# 7. Putting it all together"
      ],
      "metadata": {
        "id": "P2bKqFHFV1jp"
      },
      "execution_count": 3,
      "outputs": []
    },
    {
      "cell_type": "code",
      "source": [
        "# 1. Prepare and load data\n",
        "\n",
        "# Examples of data (excel sheet, images, videos, audio, text, DNA, IOT device signals, log files, event data streams etc )\n",
        "# We need to take this data ------ convert via numerical encoding into ------> numerical represetation"
      ],
      "metadata": {
        "id": "J2o54KsfWdoS"
      },
      "execution_count": 4,
      "outputs": []
    },
    {
      "cell_type": "code",
      "source": [
        "# Linear Regression\n",
        "# Y = mX + b ( X is the explanatory variable, Y is the dependent variable, m is the slope of the line and  b is the intercept i.e value of Y when x=0)"
      ],
      "metadata": {
        "id": "2sWeXPbDW4L6"
      },
      "execution_count": 5,
      "outputs": []
    },
    {
      "cell_type": "code",
      "source": [
        "# Create parameters\n",
        "weight = 0.7 # (m)\n",
        "bias = 0.03 # (b)\n",
        "\n",
        "start = 0\n",
        "end = 1\n",
        "step = 0.02\n",
        "\n",
        "X = torch.arange(start, end, step) # capital X represents a tensor\n",
        "print(X)\n",
        "X = torch.arange(start, end, step).unsqueeze(dim=1) # capital X represents a tensor\n",
        "print(X)"
      ],
      "metadata": {
        "colab": {
          "base_uri": "https://localhost:8080/"
        },
        "id": "v0D3RH3ZXpVs",
        "outputId": "d76dd4db-ea0a-4fa3-989e-9a458bee78fc"
      },
      "execution_count": 6,
      "outputs": [
        {
          "output_type": "stream",
          "name": "stdout",
          "text": [
            "tensor([0.0000, 0.0200, 0.0400, 0.0600, 0.0800, 0.1000, 0.1200, 0.1400, 0.1600,\n",
            "        0.1800, 0.2000, 0.2200, 0.2400, 0.2600, 0.2800, 0.3000, 0.3200, 0.3400,\n",
            "        0.3600, 0.3800, 0.4000, 0.4200, 0.4400, 0.4600, 0.4800, 0.5000, 0.5200,\n",
            "        0.5400, 0.5600, 0.5800, 0.6000, 0.6200, 0.6400, 0.6600, 0.6800, 0.7000,\n",
            "        0.7200, 0.7400, 0.7600, 0.7800, 0.8000, 0.8200, 0.8400, 0.8600, 0.8800,\n",
            "        0.9000, 0.9200, 0.9400, 0.9600, 0.9800])\n",
            "tensor([[0.0000],\n",
            "        [0.0200],\n",
            "        [0.0400],\n",
            "        [0.0600],\n",
            "        [0.0800],\n",
            "        [0.1000],\n",
            "        [0.1200],\n",
            "        [0.1400],\n",
            "        [0.1600],\n",
            "        [0.1800],\n",
            "        [0.2000],\n",
            "        [0.2200],\n",
            "        [0.2400],\n",
            "        [0.2600],\n",
            "        [0.2800],\n",
            "        [0.3000],\n",
            "        [0.3200],\n",
            "        [0.3400],\n",
            "        [0.3600],\n",
            "        [0.3800],\n",
            "        [0.4000],\n",
            "        [0.4200],\n",
            "        [0.4400],\n",
            "        [0.4600],\n",
            "        [0.4800],\n",
            "        [0.5000],\n",
            "        [0.5200],\n",
            "        [0.5400],\n",
            "        [0.5600],\n",
            "        [0.5800],\n",
            "        [0.6000],\n",
            "        [0.6200],\n",
            "        [0.6400],\n",
            "        [0.6600],\n",
            "        [0.6800],\n",
            "        [0.7000],\n",
            "        [0.7200],\n",
            "        [0.7400],\n",
            "        [0.7600],\n",
            "        [0.7800],\n",
            "        [0.8000],\n",
            "        [0.8200],\n",
            "        [0.8400],\n",
            "        [0.8600],\n",
            "        [0.8800],\n",
            "        [0.9000],\n",
            "        [0.9200],\n",
            "        [0.9400],\n",
            "        [0.9600],\n",
            "        [0.9800]])\n"
          ]
        }
      ]
    },
    {
      "cell_type": "code",
      "source": [
        "y = weight * X + bias # this will not always be linear relation\n",
        "\n",
        "# the whole idea of machine learning is to learn a representation of how input maps to the output\n",
        "# weight is how important this particular input is to predict the output"
      ],
      "metadata": {
        "id": "kWf4ybPtYdEb"
      },
      "execution_count": 7,
      "outputs": []
    },
    {
      "cell_type": "code",
      "source": [
        "X[:10], y[:10] # check first 10 of X and y"
      ],
      "metadata": {
        "colab": {
          "base_uri": "https://localhost:8080/"
        },
        "id": "mfHl0F0cYuKL",
        "outputId": "fb40dcfa-b03d-4a1d-bfcb-40fc3a6f2ff0"
      },
      "execution_count": 8,
      "outputs": [
        {
          "output_type": "execute_result",
          "data": {
            "text/plain": [
              "(tensor([[0.0000],\n",
              "         [0.0200],\n",
              "         [0.0400],\n",
              "         [0.0600],\n",
              "         [0.0800],\n",
              "         [0.1000],\n",
              "         [0.1200],\n",
              "         [0.1400],\n",
              "         [0.1600],\n",
              "         [0.1800]]),\n",
              " tensor([[0.0300],\n",
              "         [0.0440],\n",
              "         [0.0580],\n",
              "         [0.0720],\n",
              "         [0.0860],\n",
              "         [0.1000],\n",
              "         [0.1140],\n",
              "         [0.1280],\n",
              "         [0.1420],\n",
              "         [0.1560]]))"
            ]
          },
          "metadata": {},
          "execution_count": 8
        }
      ]
    },
    {
      "cell_type": "code",
      "source": [
        "len(X), len(y)"
      ],
      "metadata": {
        "colab": {
          "base_uri": "https://localhost:8080/"
        },
        "id": "tz63a3lyYuti",
        "outputId": "d0ba9cac-ef7b-4aec-ea6e-77b64592f07f"
      },
      "execution_count": 9,
      "outputs": [
        {
          "output_type": "execute_result",
          "data": {
            "text/plain": [
              "(50, 50)"
            ]
          },
          "metadata": {},
          "execution_count": 9
        }
      ]
    },
    {
      "cell_type": "code",
      "source": [
        "# Split data into train, validation and test sets\n",
        "# Generalization: Ability of ML model to perform well on unseen data\n",
        "# General practice:\n",
        "# ----- Training data 60~80%\n",
        "# ----- Validation data 10~20%  (not always necessary)\n",
        "# ----- Testing data 10~20%"
      ],
      "metadata": {
        "id": "fyQWVtlqZVAn"
      },
      "execution_count": 10,
      "outputs": []
    },
    {
      "cell_type": "code",
      "source": [
        "# Creating  a train and test set\n",
        "train_split = int(0.8 * len(X)) # 80% data for training\n",
        "X_train, y_train = X[:train_split], y[:train_split]\n",
        "X_test, y_test = X[train_split:], y[train_split:]\n",
        "\n",
        "print(f\"train_split\", { train_split })\n",
        "print(f\"len(X_train) \", { len(X_train) })\n",
        "print(f\"len(y_train.len) \", { len(y_train) })\n",
        "print(f\"len(X_test.len) \", { len(X_test) })\n",
        "print(f\"len(X_test.len) \", { len(X_test) })\n",
        "# Here we are manually spliting out data which is strictly sequentual meaning first 80% data point for trainin and last 20% for test,\n",
        "# In real life ML, we want data to be randomize so we get good representation of data in both training and test\n",
        "# We generally use scikit learns's train_test_split https://scikit-learn.org/stable/modules/generated/sklearn.model_selection.train_test_split.html"
      ],
      "metadata": {
        "colab": {
          "base_uri": "https://localhost:8080/"
        },
        "id": "YmFwaqL-Zs08",
        "outputId": "485ac077-e6be-4fb8-8057-c66e77cf12f9"
      },
      "execution_count": 11,
      "outputs": [
        {
          "output_type": "stream",
          "name": "stdout",
          "text": [
            "train_split {40}\n",
            "len(X_train)  {40}\n",
            "len(y_train.len)  {40}\n",
            "len(X_test.len)  {10}\n",
            "len(X_test.len)  {10}\n"
          ]
        }
      ]
    },
    {
      "cell_type": "code",
      "source": [
        "# Visualize our data\n",
        "\n",
        "def plot_predictions(train_data=X_train,\n",
        "                     train_labels=y_train,\n",
        "                     test_data=X_test,\n",
        "                     test_labels=y_test,\n",
        "                     predictions=None):\n",
        "  \"\"\"\n",
        "  Plots training and test data and compares predictions\n",
        "  \"\"\"\n",
        "\n",
        "  plt.figure(figsize=(5,5))\n",
        "\n",
        "  # Plot training data in blue\n",
        "  plt.scatter(train_data, train_labels, c=\"b\", s=4, label=\"Training data\") # https://matplotlib.org/stable/api/_as_gen/matplotlib.pyplot.scatter.html\n",
        "\n",
        "  # Plot test data in green\n",
        "  plt.scatter(test_data, test_labels, c=\"g\", s=4, label=\"Testing data\")\n",
        "\n",
        "  # Are there predictions\n",
        "  if predictions is not None:\n",
        "    # plot predictions if they exist\n",
        "    plt.scatter(test_data, predictions,  c=\"r\", s=4, label=\"Predictions\")\n",
        "\n",
        "\n",
        "  # Show legends\n",
        "  plt.legend(prop={\"size\": 14})"
      ],
      "metadata": {
        "id": "gGxzAZlKauD9"
      },
      "execution_count": 14,
      "outputs": []
    },
    {
      "cell_type": "code",
      "source": [
        "plot_predictions()"
      ],
      "metadata": {
        "colab": {
          "base_uri": "https://localhost:8080/",
          "height": 445
        },
        "id": "DobeoknfcsTb",
        "outputId": "41b3902e-1d6c-4b47-a627-789535e44cf3"
      },
      "execution_count": 15,
      "outputs": [
        {
          "output_type": "display_data",
          "data": {
            "text/plain": [
              "<Figure size 500x500 with 1 Axes>"
            ],
            "image/png": "[encoded data removed]"
          },
          "metadata": {}
        }
      ]
    }
  ]
}